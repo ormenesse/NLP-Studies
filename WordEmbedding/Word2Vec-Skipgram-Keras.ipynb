{
 "cells": [
  {
   "cell_type": "code",
   "execution_count": 3,
   "metadata": {},
   "outputs": [],
   "source": [
    "import tensorflow as tf"
   ]
  },
  {
   "cell_type": "code",
   "execution_count": 8,
   "metadata": {},
   "outputs": [],
   "source": [
    "import numpy as np\n",
    "from tensorflow.python.keras.models import Sequential, Model\n",
    "from tensorflow.python.keras.layers import Embedding, Reshape, Activation, Input\n",
    "from tensorflow.python.keras.layers.merge import Dot\n",
    "from tensorflow.python.keras.utils import np_utils\n",
    "from tensorflow.python.keras.utils.data_utils import get_file\n",
    "from tensorflow.python.keras.preprocessing.text import Tokenizer\n",
    "from tensorflow.python.keras.preprocessing.sequence import skipgrams\n",
    "import gensim"
   ]
  },
  {
   "cell_type": "code",
   "execution_count": 10,
   "metadata": {},
   "outputs": [],
   "source": [
    "from string import punctuation\n",
    "from nltk.corpus import stopwords\n",
    "from nltk.tokenize import word_tokenize\n",
    "from nltk.tokenize import sent_tokenize\n",
    "from nltk.stem import WordNetLemmatizer"
   ]
  },
  {
   "cell_type": "code",
   "execution_count": 11,
   "metadata": {},
   "outputs": [],
   "source": [
    "remove_terms = punctuation + '0123456789'"
   ]
  },
  {
   "cell_type": "code",
   "execution_count": 28,
   "metadata": {},
   "outputs": [],
   "source": [
    "def preprocessing(text):\n",
    "    words = word_tokenize(text)\n",
    "    tokens = [w for w in words if w.lower() not in remove_terms]\n",
    "    # stopw = stopwords.words('english')\n",
    "    # tokens = [token for token in tokens if token not in stopw]\n",
    "    # remove words less than three letters\n",
    "    # token = [word for word in tokens if len(word) >= 3]\n",
    "    # remove remaining tokens that are not alphabetic\n",
    "    tokens = [word for word in tokens if word.isalpha()]\n",
    "    #lemmanize\n",
    "    lemma = WordNetLemmatizer()\n",
    "    tokens = [lemma.lemmatize(word) for word in tokens]\n",
    "    preprocessed_text = ' '.join(tokens)\n",
    "    return preprocessed_text"
   ]
  },
  {
   "cell_type": "code",
   "execution_count": 26,
   "metadata": {},
   "outputs": [
    {
     "name": "stderr",
     "output_type": "stream",
     "text": [
      "[nltk_data] Downloading package punkt to\n",
      "[nltk_data]     C:\\Users\\vorme\\AppData\\Roaming\\nltk_data...\n",
      "[nltk_data]   Unzipping tokenizers\\punkt.zip.\n"
     ]
    },
    {
     "data": {
      "text/plain": [
       "True"
      ]
     },
     "execution_count": 26,
     "metadata": {},
     "output_type": "execute_result"
    }
   ],
   "source": [
    "import nltk\n",
    "nltk.download('punkt')"
   ]
  },
  {
   "cell_type": "code",
   "execution_count": 30,
   "metadata": {},
   "outputs": [
    {
     "name": "stderr",
     "output_type": "stream",
     "text": [
      "[nltk_data] Downloading package wordnet to\n",
      "[nltk_data]     C:\\Users\\vorme\\AppData\\Roaming\\nltk_data...\n",
      "[nltk_data]   Unzipping corpora\\wordnet.zip.\n"
     ]
    },
    {
     "data": {
      "text/plain": [
       "True"
      ]
     },
     "execution_count": 30,
     "metadata": {},
     "output_type": "execute_result"
    }
   ],
   "source": [
    "nltk.download('wordnet')"
   ]
  },
  {
   "cell_type": "markdown",
   "metadata": {},
   "source": [
    "## Downloading Book"
   ]
  },
  {
   "cell_type": "code",
   "execution_count": 14,
   "metadata": {},
   "outputs": [
    {
     "name": "stdout",
     "output_type": "stream",
     "text": [
      "Downloading data from http://gutenberg.org/files/8172/8172-0.txt\n",
      "286720/279075 [==============================] - 1s 2us/step\n"
     ]
    }
   ],
   "source": [
    "path = get_file('cosmos.txt',origin='http://gutenberg.org/files/8172/8172-0.txt')\n",
    "# or \n",
    "# corpus = open('historyOfAstronomy.txt',encoding='utf8').readlines()"
   ]
  },
  {
   "cell_type": "code",
   "execution_count": 19,
   "metadata": {},
   "outputs": [],
   "source": [
    "corpus = open('historyOfAstronomy.txt',encoding='utf8').readlines()"
   ]
  },
  {
   "cell_type": "code",
   "execution_count": 33,
   "metadata": {},
   "outputs": [],
   "source": [
    "corpus = [preprocessing(t) for t in corpus if t.strip() != '']"
   ]
  },
  {
   "cell_type": "code",
   "execution_count": 34,
   "metadata": {},
   "outputs": [],
   "source": [
    "tokenizer = Tokenizer()\n",
    "tokenizer.fit_on_texts(corpus)"
   ]
  },
  {
   "cell_type": "code",
   "execution_count": 38,
   "metadata": {},
   "outputs": [],
   "source": [
    "X_train_tokens = tokenizer.texts_to_sequences(corpus)"
   ]
  },
  {
   "cell_type": "code",
   "execution_count": 39,
   "metadata": {},
   "outputs": [],
   "source": [
    "vocab_size = len(tokenizer.word_index) + 1"
   ]
  },
  {
   "cell_type": "code",
   "execution_count": 41,
   "metadata": {},
   "outputs": [
    {
     "data": {
      "text/plain": [
       "4723"
      ]
     },
     "execution_count": 41,
     "metadata": {},
     "output_type": "execute_result"
    }
   ],
   "source": [
    "len(tokenizer.word_index)+1"
   ]
  },
  {
   "cell_type": "code",
   "execution_count": 42,
   "metadata": {},
   "outputs": [],
   "source": [
    "items = tokenizer.word_index.items()"
   ]
  },
  {
   "cell_type": "code",
   "execution_count": 48,
   "metadata": {
    "scrolled": true
   },
   "outputs": [
    {
     "data": {
      "text/plain": [
       "dict_items([('the', 1), ('of', 2), ('and', 3), ('a', 4), ('to', 5), ('in', 6), ('that', 7), ('by', 8), ('it', 9), ('wa', 10), ('is', 11), ('he', 12), ('s', 13), ('be', 14), ('with', 15), ('this', 16), ('for', 17), ('his', 18), ('at', 19), ('on', 20), ('which', 21), ('from', 22), ('star', 23), ('been', 24), ('or', 25), ('have', 26), ('not', 27), ('but', 28), ('sun', 29), ('these', 30), ('ha', 31), ('all', 32), ('an', 33), ('motion', 34), ('are', 35), ('work', 36), ('observation', 37), ('were', 38), ('earth', 39), ('planet', 40), ('one', 41), ('had', 42), ('found', 43), ('year', 44), ('great', 45), ('time', 46), ('moon', 47), ('their', 48), ('so', 49), ('line', 50), ('project', 51), ('orbit', 52), ('law', 53), ('when', 54), ('made', 55), ('we', 56), ('no', 57), ('about', 58), ('other', 59), ('theory', 60), ('solar', 61), ('same', 62), ('any', 63), ('also', 64), ('first', 65), ('astronomy', 66), ('you', 67), ('comet', 68), ('new', 69), ('discovery', 70), ('there', 71), ('if', 72), ('more', 73), ('may', 74), ('system', 75), ('astronomer', 76), ('distance', 77), ('they', 78), ('part', 79), ('only', 80), ('newton', 81), ('who', 82), ('period', 83), ('some', 84), ('most', 85), ('day', 86), ('many', 87), ('must', 88), ('spectrum', 89), ('light', 90), ('kepler', 91), ('than', 92), ('telescope', 93), ('can', 94), ('now', 95), ('being', 96), ('would', 97), ('him', 98), ('position', 99), ('used', 100), ('then', 101), ('two', 102), ('each', 103), ('instrument', 104), ('could', 105), ('such', 106), ('date', 107), ('fact', 108), ('upon', 109), ('out', 110), ('use', 111), ('tycho', 112), ('much', 113), ('them', 114), ('those', 115), ('very', 116), ('after', 117), ('discovered', 118), ('our', 119), ('eclipse', 120), ('satellite', 121), ('mean', 122), ('century', 123), ('jupiter', 124), ('herschel', 125), ('book', 126), ('into', 127), ('like', 128), ('sir', 129), ('copernicus', 130), ('point', 131), ('observatory', 132), ('u', 133), ('spot', 134), ('different', 135), ('do', 136), ('over', 137), ('fixed', 138), ('second', 139), ('parallax', 140), ('mile', 141), ('body', 142), ('between', 143), ('seen', 144), ('result', 145), ('round', 146), ('centre', 147), ('before', 148), ('gravitation', 149), ('lunar', 150), ('true', 151), ('le', 152), ('method', 153), ('up', 154), ('case', 155), ('table', 156), ('observed', 157), ('number', 158), ('brahe', 159), ('velocity', 160), ('history', 161), ('ever', 162), ('thus', 163), ('until', 164), ('gutenberg', 165), ('astronomical', 166), ('others', 167), ('led', 168), ('place', 169), ('de', 170), ('accurate', 171), ('way', 172), ('long', 173), ('known', 174), ('having', 175), ('force', 176), ('give', 177), ('galileo', 178), ('direction', 179), ('cause', 180), ('make', 181), ('value', 182), ('view', 183), ('see', 184), ('planetary', 185), ('both', 186), ('foundation', 187), ('since', 188), ('through', 189), ('said', 190), ('mars', 191), ('epicycle', 192), ('surface', 193), ('called', 194), ('science', 195), ('record', 196), ('given', 197), ('due', 198), ('heaven', 199), ('later', 200), ('proper', 201), ('will', 202), ('diameter', 203), ('another', 204), ('electronic', 205), ('ancient', 206), ('physical', 207), ('knowledge', 208), ('ecliptic', 209), ('did', 210), ('always', 211), ('supposed', 212), ('royal', 213), ('error', 214), ('set', 215), ('far', 216), ('while', 217), ('proved', 218), ('ring', 219), ('still', 220), ('photography', 221), ('full', 222), ('copy', 223), ('term', 224), ('three', 225), ('whose', 226), ('during', 227), ('effect', 228), ('modern', 229), ('rotation', 230), ('saturn', 231), ('adams', 232), ('even', 233), ('again', 234), ('research', 235), ('name', 236), ('chinese', 237), ('mass', 238), ('circle', 239), ('form', 240), ('showing', 241), ('uranus', 242), ('spectroscope', 243), ('find', 244), ('measured', 245), ('explain', 246), ('hypothesis', 247), ('airy', 248), ('own', 249), ('seems', 250), ('well', 251), ('plane', 252), ('four', 253), ('catalogue', 254), ('end', 255), ('element', 256), ('world', 257), ('object', 258), ('d', 259), ('without', 260), ('space', 261), ('gave', 262), ('halley', 263), ('generally', 264), ('vol', 265), ('every', 266), ('pole', 267), ('state', 268), ('held', 269), ('calculation', 270), ('noticed', 271), ('explanation', 272), ('large', 273), ('photograph', 274), ('using', 275), ('thought', 276), ('progress', 277), ('seem', 278), ('among', 279), ('man', 280), ('last', 281), ('established', 282), ('near', 283), ('revolution', 284), ('best', 285), ('sight', 286), ('greenwich', 287), ('good', 288), ('including', 289), ('photographic', 290), ('agreement', 291), ('copyright', 292), ('where', 293), ('verrier', 294), ('sphere', 295), ('might', 296), ('idea', 297), ('old', 298), ('heavenly', 299), ('published', 300), ('born', 301), ('showed', 302), ('certain', 303), ('already', 304), ('bright', 305), ('transit', 306), ('venus', 307), ('problem', 308), ('know', 309), ('greatest', 310), ('hipparchus', 311), ('circular', 312), ('seemed', 313), ('opinion', 314), ('saw', 315), ('mercury', 316), ('added', 317), ('uniform', 318), ('minute', 319), ('never', 320), ('subject', 321), ('photographed', 322), ('small', 323), ('atmosphere', 324), ('nebula', 325), ('united', 326), ('states', 327), ('almost', 328), ('under', 329), ('laplace', 330), ('mathematical', 331), ('investigation', 332), ('her', 333), ('taken', 334), ('interesting', 335), ('especially', 336), ('information', 337), ('month', 338), ('show', 339), ('here', 340), ('accepted', 341), ('continuous', 342), ('often', 343), ('inequality', 344), ('opposition', 345), ('died', 346), ('shown', 347), ('image', 348), ('red', 349), ('license', 350), ('ptolemy', 351), ('universal', 352), ('age', 353), ('except', 354), ('how', 355), ('present', 356), ('little', 357), ('confirmed', 358), ('invented', 359), ('appear', 360), ('further', 361), ('matter', 362), ('hour', 363), ('retrograde', 364), ('agree', 365), ('received', 366), ('stellar', 367), ('foot', 368), ('nearly', 369), ('gill', 370), ('dark', 371), ('colour', 372), ('produced', 373), ('nebulæ', 374), ('size', 375), ('equal', 376), ('required', 377), ('himself', 378), ('writer', 379), ('accuracy', 380), ('change', 381), ('came', 382), ('recorded', 383), ('meteor', 384), ('say', 385), ('able', 386), ('enabled', 387), ('few', 388), ('length', 389), ('above', 390), ('footnotes', 391), ('section', 392), ('similar', 393), ('just', 394), ('once', 395), ('interval', 396), ('what', 397), ('return', 398), ('apparent', 399), ('done', 400), ('six', 401), ('angle', 402), ('observer', 403), ('phil', 404), ('drawing', 405), ('whole', 406), ('plate', 407), ('cape', 408), ('hydrogen', 409), ('cassini', 410), ('paragraph', 411), ('ebook', 412), ('illustration', 413), ('human', 414), ('exact', 415), ('hope', 416), ('interest', 417), ('read', 418), ('original', 419), ('principle', 420), ('rule', 421), ('course', 422), ('annual', 423), ('suggested', 424), ('night', 425), ('became', 426), ('principal', 427), ('because', 428), ('move', 429), ('movement', 430), ('explained', 431), ('axis', 432), ('arc', 433), ('clock', 434), ('focus', 435), ('variation', 436), ('kind', 437), ('within', 438), ('zenith', 439), ('huggins', 440), ('literary', 441), ('archive', 442), ('donation', 443), ('complete', 444), ('increased', 445), ('men', 446), ('short', 447), ('path', 448), ('power', 449), ('event', 450), ('universe', 451), ('fall', 452), ('possible', 453), ('node', 454), ('too', 455), ('probably', 456), ('off', 457), ('nothing', 458), ('revolve', 459), ('described', 460), ('revolving', 461), ('real', 462), ('should', 463), ('latitude', 464), ('compared', 465), ('quite', 466), ('purpose', 467), ('placed', 468), ('though', 469), ('took', 470), ('applied', 471), ('variable', 472), ('right', 473), ('general', 474), ('amount', 475), ('neptune', 476), ('magnitude', 477), ('double', 478), ('bradley', 479), ('slit', 480), ('fee', 481), ('professor', 482), ('dynamical', 483), ('intellectual', 484), ('limited', 485), ('nor', 486), ('however', 487), ('doe', 488), ('statement', 489), ('people', 490), ('as', 491), ('speculation', 492), ('follow', 493), ('written', 494), ('deal', 495), ('conception', 496), ('connection', 497), ('appearance', 498), ('fine', 499), ('reason', 500), ('terrestrial', 501), ('back', 502), ('effort', 503), ('rise', 504), ('comparing', 505), ('bear', 506), ('drawn', 507), ('five', 508), ('visible', 509), ('approach', 510), ('half', 511), ('recognised', 512), ('study', 513), ('seventh', 514), ('studied', 515), ('introduced', 516), ('greater', 517), ('least', 518), ('radius', 519), ('measurement', 520), ('irregularity', 521), ('several', 522), ('proof', 523), ('detected', 524), ('composed', 525), ('life', 526), ('quadrant', 527), ('huyghens', 528), ('paris', 529), ('permission', 530), ('band', 531), ('trademark', 532), ('george', 533), ('isaac', 534), ('gravity', 535), ('trace', 536), ('meaning', 537), ('c', 538), ('writing', 539), ('necessary', 540), ('side', 541), ('lead', 542), ('death', 543), ('display', 544), ('longitude', 545), ('extended', 546), ('conclusion', 547), ('equator', 548), ('beginning', 549), ('began', 550), ('following', 551), ('particle', 552), ('unit', 553), ('containing', 554), ('society', 555), ('yet', 556), ('degree', 557), ('equinox', 558), ('although', 559), ('failed', 560), ('next', 561), ('grant', 562), ('supported', 563), ('put', 564), ('phase', 565), ('pythagoras', 566), ('stone', 567), ('forth', 568), ('excentric', 569), ('rate', 570), ('opposite', 571), ('actually', 572), ('splendid', 573), ('exactly', 574), ('data', 575), ('hundred', 576), ('paper', 577), ('lens', 578), ('disc', 579), ('down', 580), ('medium', 581), ('apple', 582), ('free', 583), ('perturbation', 584), ('associated', 585), ('perihelion', 586), ('unknown', 587), ('william', 588), ('edge', 589), ('prominence', 590), ('type', 591), ('gas', 592), ('sirius', 593), ('class', 594), ('access', 595), ('refund', 596), ('away', 597), ('included', 598), ('character', 599), ('cambridge', 600), ('geometrical', 601), ('greek', 602), ('euler', 603), ('piazzi', 604), ('practical', 605), ('provided', 606), ('invention', 607), ('mathematics', 608), ('b', 609), ('reader', 610), ('shape', 611), ('noted', 612), ('soon', 613), ('search', 614), ('sometimes', 615), ('shower', 616), ('remarkable', 617), ('working', 618), ('la', 619), ('scientific', 620), ('greeks', 621), ('correct', 622), ('obtained', 623), ('traced', 624), ('egyptian', 625), ('difficulty', 626), ('doubt', 627), ('difficult', 628), ('owing', 629), ('proposed', 630), ('supplied', 631), ('afterwards', 632), ('together', 633), ('brightness', 634), ('certainly', 635), ('cycle', 636), ('john', 637), ('thing', 638), ('relation', 639), ('determined', 640), ('deduced', 641), ('relative', 642), ('orbital', 643), ('attraction', 644), ('invisible', 645), ('nearest', 646), ('besides', 647), ('ought', 648), ('test', 649), ('attention', 650), ('word', 651), ('support', 652), ('eye', 653), ('november', 654), ('really', 655), ('experiment', 656), ('hand', 657), ('nebular', 658), ('succeeded', 659), ('maximum', 660), ('david', 661), ('total', 662), ('challis', 663), ('equatoreal', 664), ('reflector', 665), ('note', 666), ('frauenhofer', 667), ('white', 668), ('distribution', 669), ('corona', 670), ('binary', 671), ('your', 672), ('located', 673), ('i', 674), ('lagrange', 675), ('page', 676), ('evolution', 677), ('reasoning', 678), ('mind', 679), ('accept', 680), ('art', 681), ('individual', 682), ('let', 683), ('high', 684), ('egypt', 685), ('highest', 686), ('hind', 687), ('inclination', 688), ('vault', 689), ('step', 690), ('spherical', 691), ('prediction', 692), ('fix', 693), ('lately', 694), ('father', 695), ('referred', 696), ('account', 697), ('adopted', 698), ('divided', 699), ('become', 700), ('either', 701), ('third', 702), ('developed', 703), ('carried', 704), ('predicted', 705), ('flat', 706), ('water', 707), ('ratio', 708), ('left', 709), ('wrote', 710), ('minor', 711), ('existence', 712), ('southern', 713), ('perhaps', 714), ('difference', 715), ('appeared', 716), ('inclined', 717), ('passage', 718), ('ground', 719), ('early', 720), ('apse', 721), ('according', 722), ('sixth', 723), ('various', 724), ('labour', 725), ('distant', 726), ('nineteenth', 727), ('impossible', 728), ('square', 729), ('attracted', 730), ('combined', 731), ('black', 732), ('telescopic', 733), ('flamsteed', 734), ('measure', 735), ('partly', 736), ('belt', 737), ('completed', 738), ('agreeing', 739), ('towards', 740), ('luminous', 741), ('aberration', 742), ('refractor', 743), ('cloud', 744), ('wolf', 745), ('crater', 746), ('α', 747), ('companion', 748), ('forbes', 749), ('anyone', 750), ('author', 751), ('natural', 752), ('chaldæans', 753), ('attempt', 754), ('aristotle', 755), ('expressed', 756), ('process', 757), ('founded', 758), ('solid', 759), ('tried', 760), ('addition', 761), ('moving', 762), ('actual', 763), ('making', 764), ('stage', 765), ('development', 766), ('predicting', 767), ('heat', 768), ('conjunction', 769), ('rue', 770), ('belief', 771), ('lord', 772), ('cowell', 773), ('acceleration', 774), ('shadow', 775), ('historian', 776), ('egyptians', 777), ('get', 778), ('observing', 779), ('constellation', 780), ('example', 781), ('calendar', 782), ('monthly', 783), ('collection', 784), ('clear', 785), ('question', 786), ('delambre', 787), ('got', 788), ('stated', 789), ('notice', 790), ('fifth', 791), ('chance', 792), ('probable', 793), ('nineteen', 794), ('successor', 795), ('going', 796), ('excellent', 797), ('common', 798), ('january', 799), ('separate', 800), ('attributed', 801), ('reference', 802), ('london', 803), ('proceeded', 804), ('face', 805), ('deferent', 806), ('finding', 807), ('increase', 808), ('reading', 809), ('previous', 810), ('truth', 811), ('portion', 812), ('physic', 813), ('lost', 814), ('numerous', 815), ('skill', 816), ('metal', 817), ('pointer', 818), ('measuring', 819), ('elliptic', 820), ('outside', 821), ('ellipse', 822), ('giving', 823), ('followed', 824), ('pair', 825), ('field', 826), ('equally', 827), ('calculated', 828), ('indicated', 829), ('indicating', 830), ('its', 831), ('suspicion', 832), ('success', 833), ('lalande', 834), ('triumph', 835), ('bessel', 836), ('september', 837), ('reduced', 838), ('chart', 839), ('august', 840), ('paid', 841), ('glass', 842), ('focal', 843), ('behind', 844), ('lick', 845), ('heliometer', 846), ('displacement', 847), ('struve', 848), ('mountain', 849), ('spectroscopic', 850), ('calcium', 851), ('distributing', 852), ('charge', 853), ('ebooks', 854), ('provide', 855), ('tax', 856), ('cost', 857), ('online', 858), ('country', 859), ('march', 860), ('distributed', 861), ('astrology', 862), ('horrocks', 863), ('logic', 864), ('go', 865), ('ocean', 866), ('lay', 867), ('enough', 868), ('spirit', 869), ('certainty', 870), ('race', 871), ('action', 872), ('attack', 873), ('regard', 874), ('influence', 875), ('desire', 876), ('recording', 877), ('member', 878), ('why', 879), ('notion', 880), ('translated', 881), ('west', 882), ('east', 883), ('suppose', 884), ('important', 885), ('nation', 886), ('celestial', 887), ('mentioned', 888), ('occupied', 889), ('revolves', 890), ('library', 891), ('eighth', 892), ('determining', 893), ('phenomenon', 894), ('seventeenth', 895), ('went', 896), ('correctly', 897), ('perfect', 898), ('itself', 899), ('founder', 900), ('obvious', 901), ('plato', 902), ('resolved', 903), ('assigned', 904), ('remained', 905), ('rest', 906), ('authority', 907), ('better', 908), ('pas', 909), ('determination', 910), ('meridian', 911), ('compute', 912), ('special', 913), ('changed', 914), ('precession', 915), ('nine', 916), ('feature', 917), ('appears', 918), ('evidence', 919), ('bar', 920), ('periodic', 921), ('told', 922), ('definition', 923), ('constant', 924), ('europe', 925), ('realised', 926), ('latter', 927), ('defect', 928), ('simple', 929), ('whether', 930), ('absence', 931), ('church', 932), ('paul', 933), ('portrait', 934), ('wall', 935), ('figure', 936), ('edinburgh', 937), ('armillae', 938), ('mural', 939), ('globe', 940), ('future', 941), ('refraction', 942), ('worked', 943), ('help', 944), ('proposition', 945), ('final', 946), ('twenty', 947), ('come', 948), ('collected', 949), ('branch', 950), ('indicate', 951), ('french', 952), ('reflecting', 953), ('serious', 954), ('universality', 955), ('specially', 956), ('announced', 957), ('prize', 958), ('providing', 959), ('striking', 960), ('identified', 961), ('larger', 962), ('bode', 963), ('asteroid', 964), ('particular', 965), ('detail', 966), ('peking', 967), ('inch', 968), ('speculum', 969), ('james', 970), ('faint', 971), ('named', 972), ('unless', 973), ('clark', 974), ('yellow', 975), ('temperature', 976), ('recession', 977), ('encke', 978), ('exposure', 979), ('kapteyn', 980), ('format', 981), ('distribute', 982), ('comply', 983), ('volunteer', 984), ('check', 985), ('charles', 986), ('college', 987), ('anderson', 988), ('etc', 989), ('theoretical', 990), ('imagination', 991), ('understand', 992), ('train', 993), ('analysis', 994), ('enable', 995), ('identical', 996), ('intellect', 997), ('limitation', 998), ('directly', 999), ('comparison', 1000), ('wonder', 1001), ('built', 1002), ('sure', 1003), ('allowed', 1004), ('leaving', 1005), ('experience', 1006), ('irregular', 1007), ('loewy', 1008), ('owe', 1009), ('fire', 1010), ('chaldæan', 1011), ('examined', 1012), ('brick', 1013), ('obliquity', 1014), ('summer', 1015), ('believe', 1016), ('instead', 1017), ('independently', 1018), ('british', 1019), ('e', 1020), ('priest', 1021), ('eighteenth', 1022), ('entirely', 1023), ('february', 1024), ('order', 1025), ('learn', 1026), ('easily', 1027), ('lunation', 1028), ('modification', 1029), ('duty', 1030), ('available', 1031), ('list', 1032), ('derived', 1033), ('keep', 1034), ('fourth', 1035), ('cut', 1036), ('ten', 1037), ('sixteenth', 1038), ('claimed', 1039), ('revived', 1040), ('farther', 1041), ('air', 1042), ('rapid', 1043), ('socrates', 1044), ('extent', 1045), ('valuable', 1046), ('aristarchus', 1047), ('alexandria', 1048), ('agreed', 1049), ('pass', 1050), ('computed', 1051), ('disappeared', 1052), ('take', 1053), ('γ', 1054), ('deep', 1055), ('pleiades', 1056), ('rising', 1057), ('beyond', 1058), ('additional', 1059), ('passing', 1060), ('improved', 1061), ('involved', 1062), ('careful', 1063), ('tenth', 1064), ('meanwhile', 1065), ('close', 1066), ('employed', 1067), ('computer', 1068), ('devoted', 1069), ('accurately', 1070), ('printed', 1071), ('nearer', 1072), ('structure', 1073), ('conviction', 1074), ('association', 1075), ('passed', 1076), ('started', 1077), ('wrong', 1078), ('assistant', 1079), ('else', 1080), ('claim', 1081), ('originated', 1082), ('reduction', 1083), ('minimum', 1084), ('standard', 1085), ('observe', 1086), ('copernican', 1087), ('bound', 1088), ('against', 1089), ('reducing', 1090), ('eight', 1091), ('nova', 1092), ('discover', 1093), ('dynamic', 1094), ('acting', 1095), ('property', 1096), ('thrown', 1097), ('resisting', 1098), ('pendulum', 1099), ('whom', 1100), ('friend', 1101), ('spread', 1102), ('academy', 1103), ('across', 1104), ('wonderful', 1105), ('per', 1106), ('computing', 1107), ('calculate', 1108), ('brewster', 1109), ('origin', 1110), ('depend', 1111), ('parabolic', 1112), ('april', 1113), ('aid', 1114), ('engaged', 1115), ('disturbance', 1116), ('lassel', 1117), ('magnetic', 1118), ('micrometer', 1119), ('south', 1120), ('obtain', 1121), ('majesty', 1122), ('henry', 1123), ('jansen', 1124), ('dispersion', 1125), ('gregory', 1126), ('prism', 1127), ('violet', 1128), ('marked', 1129), ('flame', 1130), ('sodium', 1131), ('absorption', 1132), ('chemistry', 1133), ('fabricius', 1134), ('faculæ', 1135), ('wilson', 1136), ('group', 1137), ('k', 1138), ('lockyer', 1139), ('wide', 1140), ('w', 1141), ('beer', 1142), ('mädler', 1143), ('canal', 1144), ('barnard', 1145), ('cometary', 1146), ('cluster', 1147), ('algol', 1148), ('address', 1149), ('edition', 1150), ('protected', 1151), ('royalty', 1152), ('compliance', 1153), ('web', 1154), ('owner', 1155), ('replacement', 1156), ('primitive', 1157), ('reign', 1158), ('ii', 1159), ('iii', 1160), ('instruments', 1161), ('planets', 1162), ('comets', 1163), ('credit', 1164), ('something', 1165), ('essential', 1166), ('tracing', 1167), ('describe', 1168), ('accumulation', 1169), ('capacity', 1170), ('demonstration', 1171), ('imagined', 1172), ('solved', 1173), ('reflection', 1174), ('mere', 1175), ('hopeless', 1176), ('learning', 1177), ('remains', 1178), ('brilliant', 1179), ('based', 1180), ('act', 1181), ('weather', 1182), ('war', 1183), ('sign', 1184), ('looked', 1185), ('condition', 1186), ('stewart', 1187), ('storm', 1188), ('helped', 1189), ('mark', 1190), ('precision', 1191), ('slowly', 1192), ('vertical', 1193), ('thousand', 1194), ('winter', 1195), ('met', 1196), ('babylonians', 1197), ('traveller', 1198), ('look', 1199), ('hemisphere', 1200), ('turned', 1201), ('hollow', 1202), ('carrying', 1203), ('blue', 1204), ('diurnal', 1205), ('useful', 1206), ('tablet', 1207), ('rendering', 1208), ('immediately', 1209), ('bailly', 1210), ('babylon', 1211), ('emperor', 1212), ('yao', 1213), ('p', 1214), ('confirmation', 1215), ('solstice', 1216), ('season', 1217), ('created', 1218), ('fair', 1219), ('burnt', 1220), ('late', 1221), ('thales', 1222), ('apparently', 1223), ('central', 1224), ('thirty', 1225), ('prevent', 1226), ('twelve', 1227), ('seven', 1228), ('callippus', 1229), ('sound', 1230), ('component', 1231), ('rather', 1232), ('considered', 1233), ('till', 1234), ('newtonian', 1235), ('disturbing', 1236), ('totally', 1237), ('pyramid', 1238), ('north', 1239), ('accordance', 1240), ('hercules', 1241), ('setting', 1242), ('sea', 1243), ('assist', 1244), ('approximate', 1245), ('includes', 1246), ('sort', 1247), ('demand', 1248), ('onwards', 1249), ('smaller', 1250), ('king', 1251), ('ascribed', 1252), ('supposition', 1253), ('neither', 1254), ('explaining', 1255), ('straight', 1256), ('dreyer', 1257), ('none', 1258), ('cautious', 1259), ('spoken', 1260), ('easy', 1261), ('expected', 1262), ('receive', 1263), ('formed', 1264), ('laid', 1265), ('taking', 1266), ('constructed', 1267), ('painted', 1268), ('extension', 1269), ('island', 1270), ('wood', 1271), ('designed', 1272), ('lived', 1273), ('graduation', 1274), ('mounting', 1275), ('depends', 1276), ('area', 1277), ('simply', 1278), ('ascension', 1279), ('angular', 1280), ('incredible', 1281), ('permanent', 1282), ('altitude', 1283), ('obtaining', 1284), ('altazimuth', 1285), ('manner', 1286), ('friction', 1287), ('eventually', 1288), ('opposed', 1289), ('asked', 1290), ('johannes', 1291), ('fifteen', 1292), ('amounting', 1293), ('guess', 1294), ('opened', 1295), ('delight', 1296), ('turn', 1297), ('fundamental', 1298), ('hold', 1299), ('concentric', 1300), ('sweep', 1301), ('beauty', 1302), ('directed', 1303), ('gilbert', 1304), ('tide', 1305), ('arrived', 1306), ('convex', 1307), ('wire', 1308), ('cone', 1309), ('milky', 1310), ('rome', 1311), ('argument', 1312), ('grand', 1313), ('avoid', 1314), ('applicable', 1315), ('application', 1316), ('considerable', 1317), ('likely', 1318), ('fourteen', 1319), ('hooke', 1320), ('reach', 1321), ('draw', 1322), ('clearly', 1323), ('tree', 1324), ('she', 1325), ('discrepancy', 1326), ('picard', 1327), ('apply', 1328), ('consequence', 1329), ('mutual', 1330), ('average', 1331), ('clairaut', 1332), ('reached', 1333), ('stolen', 1334), ('closely', 1335), ('suggestion', 1336), ('offered', 1337), ('week', 1338), ('finally', 1339), ('region', 1340), ('removed', 1341), ('gauss', 1342), ('examining', 1343), ('lexell', 1344), ('discoverer', 1345), ('ray', 1346), ('olbers', 1347), ('whence', 1348), ('earlier', 1349), ('share', 1350), ('rigid', 1351), ('largest', 1352), ('kew', 1353), ('maskelyne', 1354), ('troughton', 1355), ('laborious', 1356), ('eleven', 1357), ('melotte', 1358), ('opportunity', 1359), ('fizeau', 1360), ('pointed', 1361), ('throw', 1362), ('scheiner', 1363), ('achromatic', 1364), ('hall', 1365), ('chicago', 1366), ('grubb', 1367), ('liquid', 1368), ('pressure', 1369), ('salt', 1370), ('vapour', 1371), ('vogel', 1372), ('approaching', 1373), ('limb', 1374), ('defective', 1375), ('want', 1376), ('miss', 1377), ('below', 1378), ('zone', 1379), ('carrington', 1380), ('bond', 1381), ('vast', 1382), ('enlarged', 1383), ('material', 1384), ('map', 1385), ('nebulous', 1386), ('reflected', 1387), ('helium', 1388), ('schiaparelli', 1389), ('lowell', 1390), ('peters', 1391), ('centauri', 1392), ('cygni', 1393), ('procyon', 1394), ('file', 1395), ('creating', 1396), ('copying', 1397), ('mission', 1398), ('phrase', 1399), ('person', 1400), ('displaying', 1401), ('freely', 1402), ('status', 1403), ('posted', 1404), ('holder', 1405), ('requirement', 1406), ('site', 1407), ('contact', 1408), ('damage', 1409), ('disclaimer', 1410), ('title', 1411), ('june', 1412), ('language', 1413), ('start', 1414), ('philosophy', 1415), ('glasgow', 1416), ('meteors', 1417), ('stars', 1418), ('speculative', 1419), ('looking', 1420), ('therefore', 1421), ('call', 1422), ('prof', 1423), ('feebleness', 1424), ('logical', 1425), ('concerned', 1426), ('open', 1427), ('admiration', 1428), ('worker', 1429), ('indeed', 1430), ('pleasure', 1431), ('student', 1432), ('euclid', 1433), ('combining', 1434), ('ingenuity', 1435), ('earliest', 1436), ('alone', 1437), ('guide', 1438), ('conspicuous', 1439), ('daily', 1440), ('plague', 1441), ('regarded', 1442), ('famine', 1443), ('flood', 1444), ('absurd', 1445), ('astrologer', 1446), ('deduction', 1447), ('remember', 1448), ('searched', 1449), ('indian', 1450), ('low', 1451), ('erroneous', 1452), ('gratitude', 1453), ('alexandrian', 1454), ('baked', 1455), ('hansen', 1456), ('identify', 1457), ('cromellin', 1458), ('diminishing', 1459), ('era', 1460), ('assyrians', 1461), ('mainly', 1462), ('comparatively', 1463), ('shining', 1464), ('dimension', 1465), ('sunset', 1466), ('babylonian', 1467), ('finest', 1468), ('tradition', 1469), ('contributed', 1470), ('literature', 1471), ('represent', 1472), ('martin', 1473), ('berlin', 1474), ('reported', 1475), ('asserted', 1476), ('patient', 1477), ('predict', 1478), ('punishment', 1479), ('rare', 1480), ('concerning', 1481), ('omar', 1482), ('ready', 1483), ('commentator', 1484), ('attribute', 1485), ('zodiac', 1486), ('sent', 1487), ('director', 1488), ('fifteenth', 1489), ('navigation', 1490), ('themselves', 1491), ('arbitrary', 1492), ('exploration', 1493), ('knobel', 1494), ('jewish', 1495), ('fourteenth', 1496), ('pingré', 1497), ('oppolzer', 1498), ('july', 1499), ('learnt', 1500), ('happens', 1501), ('lamp', 1502), ('morning', 1503), ('anaxagoras', 1504), ('entertained', 1505), ('solon', 1506), ('remove', 1507), ('regular', 1508), ('eighteen', 1509), ('fixing', 1510), ('melon', 1511), ('eudoxus', 1512), ('starry', 1513), ('fanciful', 1514), ('construction', 1515), ('nicetas', 1516), ('extraordinary', 1517), ('democritus', 1518), ('equidistant', 1519), ('string', 1520), ('philosopher', 1521), ('school', 1522), ('aristillus', 1523), ('timocharis', 1524), ('zodiacal', 1525), ('eratosthenes', 1526), ('confirming', 1527), ('equation', 1528), ('attempted', 1529), ('horizon', 1530), ('studying', 1531), ('voyage', 1532), ('arcturus', 1533), ('homer', 1534), ('puzzle', 1535), ('establishing', 1536), ('deferents', 1537), ('apollonius', 1538), ('centred', 1539), ('major', 1540), ('occur', 1541), ('extend', 1542), ('pp', 1543), ('t', 1544), ('kai', 1545), ('prepare', 1546), ('mechanical', 1547), ('middle', 1548), ('leader', 1549), ('germany', 1550), ('settled', 1551), ('basis', 1552), ('capella', 1553), ('brighter', 1554), ('dictum', 1555), ('fatal', 1556), ('remarked', 1557), ('fully', 1558), ('strange', 1559), ('curve', 1560), ('include', 1561), ('epicyclical', 1562), ('sought', 1563), ('mathematically', 1564), ('advanced', 1565), ('rotates', 1566), ('express', 1567), ('keplerian', 1568), ('condemn', 1569), ('curious', 1570), ('popular', 1571), ('pope', 1572), ('honour', 1573), ('leave', 1574), ('sive', 1575), ('watching', 1576), ('tell', 1577), ('device', 1578), ('revival', 1579), ('western', 1580), ('front', 1581), ('carry', 1582), ('granted', 1583), ('fitted', 1584), ('importance', 1585), ('wanted', 1586), ('defined', 1587), ('measurable', 1588), ('marvellous', 1589), ('declination', 1590), ('consideration', 1591), ('startling', 1592), ('felt', 1593), ('prepared', 1594), ('add', 1595), ('examination', 1596), ('gigantic', 1597), ('accompanied', 1598), ('rudolph', 1599), ('house', 1600), ('prague', 1601), ('maintained', 1602), ('outermost', 1603), ('circumstance', 1604), ('luther', 1605), ('possession', 1606), ('rudolphine', 1607), ('respect', 1608), ('hardly', 1609), ('trying', 1610), ('define', 1611), ('strict', 1612), ('moment', 1613), ('arrives', 1614), ('ellipsis', 1615), ('prove', 1616), ('proportional', 1617), ('contain', 1618), ('expressing', 1619), ('joy', 1620), ('accomplished', 1621), ('void', 1622), ('magnetism', 1623), ('attractive', 1624), ('attracts', 1625), ('neighbourhood', 1626), ('fraction', 1627), ('suggest', 1628), ('galilean', 1629), ('gascoigne', 1630), ('arrest', 1631), ('copenhagen', 1632), ('presented', 1633), ('home', 1634), ('prolonged', 1635), ('oval', 1636), ('pin', 1637), ('h', 1638), ('ruled', 1639), ('moved', 1640), ('inquiry', 1641), ('ordinary', 1642), ('domain', 1643), ('heard', 1644), ('valley', 1645), ('sensible', 1646), ('unlike', 1647), ('urged', 1648), ('frequent', 1649), ('birth', 1650), ('verdict', 1651), ('throughout', 1652), ('local', 1653), ('proceeding', 1654), ('saying', 1655), ('inversely', 1656), ('follows', 1657), ('varying', 1658), ('equatorial', 1659), ('top', 1660), ('sharp', 1661), ('compare', 1662), ('parabola', 1663), ('concluded', 1664), ('beautiful', 1665), ('anything', 1666), ('satisfactory', 1667), ('production', 1668), ('detect', 1669), ('similarly', 1670), ('enormous', 1671), ('contribution', 1672), ('instantaneous', 1673), ('successive', 1674), ('dead', 1675), ('computation', 1676), ('sentence', 1677), ('communicated', 1678), ('burchardt', 1679), ('bouvard', 1680), ('independent', 1681), ('introduce', 1682), ('convinced', 1683), ('direct', 1684), ('ceres', 1685), ('undertook', 1686), ('vector', 1687), ('assuming', 1688), ('latest', 1689), ('october', 1690), ('limit', 1691), ('searching', 1692), ('letter', 1693), ('galle', 1694), ('international', 1695), ('young', 1696), ('immediate', 1697), ('shall', 1698), ('distinct', 1699), ('germans', 1700), ('embassies', 1701), ('copied', 1702), ('sufficiently', 1703), ('proving', 1704), ('superiority', 1705), ('bird', 1706), ('volume', 1707), ('pond', 1708), ('whenever', 1709), ('powerful', 1710), ('advantage', 1711), ('extensive', 1712), ('astrographic', 1713), ('phoebe', 1714), ('approached', 1715), ('scale', 1716), ('delicate', 1717), ('foucault', 1718), ('apart', 1719), ('lipperhey', 1720), ('pound', 1721), ('refractors', 1722), ('dollond', 1723), ('destroy', 1724), ('munich', 1725), ('rosse', 1726), ('harvard', 1727), ('narrow', 1728), ('deflected', 1729), ('incomplete', 1730), ('grating', 1731), ('rowland', 1732), ('doppler', 1733), ('secchi', 1734), ('definite', 1735), ('surrounding', 1736), ('umbra', 1737), ('penumbra', 1738), ('decennial', 1739), ('periodicity', 1740), ('range', 1741), ('vision', 1742), ('stereoscopically', 1743), ('dawes', 1744), ('corresponding', 1745), ('mist', 1746), ('revealed', 1747), ('extends', 1748), ('wesley', 1749), ('former', 1750), ('clerke', 1751), ('gaseous', 1752), ('surround', 1753), ('shröter', 1754), ('plain', 1755), ('langrenus', 1756), ('require', 1757), ('immense', 1758), ('active', 1759), ('ice', 1760), ('radiate', 1761), ('crack', 1762), ('illumination', 1763), ('marking', 1764), ('unexplained', 1765), ('miraldi', 1766), ('rotate', 1767), ('antoniadi', 1768), ('römer', 1769), ('absorbing', 1770), ('pickering', 1771), ('service', 1772), ('littrow', 1773), ('aphelion', 1774), ('biela', 1775), ('national', 1776), ('room', 1777), ('implied', 1778), ('henderson', 1779), ('β', 1780), ('groombridge', 1781), ('single', 1782), ('δ', 1783), ('camera', 1784), ('accumulating', 1785), ('goodricke', 1786), ('persei', 1787), ('increasing', 1788), ('brother', 1789), ('mouchez', 1790), ('chemist', 1791), ('complying', 1792), ('derivative', 1793), ('please', 1794), ('entity', 1795), ('public', 1796), ('performing', 1797), ('link', 1798), ('official', 1799), ('expense', 1800), ('user', 1801), ('donate', 1802), ('payment', 1803), ('money', 1804), ('employee', 1805), ('equipment', 1806), ('warranty', 1807), ('liability', 1808), ('donations', 1809), ('anywhere', 1810), ('restriction', 1811), ('whatsoever', 1812), ('updated', 1813), ('jonathan', 1814), ('ingram', 1815), ('dave', 1816), ('maddock', 1817), ('franks', 1818), ('proofreading', 1819), ('team', 1820), ('bust', 1821), ('roubiliac', 1822), ('trinity', 1823), ('formerly', 1824), ('preface', 1825), ('iv', 1826), ('illustrations', 1827), ('index', 1828), ('recognising', 1829), ('expect', 1830), ('descriptive', 1831), ('habit', 1832), ('mental', 1833), ('differ', 1834), ('viewed', 1835), ('converted', 1836), ('assure', 1837), ('contained', 1838), ('cumbrous', 1839), ('machine', 1840), ('recognises', 1841), ('refuse', 1842), ('join', 1843), ('master', 1844), ('pupil', 1845), ('exactness', 1846), ('illustrate', 1847), ('exponent', 1848), ('deduce', 1849), ('england', 1850), ('arises', 1851), ('f', 1852), ('activity', 1853), ('classification', 1854), ('arrangement', 1855), ('succession', 1856), ('watched', 1857), ('inhabitant', 1858), ('darkness', 1859), ('cold', 1860), ('simultaneously', 1861), ('ruler', 1862), ('occurrence', 1863), ('drought', 1864), ('tolerant', 1865), ('gratefully', 1866), ('acknowledge', 1867), ('prevalence', 1868), ('responsible', 1869), ('german', 1870), ('confidence', 1871), ('alike', 1872), ('secular', 1873), ('prehistoric', 1874), ('pillar', 1875), ('christian', 1876), ('originality', 1877), ('dependent', 1878), ('rely', 1879), ('recent', 1880), ('fortunately', 1881), ('papyrus', 1882), ('dating', 1883), ('surrounded', 1884), ('downwards', 1885), ('sky', 1886), ('ascribe', 1887), ('placing', 1888), ('systematic', 1889), ('inferred', 1890), ('goal', 1891), ('assign', 1892), ('tartar', 1893), ('phoenician', 1894), ('attained', 1895), ('chronology', 1896), ('try', 1897), ('estimate', 1898), ('merit', 1899), ('purely', 1900), ('trans', 1901), ('reverse', 1902), ('museum', 1903), ('assigning', 1904), ('trusted', 1905), ('source', 1906), ('souciet', 1907), ('empire', 1908), ('drew', 1909), ('indians', 1910), ('l', 1911), ('ridicule', 1912), ('considers', 1913), ('fohi', 1914), ('shortly', 1915), ('chueni', 1916), ('discussed', 1917), ('desvignolles', 1918), ('mem', 1919), ('acad', 1920), ('kirsch', 1921), ('eleventh', 1922), ('evening', 1923), ('need', 1924), ('instruction', 1925), ('determine', 1926), ('eclipsed', 1927), ('needed', 1928), ('characteristic', 1929), ('terrible', 1930), ('ignorance', 1931), ('hi', 1932), ('ho', 1933), ('neglect', 1934), ('calculating', 1935), ('detection', 1936), ('chaldeans', 1937), ('repeated', 1938), ('slight', 1939), ('succeeding', 1940), ('falling', 1941), ('biot', 1942), ('williams', 1943), ('extracted', 1944), ('ordered', 1945), ('destroyed', 1946), ('loss', 1947), ('caliph', 1948), ('accustomed', 1949), ('assertion', 1950), ('undue', 1951), ('modesty', 1952), ('unearthed', 1953), ('inferior', 1954), ('appointment', 1955), ('god', 1956), ('mundane', 1957), ('improving', 1958), ('nineveh', 1959), ('asshurbanapal', 1960), ('observations', 1961), ('possessed', 1962), ('land', 1963), ('assuan', 1964), ('sayce', 1965), ('jews', 1966), ('reformed', 1967), ('business', 1968), ('jeremiah', 1969), ('cambyses', 1970), ('almagest', 1971), ('suntaxis', 1972), ('uncertain', 1973), ('herodotus', 1974), ('caused', 1975), ('kept', 1976), ('profound', 1977), ('explains', 1978), ('anaximander', 1979), ('anaximenes', 1980), ('heraclitus', 1981), ('parmenides', 1982), ('visited', 1983), ('maintaining', 1984), ('reform', 1985), ('originally', 1986), ('meton', 1987), ('thirteen', 1988), ('travelled', 1989), ('italy', 1990), ('connected', 1991), ('heraclides', 1992), ('ecphantes', 1993), ('epitome', 1994), ('deductive', 1995), ('atlas', 1996), ('empedocles', 1997), ('centrifugal', 1998), ('vegetation', 1999), ('lewis', 2000), ('survey', 2001), ('doubtful', 2002), ('contemporary', 2003), ('strongly', 2004), ('follower', 2005), ('travel', 2006), ('elsewhere', 2007), ('reverence', 2008), ('learned', 2009), ('representing', 2010), ('diminution', 2011), ('noon', 2012), ('stadium', 2013), ('observational', 2014), ('supposing', 2015), ('uniformly', 2016), ('equant', 2017), ('complicated', 2018), ('resembled', 2019), ('rewarded', 2020), ('steady', 2021), ('inventor', 2022), ('draconis', 2023), ('entrance', 2024), ('lower', 2025), ('directs', 2026), ('odysseus', 2027), ('mediterranean', 2028), ('traversed', 2029), ('sailing', 2030), ('africa', 2031), ('springtime', 2032), ('likewise', 2033), ('asserts', 2034), ('orientation', 2035), ('temple', 2036), ('possibly', 2037), ('unequal', 2038), ('representation', 2039), ('answered', 2040), ('enabling', 2041), ('approximately', 2042), ('abolish', 2043), ('makeshift', 2044), ('orion', 2045), ('aimed', 2046), ('governing', 2047), ('ninth', 2048), ('excentricity', 2049), ('progression', 2050), ('abul', 2051), ('wefa', 2052), ('arzachel', 2053), ('ulugh', 2054), ('begh', 2055), ('grandson', 2056), ('alphonso', 2057), ('produce', 2058), ('tables', 2059), ('purbach', 2060), ('müller', 2061), ('regiomontanus', 2062), ('waltherus', 2063), ('cracow', 2064), ('undertake', 2065), ('devising', 2066), ('confronted', 2067), ('geometrically', 2068), ('tychonic', 2069), ('completely', 2070), ('consequent', 2071), ('ptolemaic', 2072), ('furthermore', 2073), ('bring', 2074), ('closer', 2075), ('moreover', 2076), ('main', 2077), ('propounded', 2078), ('respectively', 2079), ('rotating', 2080), ('contrary', 2081), ('surprised', 2082), ('perform', 2083), ('leaf', 2084), ('alternate', 2085), ('discus', 2086), ('unique', 2087), ('merely', 2088), ('satisfied', 2089), ('mathematica', 2090), ('desired', 2091), ('extolling', 2092), ('declared', 2093), ('refined', 2094), ('excentrics', 2095), ('quadrans', 2096), ('muralis', 2097), ('tichonicus', 2098), ('instauratæ', 2099), ('est', 2100), ('enim', 2101), ('et', 2102), ('veras', 2103), ('treasure', 2104), ('michael', 2105), ('reformation', 2106), ('parent', 2107), ('distinguished', 2108), ('overcome', 2109), ('decided', 2110), ('preparation', 2111), ('noting', 2112), ('quality', 2113), ('attain', 2114), ('frederick', 2115), ('appreciating', 2116), ('uraniborg', 2117), ('adding', 2118), ('admirable', 2119), ('engraving', 2120), ('excellence', 2121), ('design', 2122), ('stability', 2123), ('rigidity', 2124), ('transversals', 2125), ('somewhat', 2126), ('nunez', 2127), ('correction', 2128), ('gunnery', 2129), ('iris', 2130), ('helmholtz', 2131), ('naked', 2132), ('seldom', 2133), ('inherited', 2134), ('justified', 2135), ('declaring', 2136), ('cassiopeia', 2137), ('continued', 2138), ('refused', 2139), ('necessarily', 2140), ('mistake', 2141), ('atmospheric', 2142), ('fruitful', 2143), ('displayed', 2144), ('firm', 2145), ('heavy', 2146), ('scripture', 2147), ('admit', 2148), ('readily', 2149), ('usual', 2150), ('melancthon', 2151), ('cardinal', 2152), ('wished', 2153), ('johann', 2154), ('advance', 2155), ('harvest', 2156), ('genius', 2157), ('settle', 2158), ('wanderer', 2159), ('reitlinger', 2160), ('strassburg', 2161), ('boldness', 2162), ('fail', 2163), ('rejected', 2164), ('construct', 2165), ('fancy', 2166), ('mode', 2167), ('pure', 2168), ('teaching', 2169), ('dealing', 2170), ('feeble', 2171), ('understood', 2172), ('loose', 2173), ('indulgent', 2174), ('excuse', 2175), ('choose', 2176), ('m', 2177), ('introduction', 2178), ('attracting', 2179), ('cease', 2180), ('irregularly', 2181), ('practice', 2182), ('hint', 2183), ('ruin', 2184), ('sheet', 2185), ('pencil', 2186), ('ab', 2187), ('ca', 2188), ('senior', 2189), ('galilei', 2190), ('pisa', 2191), ('happen', 2192), ('successfully', 2193), ('leonardo', 2194), ('da', 2195), ('vinci', 2196), ('tend', 2197), ('stop', 2198), ('vary', 2199), ('speed', 2200), ('resistance', 2201), ('tower', 2202), ('isochronism', 2203), ('scattered', 2204), ('hence', 2205), ('reputation', 2206), ('cosmo', 2207), ('medici', 2208), ('induced', 2209), ('welcomed', 2210), ('discussion', 2211), ('bitterness', 2212), ('treated', 2213), ('controversy', 2214), ('bruno', 2215), ('christmas', 2216), ('conceived', 2217), ('relationship', 2218), ('irresistible', 2219), ('napier', 2220), ('operation', 2221), ('function', 2222), ('foretold', 2223), ('rightly', 2224), ('eccentricity', 2225), ('impetus', 2226), ('wren', 2227), ('descartes', 2228), ('guessing', 2229), ('giant', 2230), ('pemberton', 2231), ('tangent', 2232), ('pull', 2233), ('arose', 2234), ('publication', 2235), ('urging', 2236), ('varies', 2237), ('depending', 2238), ('inverse', 2239), ('density', 2240), ('shell', 2241), ('summarised', 2242), ('commit', 2243), ('stood', 2244), ('flattening', 2245), ('polar', 2246), ('displaced', 2247), ('grandest', 2248), ('apogee', 2249), ('meyer', 2250), ('considering', 2251), ('exhibited', 2252), ('regress', 2253), ('tidal', 2254), ('ceased', 2255), ('posterity', 2256), ('edmund', 2257), ('played', 2258), ('box', 2259), ('bit', 2260), ('lecture', 2261), ('occurs', 2262), ('quantity', 2263), ('cor', 2264), ('dunthorne', 2265), ('theon', 2266), ('shared', 2267), ('solution', 2268), ('diminish', 2269), ('lengthening', 2270), ('sciences', 2271), ('write', 2272), ('essay', 2273), ('justly', 2274), ('inexplicable', 2275), ('infinity', 2276), ('elongated', 2277), ('practically', 2278), ('apian', 2279), ('varied', 2280), ('diminished', 2281), ('knew', 2282), ('travelling', 2283), ('assisted', 2284), ('fell', 2285), ('amateur', 2286), ('palitsch', 2287), ('reappeared', 2288), ('pontecoulant', 2289), ('catch', 2290), ('maclaurin', 2291), ('alembert', 2292), ('legendre', 2293), ('walmsley', 2294), ('binet', 2295), ('damoiseau', 2296), ('plana', 2297), ('poisson', 2298), ('ivory', 2299), ('delaunay', 2300), ('relating', 2301), ('magnifying', 2302), ('suspect', 2303), ('ephemeris', 2304), ('december', 2305), ('zach', 2306), ('resembling', 2307), ('fragment', 2308), ('commenced', 2309), ('harding', 2310), ('reward', 2311), ('altogether', 2312), ('undergraduate', 2313), ('hypothetical', 2314), ('recalculated', 2315), ('handed', 2316), ('heliocentric', 2317), ('forward', 2318), ('ablest', 2319), ('knowing', 2320), ('claiming', 2321), ('plan', 2322), ('astronomers', 2323), ('bremiker', 2324), ('feeling', 2325), ('enthusiasm', 2326), ('enables', 2327), ('raised', 2328), ('jealousy', 2329), ('entitled', 2330), ('announcement', 2331), ('pride', 2332), ('universally', 2333), ('belongs', 2334), ('thoroughly', 2335), ('twentieth', 2336), ('titius', 2337), ('repulsion', 2338), ('radiant', 2339), ('armillary', 2340), ('nuremberg', 2341), ('inaccurate', 2342), ('improvement', 2343), ('sextant', 2344), ('description', 2345), ('aperture', 2346), ('instrumental', 2347), ('azimuth', 2348), ('relieved', 2349), ('ally', 2350), ('verbiest', 2351), ('khan', 2352), ('concave', 2353), ('examine', 2354), ('width', 2355), ('cover', 2356), ('covered', 2357), ('malvasia', 2358), ('network', 2359), ('iron', 2360), ('microscope', 2361), ('hevelius', 2362), ('screw', 2363), ('graham', 2364), ('trouble', 2365), ('nutation', 2366), ('bliss', 2367), ('almanac', 2368), ('replace', 2369), ('division', 2370), ('impressed', 2371), ('interferes', 2372), ('simms', 2373), ('ransome', 2374), ('previously', 2375), ('constructor', 2376), ('devised', 2377), ('tube', 2378), ('respighi', 2379), ('level', 2380), ('bottom', 2381), ('pointing', 2382), ('retain', 2383), ('christie', 2384), ('erected', 2385), ('widened', 2386), ('doing', 2387), ('heidelberg', 2388), ('selected', 2389), ('adjustment', 2390), ('crawford', 2391), ('vi', 2392), ('periodically', 2393), ('cornu', 2394), ('michaelson', 2395), ('newcomb', 2396), ('halm', 2397), ('spectroscopically', 2398), ('remarkably', 2399), ('eros', 2400), ('witte', 2401), ('behaim', 2402), ('graduated', 2403), ('suspended', 2404), ('article', 2405), ('relief', 2406), ('wyllie', 2407), ('scotland', 2408), ('bacon', 2409), ('digges', 2410), ('porta', 2411), ('dominis', 2412), ('ph', 2413), ('inverted', 2414), ('originator', 2415), ('compound', 2416), ('acquired', 2417), ('guinand', 2418), ('producing', 2419), ('dorpat', 2420), ('lamont', 2421), ('yerkes', 2422), ('feil', 2423), ('mantois', 2424), ('schott', 2425), ('alvan', 2426), ('cooke', 2427), ('york', 2428), ('newall', 2429), ('washington', 2430), ('vienna', 2431), ('gautier', 2432), ('pulkowa', 2433), ('adjunct', 2434), ('floor', 2435), ('facility', 2436), ('rival', 2437), ('applying', 2438), ('admitting', 2439), ('interposed', 2440), ('orange', 2441), ('green', 2442), ('wollaston', 2443), ('artificial', 2444), ('carbon', 2445), ('strength', 2446), ('accounted', 2447), ('kirchoff', 2448), ('intensified', 2449), ('laboratory', 2450), ('constructing', 2451), ('pitch', 2452), ('lowered', 2453), ('slightly', 2454), ('receding', 2455), ('zöllner', 2456), ('pretty', 2457), ('stokes', 2458), ('detecting', 2459), ('sequence', 2460), ('derive', 2461), ('conjecture', 2462), ('photoheliograph', 2463), ('non', 2464), ('vague', 2465), ('revelation', 2466), ('shaped', 2467), ('disappears', 2468), ('eastern', 2469), ('umbræ', 2470), ('penumbræ', 2471), ('speculations', 2472), ('base', 2473), ('grey', 2474), ('regarding', 2475), ('subsequent', 2476), ('reproduction', 2477), ('violated', 2478), ('confined', 2479), ('extending', 2480), ('schwabe', 2481), ('frequency', 2482), ('schuster', 2483), ('sabine', 2484), ('gauthier', 2485), ('coincidence', 2486), ('accident', 2487), ('vanished', 2488), ('outburst', 2489), ('spoerer', 2490), ('totality', 2491), ('devoting', 2492), ('collecting', 2493), ('draper', 2494), ('stereoscopic', 2495), ('resulting', 2496), ('binocular', 2497), ('belong', 2498), ('height', 2499), ('constitution', 2500), ('photosphere', 2501), ('transformation', 2502), ('hansky', 2503), ('scheme', 2504), ('picture', 2505), ('forty', 2506), ('america', 2507), ('perfected', 2508), ('hale', 2509), ('deslandres', 2510), ('parallel', 2511), ('floculi', 2512), ('resemblance', 2513), ('promise', 2514), ('ångstrom', 2515), ('streamer', 2516), ('consistency', 2517), ('million', 2518), ('secretary', 2519), ('presence', 2520), ('suffer', 2521), ('performance', 2522), ('ramsay', 2523), ('plenty', 2524), ('metallic', 2525), ('compressed', 2526), ('spots', 2527), ('riccioli', 2528), ('schröter', 2529), ('schmidt', 2530), ('puiseux', 2531), ('neison', 2532), ('nasmyth', 2533), ('carpenter', 2534), ('sixty', 2535), ('extinct', 2536), ('snow', 2537), ('proximity', 2538), ('cap', 2539), ('martian', 2540), ('arago', 2541), ('kaiser', 2542), ('proctor', 2543), ('greenish', 2544), ('duplicated', 2545), ('whewell', 2546), ('unexpected', 2547), ('unusually', 2548), ('estimated', 2549), ('completes', 2550), ('phobos', 2551), ('obviously', 2552), ('visual', 2553), ('discovering', 2554), ('pl', 2555), ('zucchi', 2556), ('torricelli', 2557), ('grimaldi', 2558), ('hire', 2559), ('peculiar', 2560), ('niesten', 2561), ('pritchett', 2562), ('tempel', 2563), ('attached', 2564), ('brightened', 2565), ('cypher', 2566), ('thickness', 2567), ('sejour', 2568), ('solidified', 2569), ('clerk', 2570), ('maxwell', 2571), ('meteoritic', 2572), ('collision', 2573), ('energy', 2574), ('keeler', 2575), ('japetus', 2576), ('slipher', 2577), ('imperceptible', 2578), ('identity', 2579), ('heller', 2580), ('donati', 2581), ('winnecke', 2582), ('recovered', 2583), ('wells', 2584), ('tail', 2585), ('pons', 2586), ('fluid', 2587), ('humboldt', 2588), ('bonpland', 2589), ('stream', 2590), ('favoured', 2591), ('seventy', 2592), ('alive', 2593), ('tuttle', 2594), ('weiss', 2595), ('indefatigable', 2596), ('largely', 2597), ('attains', 2598), ('possibility', 2599), ('tupman', 2600), ('guillemin', 2601), ('lubienietz', 2602), ('von', 2603), ('asten', 2604), ('petersburg', 2605), ('backlund', 2606), ('innumerable', 2607), ('host', 2608), ('lemuel', 2609), ('abbott', 2610), ('gallery', 2611), ('xx', 2612), ('brinkley', 2613), ('maclear', 2614), ('vega', 2615), ('orionis', 2616), ('oudemans', 2617), ('reaching', 2618), ('faintness', 2619), ('ε', 2620), ('ζ', 2621), ('treatment', 2622), ('eddington', 2623), ('dyson', 2624), ('pulfrich', 2625), ('instance', 2626), ('savary', 2627), ('identification', 2628), ('disclosed', 2629), ('burnham', 2630), ('luminosity', 2631), ('countless', 2632), ('schaeberle', 2633), ('variability', 2634), ('roberts', 2635), ('novæ', 2636), ('heated', 2637), ('condensation', 2638), ('sending', 2639), ('monumental', 2640), ('argelander', 2641), ('rumker', 2642), ('gould', 2643), ('chacornac', 2644), ('admiral', 2645), ('diffuse', 2646), ('copeland', 2647), ('nebulosity', 2648), ('shaded', 2649), ('variety', 2650), ('begin', 2651), ('condensed', 2652), ('wish', 2653), ('arrhenius', 2654), ('ast', 2655), ('institution', 2656), ('assoc', 2657), ('vols', 2658), ('earl', 2659), ('j', 2660), ('owns', 2661), ('paying', 2662), ('terms', 2663), ('protect', 2664), ('concept', 2665), ('registered', 2666), ('redistribution', 2667), ('promoting', 2668), ('redistributing', 2669), ('keeping', 2670), ('prominently', 2671), ('vanilla', 2672), ('ascii', 2673), ('specified', 2674), ('profit', 2675), ('receipt', 2676), ('damages', 2677), ('legal', 2678), ('breach', 2679), ('lieu', 2680), ('electronically', 2681), ('warranties', 2682), ('permitted', 2683), ('provision', 2684), ('readable', 2685), ('widest', 2686), ('generation', 2687), ('exempt', 2688), ('federal', 2689), ('office', 2690), ('fairbanks', 2691), ('location', 2692), ('email', 2693), ('solicit', 2694), ('visit', 2695), ('release', 2696), ('recently', 2697), ('english', 2698), ('encoding', 2699), ('inst', 2700), ('rendu', 2701), ('glaciers', 2702), ('savoy', 2703), ('contents', 2704), ('treatise', 2705), ('wider', 2706), ('scope', 2707), ('cumulative', 2708), ('progressive', 2709), ('criticise', 2710), ('equivalent', 2711), ('inability', 2712), ('conscious', 2713), ('arising', 2714), ('invariable', 2715), ('humility', 2716), ('child', 2717), ('seashore', 2718), ('applies', 2719), ('boundless', 2720), ('refusing', 2721), ('invite', 2722), ('vain', 2723), ('key', 2724), ('impotent', 2725), ('curtail', 2726), ('tone', 2727), ('ideal', 2728), ('gradual', 2729), ('entertain', 2730), ('recruit', 2731), ('arouse', 2732), ('handled', 2733), ('classic', 2734), ('compassion', 2735), ('schoolboy', 2736), ('luxury', 2737), ('pity', 2738), ('latin', 2739), ('platform', 2740), ('masterpiece', 2741), ('wit', 2742), ('lastly', 2743), ('parliament', 2744), ('unfinished', 2745), ('untested', 2746), ('regret', 2747), ('necessity', 2748), ('mention', 2749), ('growth', 2750), ('intelligence', 2751), ('counterpart', 2752), ('nomenclature', 2753), ('infancy', 2754), ('anticipation', 2755), ('dominate', 2756), ('choice', 2757), ('potent', 2758), ('factor', 2759), ('developing', 2760), ('realm', 2761), ('nature', 2762), ('thinking', 2763), ('unchangeable', 2764), ('substituted', 2765), ('compelled', 2766), ('accommodate', 2767), ('alternation', 2768), ('disease', 2769), ('fortune', 2770), ('scourge', 2771), ('sense', 2772), ('veering', 2773), ('backing', 2774), ('wind', 2775), ('foul', 2776), ('earnest', 2777), ('presaged', 2778), ('evolve', 2779), ('laying', 2780), ('unusual', 2781), ('balfour', 2782), ('fertility', 2783), ('vine', 2784), ('india', 2785), ('foretell', 2786), ('laudable', 2787), ('blame', 2788), ('announcing', 2789), ('affirmed', 2790), ('wolseley', 2791), ('pocket', 2792), ('deepest', 2793), ('diligence', 2794), ('scanty', 2795), ('survived', 2796), ('destructive', 2797), ('monarch', 2798), ('mob', 2799), ('fuller', 2800), ('thereby', 2801), ('crude', 2802), ('wishing', 2803), ('wherever', 2804), ('firstly', 2805), ('extant', 2806), ('authenticity', 2807), ('secondly', 2808), ('divest', 2809), ('ourselves', 2810), ('appreciate', 2811), ('missionary', 2812), ('testimony', 2813), ('sculpture', 2814), ('inscribed', 2815), ('attempting', 2816), ('appraise', 2817), ('beginner', 2818), ('bounded', 2819), ('concavity', 2820), ('crawl', 2821), ('midday', 2822), ('brightly', 2823), ('stuck', 2824), ('transition', 2825), ('flatland', 2826), ('sunrise', 2827), ('grouping', 2828), ('persian', 2829), ('assyrian', 2830), ('druids', 2831), ('mexicans', 2832), ('peruvians', 2833), ('incommensurability', 2834), ('xxiii', 2835), ('ernest', 2836), ('brown', 2837), ('sup', 2838), ('alleged', 2839), ('detailed', 2840), ('gathered', 2841), ('jesuit', 2842), ('asiatic', 2843), ('bengal', 2844), ('translation', 2845), ('brahmin', 2846), ('geographical', 2847), ('chronological', 2848), ('remnant', 2849), ('astronomie', 2850), ('insignificant', 2851), ('discredited', 2852), ('china', 2853), ('typical', 2854), ('reigned', 2855), ('mss', 2856), ('lisle', 2857), ('ditto', 2858), ('pisces', 2859), ('intercalary', 2860), ('julian', 2861), ('younger', 2862), ('mess', 2863), ('terror', 2864), ('executed', 2865), ('consists', 2866), ('influenced', 2867), ('scholar', 2868), ('continuity', 2869), ('classical', 2870), ('therefrom', 2871), ('burning', 2872), ('consistent', 2873), ('inconsistent', 2874), ('koran', 2875), ('superfluous', 2876), ('objectionable', 2877), ('pioneer', 2878), ('excavation', 2879), ('station', 2880), ('dignity', 2881), ('spent', 2882), ('divination', 2883), ('eternal', 2884), ('ending', 2885), ('divine', 2886), ('providence', 2887), ('determinate', 2888), ('affair', 2889), ('fragments', 2890), ('agade', 2891), ('preserved', 2892), ('humble', 2893), ('servant', 2894), ('writes', 2895), ('nabu', 2896), ('marduk', 2897), ('propitious', 2898), ('my', 2899), ('phoenicians', 2900), ('diodorus', 2901), ('siculus', 2902), ('confirmatory', 2903), ('authentic', 2904), ('sale', 2905), ('aramaic', 2906), ('cowley', 2907), ('grandfather', 2908), ('fled', 2909), ('intercalation', 2910), ('dissimilar', 2911), ('reminds', 2912), ('ago', 2913), ('strassmeier', 2914), ('partial', 2915), ('occurred', 2916), ('phamenoth', 2917), ('alarm', 2918), ('ended', 2919), ('battle', 2920), ('medes', 2921), ('lydians', 2922), ('secret', 2923), ('derives', 2924), ('float', 2925), ('lighted', 2926), ('fantastic', 2927), ('worthy', 2928), ('imaginary', 2929), ('antichthon', 2930), ('hide', 2931), ('enters', 2932), ('vortical', 2933), ('whisking', 2934), ('ignited', 2935), ('fiery', 2936), ('firmament', 2937), ('prosecuted', 2938), ('unsettling', 2939), ('inhabited', 2940), ('defended', 2941), ('pericles', 2942), ('dabbled', 2943), ('customary', 2944), ('intercalate', 2945), ('chaldean', 2946), ('metonic', 2947), ('occupy', 2948), ('easter', 2949), ('golden', 2950), ('omitted', 2951), ('asia', 2952), ('sicily', 2953), ('facilitate', 2954), ('summed', 2955), ('illustrates', 2956), ('myth', 2957), ('tortoise', 2958), ('floated', 2959), ('buoyed', 2960), ('kite', 2961), ('donkey', 2962), ('bundle', 2963), ('hay', 2964), ('incline', 2965), ('stationary', 2966), ('pail', 2967), ('whirled', 2968), ('weight', 2969), ('exuberant', 2970), ('cornwall', 2971), ('xenophon', 2972), ('sympathise', 2973), ('desirable', 2974), ('inquire', 2975), ('objected', 2976), ('waste', 2977), ('dwelt', 2978), ('contradiction', 2979), ('conflicting', 2980), ('speculator', 2981), ('madman', 2982), ('keynote', 2983), ('facilitating', 2984), ('historical', 2985), ('syene', 2986), ('unfortunately', 2987), ('altered', 2988), ('tropical', 2989), ('situated', 2990), ('conclusively', 2991), ('upset', 2992), ('permanence', 2993), ('trigonometry', 2994), ('gizeh', 2995), ('posse', 2996), ('culmination', 2997), ('odyssey', 2998), ('calypso', 2999), ('navigating', 3000), ('gibraltar', 3001), ('corfu', 3002), ('inaccuracy', 3003), ('xviii', 3004), ('touching', 3005), ('poem', 3006), ('druidical', 3007), ('heliacal', 3008), ('conclusive', 3009), ('cyclopedia', 3010), ('summary', 3011), ('theorised', 3012), ('impose', 3013), ('truly', 3014), ('shorter', 3015), ('pivotted', 3016), ('secondary', 3017), ('primary', 3018), ('cicero', 3019), ('advocated', 3020), ('considerably', 3021), ('response', 3022), ('substitute', 3023), ('physically', 3024), ('controller', 3025), ('plaeiadas', 3026), ('esoronte', 3027), ('opse', 3028), ('duonta', 3029), ('bootaen', 3030), ('arkton', 3031), ('th', 3032), ('aen', 3033), ('amaxan', 3034), ('epiklaesin', 3035), ('kaleousin', 3036), ('ae', 3037), ('autou', 3038), ('strephetai', 3039), ('oriona', 3040), ('dokeuei', 3041), ('oin', 3042), ('ammoros', 3043), ('esti', 3044), ('loetron', 3045), ('okeanoio', 3046), ('boötes', 3047), ('setteth', 3048), ('wain', 3049), ('turneth', 3050), ('keepeth', 3051), ('watch', 3052), ('hath', 3053), ('bath', 3054), ('pearson', 3055), ('camb', 3056), ('soc', 3057), ('pt', 3058), ('sink', 3059), ('ebb', 3060), ('migrated', 3061), ('baghdad', 3062), ('arabs', 3063), ('albategnius', 3064), ('syrian', 3065), ('prince', 3066), ('moors', 3067), ('toledo', 3068), ('tamerlane', 3069), ('samarcand', 3070), ('spain', 3071), ('alphonsine', 3072), ('nicolai', 3073), ('sclav', 3074), ('thorn', 3075), ('polish', 3076), ('prussia', 3077), ('frauenberg', 3078), ('simplifying', 3079), ('framing', 3080), ('cogitation', 3081), ('revolutionibus', 3082), ('orbium', 3083), ('martianus', 3084), ('recalled', 3085), ('rough', 3086), ('radical', 3087), ('slavish', 3088), ('yielding', 3089), ('demanding', 3090), ('sever', 3091), ('obnoxious', 3092), ('pythagorean', 3093), ('accord', 3094), ('relates', 3095), ('resultant', 3096), ('believed', 3097), ('numbered', 3098), ('situate', 3099), ('connexion', 3100), ('thousandth', 3101), ('sidereal', 3102), ('fairness', 3103), ('repeatedly', 3104), ('obliged', 3105), ('whoever', 3106), ('contented', 3107), ('mathematician', 3108), ('mathematicis', 3109), ('scribuntur', 3110), ('pious', 3111), ('startlingly', 3112), ('recommend', 3113), ('simplification', 3114), ('devote', 3115), ('widely', 3116), ('unfair', 3117), ('evidently', 3118), ('eulogise', 3119), ('refrain', 3120), ('attributing', 3121), ('effected', 3122), ('acquainted', 3123), ('dreaded', 3124), ('abuse', 3125), ('opposing', 3126), ('dedicating', 3127), ('lengthy', 3128), ('explanatory', 3129), ('epistle', 3130), ('bishop', 3131), ('memorial', 3132), ('representative', 3133), ('eminently', 3134), ('deserves', 3135), ('beautifully', 3136), ('lectures', 3137), ('impression', 3138), ('jointed', 3139), ('describing', 3140), ('represented', 3141), ('fourier', 3142), ('series', 3143), ('perpetual', 3144), ('proclaimed', 3145), ('mod', 3146), ('pleased', 3147), ('adapted', 3148), ('phys', 3149), ('vii', 3150), ('astronomi', 3151), ('proprium', 3152), ('historiam', 3153), ('motuum', 3154), ('coelestium', 3155), ('diligenti', 3156), ('artificiosa', 3157), ('observatione', 3158), ('colligere', 3159), ('deinde', 3160), ('causa', 3161), ('earundem', 3162), ('seu', 3163), ('cum', 3164), ('assequi', 3165), ('nulla', 3166), ('ratione', 3167), ('possit', 3168), ('neque', 3169), ('necesse', 3170), ('ea', 3171), ('esse', 3172), ('imo', 3173), ('ne', 3174), ('verisimiles', 3175), ('quidem', 3176), ('sed', 3177), ('sufficit', 3178), ('hoc', 3179), ('usum', 3180), ('si', 3181), ('calculum', 3182), ('observationibus', 3183), ('congruentem', 3184), ('exhibeant', 3185), ('aesthetic', 3186), ('fostered', 3187), ('printing', 3188), ('downfall', 3189), ('byzantine', 3190), ('scattering', 3191), ('fugitive', 3192), ('raphael', 3193), ('angelo', 3194), ('spaniards', 3195), ('portuguese', 3196), ('dane', 3197), ('noble', 3198), ('diligent', 3199), ('childhood', 3200), ('stimulated', 3201), ('grasped', 3202), ('hopelessness', 3203), ('indulged', 3204), ('inductive', 3205), ('bibliography', 3206), ('aim', 3207), ('denmark', 3208), ('talent', 3209), ('invited', 3210), ('hveen', 3211), ('pension', 3212), ('canon', 3213), ('cathedral', 3214), ('roskilde', 3215), ('stjerneborg', 3216), ('stock', 3217), ('press', 3218), ('witness', 3219), ('workmanship', 3220), ('whereas', 3221), ('pedro', 3222), ('precisely', 3223), ('diaphragm', 3224), ('focussing', 3225), ('clocks', 3226), ('unreliable', 3227), ('bestowed', 3228), ('existing', 3229), ('brilliance', 3230), ('confirm', 3231), ('casseiopeia', 3232), ('disappear', 3233), ('eliminated', 3234), ('ambitious', 3235), ('attended', 3236), ('equality', 3237), ('feared', 3238), ('unmanageable', 3239), ('immortal', 3240), ('industry', 3241), ('overbearing', 3242), ('intolerant', 3243), ('obstacle', 3244), ('dismantled', 3245), ('disposal', 3246), ('precede', 3247), ('involving', 3248), ('ptolemean', 3249), ('footstep', 3250), ('samos', 3251), ('sluggish', 3252), ('unfit', 3253), ('involves', 3254), ('connecting', 3255), ('surprising', 3256), ('derided', 3257), ('pithy', 3258), ('doctrinae', 3259), ('weaver', 3260), ('fill', 3261), ('wiel', 3262), ('duchy', 3263), ('wurtemberg', 3264), ('gratz', 3265), ('styria', 3266), ('entrusting', 3267), ('perseverance', 3268), ('reaped', 3269), ('transcendent', 3270), ('disagreement', 3271), ('post', 3272), ('sustained', 3273), ('linear', 3274), ('cosmogony', 3275), ('dissatisfaction', 3276), ('disgust', 3277), ('relegation', 3278), ('europeans', 3279), ('nobody', 3280), ('dare', 3281), ('depart', 3282), ('fetish', 3283), ('insight', 3284), ('independence', 3285), ('instinct', 3286), ('apologist', 3287), ('fraud', 3288), ('boldly', 3289), ('boundary', 3290), ('attacking', 3291), ('analogy', 3292), ('filled', 3293), ('prolong', 3294), ('contradictory', 3295), ('proceeds', 3296), ('cautiously', 3297), ('concludes', 3298), ('sen', 3299), ('physica', 3300), ('coelestis', 3301), ('tradita', 3302), ('commentariis', 3303), ('motibus', 3304), ('stelloe', 3305), ('cube', 3306), ('implicitly', 3307), ('alternative', 3308), ('utterly', 3309), ('expounded', 3310), ('contemplated', 3311), ('quoted', 3312), ('lest', 3313), ('someone', 3314), ('grotesque', 3315), ('contrast', 3316), ('imperfectly', 3317), ('predecessor', 3318), ('devotion', 3319), ('task', 3320), ('multiple', 3321), ('triangle', 3322), ('sem', 3323), ('sm', 3324), ('chosen', 3325), ('guessed', 3326), ('speaks', 3327), ('colchester', 3328), ('mundo', 3329), ('nostro', 3330), ('sublunari', 3331), ('philosophia', 3332), ('amstelodami', 3333), ('mutually', 3334), ('bodies', 3335), ('spheroidal', 3336), ('retained', 3337), ('vital', 3338), ('alia', 3339), ('aligua', 3340), ('attract', 3341), ('flow', 3342), ('appointed', 3343), ('imperial', 3344), ('handsome', 3345), ('salary', 3346), ('doled', 3347), ('miserable', 3348), ('earn', 3349), ('family', 3350), ('starvation', 3351), ('ratisbon', 3352), ('diet', 3353), ('worn', 3354), ('debilitated', 3355), ('appeal', 3356), ('fever', 3357), ('contracted', 3358), ('fed', 3359), ('disappointment', 3360), ('exhaustion', 3361), ('adopt', 3362), ('profession', 3363), ('endowment', 3364), ('cross', 3365), ('englishman', 3366), ('brief', 3367), ('inkling', 3368), ('doubtless', 3369), ('cherished', 3370), ('returning', 3371), ('tidied', 3372), ('fastening', 3373), ('sph', 3374), ('stretching', 3375), ('taut', 3376), ('apb', 3377), ('cs', 3378), ('farthest', 3379), ('asp', 3380), ('logarithmic', 3381), ('stationer', 3382), ('shop', 3383), ('dealt', 3384), ('fortunate', 3385), ('originating', 3386), ('crichton', 3387), ('italians', 3388), ('cleared', 3389), ('ball', 3390), ('rolled', 3391), ('boat', 3392), ('shot', 3393), ('fired', 3394), ('arrive', 3395), ('convince', 3396), ('leaning', 3397), ('elude', 3398), ('unravel', 3399), ('discard', 3400), ('stupid', 3401), ('maxim', 3402), ('blind', 3403), ('worship', 3404), ('delayed', 3405), ('youth', 3406), ('sagacity', 3407), ('resolving', 3408), ('constituent', 3409), ('deriving', 3410), ('dutch', 3411), ('magnify', 3412), ('sooner', 3413), ('forthwith', 3414), ('hill', 3415), ('appendage', 3416), ('multitude', 3417), ('fame', 3418), ('flew', 3419), ('magic', 3420), ('migrate', 3421), ('florence', 3422), ('foe', 3423), ('correspondence', 3424), ('alluded', 3425), ('virtue', 3426), ('loved', 3427), ('argue', 3428), ('shirked', 3429), ('encounter', 3430), ('disputant', 3431), ('laughed', 3432), ('broke', 3433), ('agitator', 3434), ('dignitary', 3435), ('mixed', 3436), ('entourage', 3437), ('summoned', 3438), ('charged', 3439), ('holding', 3440), ('heretical', 3441), ('solemnly', 3442), ('abjured', 3443), ('exaggeration', 3444), ('misstatement', 3445), ('trial', 3446), ('hostility', 3447), ('unprofitable', 3448), ('opponent', 3449), ('religion', 3450), ('disputation', 3451), ('love', 3452), ('putting', 3453), ('intolerance', 3454), ('sufferer', 3455), ('giordano', 3456), ('condemned', 3457), ('stake', 3458), ('postponed', 3459), ('discontinuity', 3460), ('controlling', 3461), ('philosophic', 3462), ('estimation', 3463), ('foremost', 3464), ('enormously', 3465), ('facilitated', 3466), ('logarithm', 3467), ('merchistoun', 3468), ('tedious', 3469), ('arithmetical', 3470), ('trigonometrical', 3471), ('simplified', 3472), ('doubled', 3473), ('ardent', 3474), ('admirer', 3475), ('improve', 3476), ('retardation', 3477), ('posthumously', 3478), ('lasting', 3479), ('wise', 3480), ('initiation', 3481), ('greeenwich', 3482), ('repugnance', 3483), ('empty', 3484), ('ethereal', 3485), ('whirling', 3486), ('whirl', 3487), ('fiction', 3488), ('retarded', 3489), ('misleading', 3490), ('talking', 3491), ('culminating', 3492), ('quitted', 3493), ('residing', 3494), ('wolsthorpe', 3495), ('lincolnshire', 3496), ('sitting', 3497), ('garden', 3498), ('prevents', 3499), ('flying', 3500), ('tangential', 3501), ('meditating', 3502), ('pulled', 3503), ('does', 3504), ('philosophiae', 3505), ('naturalis', 3506), ('principia', 3507), ('oblate', 3508), ('enunciated', 3509), ('centripetal', 3510), ('product', 3511), ('regretfully', 3512), ('aside', 3513), ('bold', 3514), ('warranted', 3515), ('foiled', 3516), ('seeming', 3517), ('surer', 3518), ('tendency', 3519), ('bulging', 3520), ('unequally', 3521), ('tilt', 3522), ('conical', 3523), ('describes', 3524), ('spinning', 3525), ('weighing', 3526), ('projected', 3527), ('hyperbola', 3528), ('parabolae', 3529), ('chiefly', 3530), ('controlled', 3531), ('involve', 3532), ('weak', 3533), ('reconciled', 3534), ('older', 3535), ('apses', 3536), ('synthetic', 3537), ('geometry', 3538), ('infinitesimal', 3539), ('calculus', 3540), ('suited', 3541), ('unintelligible', 3542), ('regression', 3543), ('consequently', 3544), ('joined', 3545), ('encumbered', 3546), ('mystery', 3547), ('furnished', 3548), ('mine', 3549), ('gem', 3550), ('rendered', 3551), ('assured', 3552), ('completing', 3553), ('repute', 3554), ('friendly', 3555), ('insistence', 3556), ('generosity', 3557), ('supplying', 3558), ('mask', 3559), ('jerusalem', 3560), ('chamber', 3561), ('buried', 3562), ('westminster', 3563), ('abbey', 3564), ('slip', 3565), ('story', 3566), ('piece', 3567), ('pilgrimage', 3568), ('growing', 3569), ('lecturing', 3570), ('audience', 3571), ('removing', 3572), ('precious', 3573), ('relic', 3574), ('caution', 3575), ('exception', 3576), ('contains', 3577), ('prop', 3578), ('reciprocally', 3579), ('probability', 3580), ('reluctantly', 3581), ('abandoned', 3582), ('excited', 3583), ('keenly', 3584), ('forced', 3585), ('contribute', 3586), ('sensibly', 3587), ('won', 3588), ('indisputable', 3589), ('submitted', 3590), ('periodical', 3591), ('continually', 3592), ('verification', 3593), ('helena', 3594), ('disclosing', 3595), ('abolishing', 3596), ('empirical', 3597), ('glorious', 3598), ('furnishing', 3599), ('reliable', 3600), ('undistinguishable', 3601), ('parabolæ', 3602), ('apparition', 3603), ('impartial', 3604), ('astronomiae', 3605), ('inspiration', 3606), ('retard', 3607), ('communication', 3608), ('exposed', 3609), ('perceived', 3610), ('excitement', 3611), ('intense', 3612), ('catching', 3613), ('saxony', 3614), ('prospect', 3615), ('memoir', 3616), ('posthumous', 3617), ('reprint', 3618), ('exquisite', 3619), ('inspire', 3620), ('mayer', 3621), ('crowning', 3622), ('noticing', 3623), ('suspected', 3624), ('impaired', 3625), ('georgium', 3626), ('sidus', 3627), ('adoption', 3628), ('rank', 3629), ('doubling', 3630), ('dist', 3631), ('blank', 3632), ('fitting', 3633), ('ill', 3634), ('emerge', 3635), ('exciting', 3636), ('hunt', 3637), ('birthday', 3638), ('captured', 3639), ('truant', 3640), ('christened', 3641), ('pallas', 3642), ('juno', 3643), ('vesta', 3644), ('showered', 3645), ('congratulation', 3646), ('occasion', 3647), ('mistaking', 3648), ('revision', 3649), ('reconcile', 3650), ('deliberately', 3651), ('foreign', 3652), ('unperceived', 3653), ('intolerable', 3654), ('couch', 3655), ('wrangler', 3656), ('intended', 3657), ('illness', 3658), ('overtook', 3659), ('approximation', 3660), ('procure', 3661), ('capability', 3662), ('reply', 3663), ('answer', 3664), ('unassuming', 3665), ('push', 3666), ('proportionate', 3667), ('anyway', 3668), ('embryo', 3669), ('experienced', 3670), ('refinement', 3671), ('novelty', 3672), ('criticism', 3673), ('exhibition', 3674), ('rendus', 3675), ('academie', 3676), ('exceed', 3677), ('northumberland', 3678), ('exhaustive', 3679), ('concluding', 3680), ('luck', 3681), ('eliminating', 3682), ('preliminary', 3683), ('commencement', 3684), ('aroused', 3685), ('overwhelming', 3686), ('reminder', 3687), ('heartily', 3688), ('analytical', 3689), ('unpleasant', 3690), ('glowed', 3691), ('incredulous', 3692), ('sceptical', 3693), ('borne', 3694), ('electric', 3695), ('radiative', 3696), ('crookes', 3697), ('propagation', 3698), ('past', 3699), ('preceded', 3700), ('stand', 3701), ('interpreting', 3702), ('historically', 3703), ('entering', 3704), ('handbook', 3705), ('guiding', 3706), ('equinoctial', 3707), ('solstitial', 3708), ('colures', 3709), ('belus', 3710), ('eminence', 3711), ('gnomons', 3712), ('sundial', 3713), ('column', 3714), ('clepsydra', 3715), ('waterclock', 3716), ('civilisation', 3717), ('preparing', 3718), ('astrolabe', 3719), ('culture', 3720), ('town', 3721), ('discarded', 3722), ('illustrated', 3723), ('corrected', 3724), ('affect', 3725), ('jesuits', 3726), ('mandarins', 3727), ('handsomely', 3728), ('embellished', 3729), ('dragon', 3730), ('emblem', 3731), ('cast', 3732), ('arabic', 3733), ('ko', 3734), ('koblai', 3735), ('chenghis', 3736), ('æquatoriæ', 3737), ('maximæ', 3738), ('adaptation', 3739), ('beneficial', 3740), ('employment', 3741), ('strip', 3742), ('marquis', 3743), ('silver', 3744), ('thread', 3745), ('skilful', 3746), ('served', 3747), ('embody', 3748), ('olaus', 3749), ('romer', 3750), ('traverse', 3751), ('thick', 3752), ('counterpoise', 3753), ('flexure', 3754), ('horizontal', 3755), ('illuminated', 3756), ('lantern', 3757), ('upper', 3758), ('collimation', 3759), ('reversing', 3760), ('axial', 3761), ('vernier', 3762), ('afresh', 3763), ('poor', 3764), ('conducted', 3765), ('gutted', 3766), ('executor', 3767), ('replaced', 3768), ('brass', 3769), ('sector', 3770), ('purchased', 3771), ('capable', 3772), ('folio', 3773), ('unreduced', 3774), ('königsberg', 3775), ('nautical', 3776), ('government', 3777), ('pier', 3778), ('turning', 3779), ('bringing', 3780), ('zero', 3781), ('circumpolar', 3782), ('biddell', 3783), ('tabular', 3784), ('firmly', 3785), ('wisely', 3786), ('render', 3787), ('engineer', 3788), ('threefold', 3789), ('bare', 3790), ('model', 3791), ('superintend', 3792), ('employing', 3793), ('expectation', 3794), ('unaccountable', 3795), ('comparable', 3796), ('yard', 3797), ('investigating', 3798), ('reflex', 3799), ('capitol', 3800), ('trough', 3801), ('shallow', 3802), ('quickly', 3803), ('street', 3804), ('traffic', 3805), ('establishment', 3806), ('equatoreals', 3807), ('depicting', 3808), ('neighbouring', 3809), ('pick', 3810), ('regularly', 3811), ('mr', 3812), ('serf', 3813), ('dividing', 3814), ('along', 3815), ('mounted', 3816), ('slide', 3817), ('overlap', 3818), ('oxford', 3819), ('brought', 3820), ('entered', 3821), ('precise', 3822), ('overthrew', 3823), ('delusion', 3824), ('victoria', 3825), ('sappho', 3826), ('secured', 3827), ('getting', 3828), ('circumference', 3829), ('uncertainty', 3830), ('seasonal', 3831), ('experimentally', 3832), ('thence', 3833), ('erratic', 3834), ('consisted', 3835), ('thumb', 3836), ('hung', 3837), ('vertically', 3838), ('arm', 3839), ('alexander', 3840), ('shanghai', 3841), ('jealous', 3842), ('honourable', 3843), ('mikado', 3844), ('dalai', 3845), ('lama', 3846), ('ireland', 3847), ('subtended', 3848), ('hinks', 3849), ('notices', 3850), ('accounts', 3851), ('optical', 3852), ('roger', 3853), ('baptista', 3854), ('antonio', 3855), ('refer', 3856), ('landscape', 3857), ('holland', 3858), ('zacharias', 3859), ('metius', 3860), ('venice', 3861), ('aberdeen', 3862), ('avoiding', 3863), ('elapsed', 3864), ('hadley', 3865), ('hawksbee', 3866), ('molyneaux', 3867), ('gregorian', 3868), ('chromatic', 3869), ('insurmountable', 3870), ('crown', 3871), ('flint', 3872), ('moderate', 3873), ('chester', 3874), ('moor', 3875), ('trade', 3876), ('patent', 3877), ('swiss', 3878), ('stria', 3879), ('imperfection', 3880), ('silvered', 3881), ('melbourne', 3882), ('manufacture', 3883), ('birmingham', 3884), ('jena', 3885), ('specialist', 3886), ('grinding', 3887), ('gateshead', 3888), ('nice', 3889), ('sensation', 3890), ('california', 3891), ('thompson', 3892), ('frank', 3893), ('mcclean', 3894), ('driving', 3895), ('attachment', 3896), ('dome', 3897), ('seat', 3898), ('siderostats', 3899), ('coelostat', 3900), ('convenient', 3901), ('registering', 3902), ('chronograph', 3903), ('aiding', 3904), ('chapter', 3905), ('outfit', 3906), ('suitable', 3907), ('wedge', 3908), ('forming', 3909), ('indigo', 3910), ('focussed', 3911), ('missing', 3912), ('alphabet', 3913), ('incandescent', 3914), ('glowing', 3915), ('colourless', 3916), ('thereupon', 3917), ('strengthened', 3918), ('coming', 3919), ('annular', 3920), ('negative', 3921), ('repeating', 3922), ('limelight', 3923), ('sunlight', 3924), ('absorbs', 3925), ('radiates', 3926), ('undulatory', 3927), ('chemical', 3928), ('catalogued', 3929), ('transmission', 3930), ('requires', 3931), ('technical', 3932), ('debt', 3933), ('sounding', 3934), ('everyone', 3935), ('railway', 3936), ('meeting', 3937), ('locomotive', 3938), ('whistling', 3939), ('engine', 3940), ('wave', 3941), ('ear', 3942), ('alongside', 3943), ('endorsed', 3944), ('awarding', 3945), ('anecdote', 3946), ('encourage', 3947), ('nephew', 3948), ('heap', 3949), ('descended', 3950), ('perusal', 3951), ('lent', 3952), ('kindest', 3953), ('fear', 3954), ('evident', 3955), ('verbally', 3956), ('kön', 3957), ('böhm', 3958), ('bd', 3959), ('chem', 3960), ('invariability', 3961), ('interpretation', 3962), ('warren', 3963), ('expression', 3964), ('earthly', 3965), ('geology', 3966), ('declaration', 3967), ('hypotheses', 3968), ('proclaim', 3969), ('demolished', 3970), ('harm', 3971), ('prodigious', 3972), ('entrancing', 3973), ('schemer', 3974), ('fortnight', 3975), ('reappears', 3976), ('facula', 3977), ('distinctly', 3978), ('resolve', 3979), ('fairly', 3980), ('ours', 3981), ('indication', 3982), ('tumultuous', 3983), ('occasionally', 3984), ('agitating', 3985), ('shelving', 3986), ('contradicted', 3987), ('numberless', 3988), ('eructation', 3989), ('elastic', 3990), ('eddy', 3991), ('whirlpool', 3992), ('commencing', 3993), ('dissolving', 3994), ('melted', 3995), ('plea', 3996), ('annihilation', 3997), ('resplendent', 3998), ('covering', 3999), ('impossibility', 4000), ('reproducing', 4001), ('comparative', 4002), ('memory', 4003), ('elementary', 4004), ('mostly', 4005), ('calm', 4006), ('redhill', 4007), ('surrey', 4008), ('epoch', 4009), ('dessau', 4010), ('hunted', 4011), ('establish', 4012), ('predominant', 4013), ('lament', 4014), ('scotchman', 4015), ('edward', 4016), ('affecting', 4017), ('dip', 4018), ('intensity', 4019), ('australian', 4020), ('canadian', 4021), ('zurich', 4022), ('geneva', 4023), ('violent', 4024), ('simultaneous', 4025), ('aurora', 4026), ('borealis', 4027), ('allied', 4028), ('dependence', 4029), ('vintage', 4030), ('safe', 4031), ('deprived', 4032), ('routine', 4033), ('daguerreotype', 4034), ('owes', 4035), ('collodion', 4036), ('multiplied', 4037), ('gelatine', 4038), ('dry', 4039), ('noteworthy', 4040), ('outset', 4041), ('supreme', 4042), ('libration', 4043), ('stereoscope', 4044), ('perspective', 4045), ('hewlett', 4046), ('depression', 4047), ('layer', 4048), ('exceptionally', 4049), ('keen', 4050), ('eyesight', 4051), ('rapidity', 4052), ('circulation', 4053), ('turmoil', 4054), ('deplored', 4055), ('cinematograph', 4056), ('metre', 4057), ('granule', 4058), ('clearer', 4059), ('grow', 4060), ('feebler', 4061), ('split', 4062), ('rotated', 4063), ('grain', 4064), ('britain', 4065), ('kilometre', 4066), ('supply', 4067), ('justice', 4068), ('utmost', 4069), ('endeavour', 4070), ('photographing', 4071), ('monochromatic', 4072), ('enter', 4073), ('apparatus', 4074), ('successively', 4075), ('choosing', 4076), ('astonishing', 4077), ('afford', 4078), ('broadly', 4079), ('speaking', 4080), ('baltimore', 4081), ('threw', 4082), ('entire', 4083), ('obscurity', 4084), ('infinite', 4085), ('shadowy', 4086), ('uprushes', 4087), ('downrushes', 4088), ('predominance', 4089), ('remembered', 4090), ('displacing', 4091), ('spectral', 4092), ('impressive', 4093), ('jagged', 4094), ('radiating', 4095), ('interlacing', 4096), ('sketch', 4097), ('demonstrated', 4098), ('grazed', 4099), ('sheaf', 4100), ('plume', 4101), ('petal', 4102), ('flower', 4103), ('tuft', 4104), ('hair', 4105), ('aigrette', 4106), ('radiation', 4107), ('spectroscopy', 4108), ('exclaimed', 4109), ('verrai', 4110), ('ce', 4111), ('en', 4112), ('dehors', 4113), ('uneclipsed', 4114), ('dispersive', 4115), ('greatly', 4116), ('weakened', 4117), ('news', 4118), ('prominences', 4119), ('classified', 4120), ('lie', 4121), ('correspond', 4122), ('mineral', 4123), ('cleavite', 4124), ('coronium', 4125), ('substance', 4126), ('causing', 4127), ('evolved', 4128), ('teem', 4129), ('bracciani', 4130), ('der', 4131), ('sonnenflecken', 4132), ('astron', 4133), ('nach', 4134), ('ser', 4135), ('researches', 4136), ('physics', 4137), ('commence', 4138), ('twist', 4139), ('selenography', 4140), ('eminent', 4141), ('athens', 4142), ('suffice', 4143), ('andes', 4144), ('himalayas', 4145), ('cavity', 4146), ('rugged', 4147), ('interior', 4148), ('reminding', 4149), ('splash', 4150), ('drop', 4151), ('pool', 4152), ('fifty', 4153), ('volcano', 4154), ('deny', 4155), ('grouped', 4156), ('smooth', 4157), ('inappropriate', 4158), ('streak', 4159), ('cutting', 4160), ('formation', 4161), ('blow', 4162), ('crevasse', 4163), ('glacier', 4164), ('crooked', 4165), ('rill', 4166), ('cleft', 4167), ('abundance', 4168), ('reproduced', 4169), ('await', 4170), ('occultation', 4171), ('surely', 4172), ('selection', 4173), ('mösting', 4174), ('melting', 4175), ('schroter', 4176), ('drifting', 4177), ('blurred', 4178), ('sketched', 4179), ('frequently', 4180), ('leyden', 4181), ('seventeen', 4182), ('indeterminate', 4183), ('patch', 4184), ('ruddy', 4185), ('soil', 4186), ('running', 4187), ('fellow', 4188), ('doubted', 4189), ('accepts', 4190), ('grows', 4191), ('bank', 4192), ('habitability', 4193), ('asaph', 4194), ('concealing', 4195), ('glare', 4196), ('exceedingly', 4197), ('deimos', 4198), ('unsuspected', 4199), ('easterly', 4200), ('overwhelms', 4201), ('exist', 4202), ('fontana', 4203), ('dusky', 4204), ('transient', 4205), ('quicker', 4206), ('higher', 4207), ('ellipticity', 4208), ('northern', 4209), ('margin', 4210), ('lighter', 4211), ('delightful', 4212), ('presenting', 4213), ('reflect', 4214), ('famous', 4215), ('rosy', 4216), ('whitish', 4217), ('beneath', 4218), ('balloon', 4219), ('beside', 4220), ('continue', 4221), ('tiny', 4222), ('jovian', 4223), ('continuously', 4224), ('dominique', 4225), ('pamphlet', 4226), ('saturni', 4227), ('luna', 4228), ('observatio', 4229), ('systema', 4230), ('saturnium', 4231), ('slender', 4232), ('everywhere', 4233), ('puzzled', 4234), ('amazement', 4235), ('separated', 4236), ('dispute', 4237), ('subtends', 4238), ('inner', 4239), ('equilibrium', 4240), ('exterior', 4241), ('gravel', 4242), ('tending', 4243), ('slower', 4244), ('external', 4245), ('titan', 4246), ('rhea', 4247), ('tethys', 4248), ('dione', 4249), ('mimas', 4250), ('encelades', 4251), ('hyperion', 4252), ('occasional', 4253), ('disappearance', 4254), ('partake', 4255), ('emit', 4256), ('aqueous', 4257), ('strong', 4258), ('reddish', 4259), ('broad', 4260), ('flagstaff', 4261), ('sensitive', 4262), ('intensification', 4263), ('caught', 4264), ('shoal', 4265), ('fishing', 4266), ('steam', 4267), ('trawler', 4268), ('disturbed', 4269), ('masculine', 4270), ('patroclus', 4271), ('achilles', 4272), ('van', 4273), ('langren', 4274), ('selenographia', 4275), ('lumen', 4276), ('austriae', 4277), ('philippica', 4278), ('bruxelles', 4279), ('spettr', 4280), ('nos', 4281), ('appendix', 4282), ('unlikely', 4283), ('composition', 4284), ('geissler', 4285), ('olefiant', 4286), ('differing', 4287), ('normal', 4288), ('monograph', 4289), ('electricity', 4290), ('cent', 4291), ('attache', 4292), ('splitting', 4293), ('behaviour', 4294), ('sufficient', 4295), ('forcibly', 4296), ('inevitable', 4297), ('cited', 4298), ('discrete', 4299), ('magnificent', 4300), ('leo', 4301), ('witnessed', 4302), ('mexico', 4303), ('meant', 4304), ('recall', 4305), ('fulfilled', 4306), ('obtainable', 4307), ('perseids', 4308), ('leonids', 4309), ('altona', 4310), ('subsequently', 4311), ('lyrids', 4312), ('meteoric', 4313), ('indebted', 4314), ('delineation', 4315), ('heidelburg', 4316), ('divergence', 4317), ('crossing', 4318), ('pacific', 4319), ('scout', 4320), ('coggia', 4321), ('unexpectedly', 4322), ('colonel', 4323), ('portable', 4324), ('st', 4325), ('discredit', 4326), ('earnestly', 4327), ('upwards', 4328), ('hanover', 4329), ('trained', 4330), ('musician', 4331), ('hired', 4332), ('counted', 4333), ('photometrically', 4334), ('enthusiast', 4335), ('fund', 4336), ('slough', 4337), ('quest', 4338), ('objection', 4339), ('prior', 4340), ('simplicity', 4341), ('waive', 4342), ('insisted', 4343), ('failure', 4344), ('argued', 4345), ('lyræ', 4346), ('lightyear', 4347), ('renewed', 4348), ('zeal', 4349), ('brightest', 4350), ('canopus', 4351), ('cassinis', 4352), ('vögel', 4353), ('overcame', 4354), ('decl', 4355), ('amply', 4356), ('insufficient', 4357), ('agrees', 4358), ('checked', 4359), ('annually', 4360), ('statistical', 4361), ('groningen', 4362), ('drift', 4363), ('herr', 4364), ('carl', 4365), ('zeiss', 4366), ('vastly', 4367), ('convenience', 4368), ('exceeds', 4369), ('contrasted', 4370), ('invariably', 4371), ('classed', 4372), ('presumption', 4373), ('unaffected', 4374), ('rectilinear', 4375), ('wholly', 4376), ('castor', 4377), ('serpentis', 4378), ('leonis', 4379), ('bootis', 4380), ('coronæ', 4381), ('sublime', 4382), ('hitherto', 4383), ('latterly', 4384), ('shortest', 4385), ('κ', 4386), ('pegasi', 4387), ('surest', 4388), ('smallest', 4389), ('gravitational', 4390), ('uniformity', 4391), ('adhere', 4392), ('consisting', 4393), ('cosmical', 4394), ('visibility', 4395), ('invisibility', 4396), ('testing', 4397), ('intrinsic', 4398), ('leading', 4399), ('spica', 4400), ('virginis', 4401), ('unfold', 4402), ('happened', 4403), ('ahead', 4404), ('confusion', 4405), ('clue', 4406), ('rational', 4407), ('inference', 4408), ('partner', 4409), ('intermittence', 4410), ('loses', 4411), ('regains', 4412), ('potsdam', 4413), ('spectrograph', 4414), ('supporting', 4415), ('steadily', 4416), ('sudden', 4417), ('auriga', 4418), ('scotsman', 4419), ('unsigned', 4420), ('astounding', 4421), ('traversing', 4422), ('incandescence', 4423), ('emerged', 4424), ('cooled', 4425), ('rushed', 4426), ('rushing', 4427), ('densest', 4428), ('couple', 4429), ('dashed', 4430), ('vaporised', 4431), ('paired', 4432), ('predominated', 4433), ('gradually', 4434), ('illuminating', 4435), ('head', 4436), ('lacaille', 4437), ('complementary', 4438), ('paramatta', 4439), ('astronomische', 4440), ('gesellschaft', 4441), ('cordova', 4442), ('departure', 4443), ('photographer', 4444), ('strap', 4445), ('driven', 4446), ('clockwork', 4447), ('adjusted', 4448), ('durchmusterung', 4449), ('charting', 4450), ('photographically', 4451), ('underway', 4452), ('equipped', 4453), ('conference', 4454), ('nearing', 4455), ('completion', 4456), ('automatically', 4457), ('annex', 4458), ('arequipa', 4459), ('peru', 4460), ('compiled', 4461), ('differential', 4462), ('otherwise', 4463), ('absolute', 4464), ('conjectured', 4465), ('compact', 4466), ('apt', 4467), ('harmful', 4468), ('physicist', 4469), ('phosphorescent', 4470), ('fog', 4471), ('gained', 4472), ('dispelled', 4473), ('andromeda', 4474), ('actinic', 4475), ('revealing', 4476), ('maia', 4477), ('spiral', 4478), ('district', 4479), ('painstaking', 4480), ('huge', 4481), ('destitute', 4482), ('scorpio', 4483), ('killed', 4484), ('fruit', 4485), ('discarding', 4486), ('principally', 4487), ('belonged', 4488), ('regulus', 4489), ('altair', 4490), ('breadth', 4491), ('extreme', 4492), ('rich', 4493), ('ultra', 4494), ('pollux', 4495), ('yellowish', 4496), ('herculis', 4497), ('betelgeux', 4498), ('mira', 4499), ('ceti', 4500), ('fluted', 4501), ('sharply', 4502), ('refrangible', 4503), ('schjellerup', 4504), ('canes', 4505), ('venatici', 4506), ('ruby', 4507), ('differentiated', 4508), ('absorbent', 4509), ('taught', 4510), ('interpret', 4511), ('assumption', 4512), ('lesson', 4513), ('shine', 4514), ('climax', 4515), ('cool', 4516), ('becomes', 4517), ('declare', 4518), ('distinguish', 4519), ('decreasing', 4520), ('justify', 4521), ('transmutation', 4522), ('differs', 4523), ('spark', 4524), ('concomitant', 4525), ('fluting', 4526), ('metalloids', 4527), ('pertinent', 4528), ('serve', 4529), ('calling', 4530), ('tentatively', 4531), ('du', 4532), ('supposes', 4533), ('cooling', 4534), ('condense', 4535), ('nucleus', 4536), ('contracting', 4537), ('maintain', 4538), ('planetesimal', 4539), ('journal', 4540), ('footnote', 4541), ('bredichin', 4542), ('radium', 4543), ('electron', 4544), ('rebelling', 4545), ('crowned', 4546), ('queen', 4547), ('presidential', 4548), ('ibid', 4549), ('connaisance', 4550), ('temps', 4551), ('xxvii', 4552), ('proposal', 4553), ('cataloguing', 4554), ('obverse', 4555), ('x', 4556), ('albetegnius', 4557), ('asteroids', 4558), ('bredechin', 4559), ('roy', 4560), ('eclipses', 4561), ('epicycles', 4562), ('howlett', 4563), ('lacaile', 4564), ('logarithms', 4565), ('mclean', 4566), ('di', 4567), ('molyneux', 4568), ('moyriac', 4569), ('mailla', 4570), ('nebulae', 4571), ('spectroheliograph', 4572), ('telescopes', 4573), ('walterus', 4574), ('http', 4575), ('renamed', 4576), ('print', 4577), ('specific', 4578), ('creation', 4579), ('report', 4580), ('modified', 4581), ('commercial', 4582), ('abide', 4583), ('lot', 4584), ('preserve', 4585), ('pglaf', 4586), ('compilation', 4587), ('unprotected', 4588), ('sharing', 4589), ('govern', 4590), ('downloading', 4591), ('accessed', 4592), ('performed', 4593), ('text', 4594), ('appearing', 4595), ('imposed', 4596), ('linked', 4597), ('unlink', 4598), ('detach', 4599), ('redistribute', 4600), ('convert', 4601), ('nonproprietary', 4602), ('proprietary', 4603), ('processing', 4604), ('hypertext', 4605), ('version', 4606), ('exporting', 4607), ('request', 4608), ('viewing', 4609), ('reasonable', 4610), ('pay', 4611), ('gross', 4612), ('owed', 4613), ('legally', 4614), ('notifies', 4615), ('discontinue', 4616), ('llc', 4617), ('expend', 4618), ('transcribe', 4619), ('proofread', 4620), ('despite', 4621), ('stored', 4622), ('defects', 4623), ('corrupt', 4624), ('transcription', 4625), ('infringement', 4626), ('damaged', 4627), ('disk', 4628), ('virus', 4629), ('code', 4630), ('party', 4631), ('disclaim', 4632), ('remedies', 4633), ('negligence', 4634), ('contract', 4635), ('distributor', 4636), ('liable', 4637), ('indirect', 4638), ('consequential', 4639), ('punitive', 4640), ('incidental', 4641), ('receiving', 4642), ('elect', 4643), ('merchantability', 4644), ('fitness', 4645), ('allow', 4646), ('exclusion', 4647), ('violates', 4648), ('interpreted', 4649), ('invalidity', 4650), ('unenforceability', 4651), ('remaining', 4652), ('indemnity', 4653), ('indemnify', 4654), ('agent', 4655), ('promotion', 4656), ('harmless', 4657), ('arise', 4658), ('indirectly', 4659), ('alteration', 4660), ('deletion', 4661), ('synonymous', 4662), ('obsolete', 4663), ('exists', 4664), ('walk', 4665), ('volunteers', 4666), ('financial', 4667), ('assistance', 4668), ('critical', 4669), ('ensuring', 4670), ('remain', 4671), ('secure', 4672), ('sections', 4673), ('educational', 4674), ('corporation', 4675), ('organized', 4676), ('mississippi', 4677), ('internal', 4678), ('revenue', 4679), ('ein', 4680), ('contributions', 4681), ('deductible', 4682), ('alaska', 4683), ('mailing', 4684), ('po', 4685), ('ak', 4686), ('lake', 4687), ('city', 4688), ('ut', 4689), ('newby', 4690), ('chief', 4691), ('executive', 4692), ('gbnewby', 4693), ('survive', 4694), ('licensed', 4695), ('accessible', 4696), ('array', 4697), ('outdated', 4698), ('particularly', 4699), ('irs', 4700), ('committed', 4701), ('regulating', 4702), ('charity', 4703), ('charitable', 4704), ('paperwork', 4705), ('meet', 4706), ('send', 4707), ('solicitation', 4708), ('prohibition', 4709), ('accepting', 4710), ('unsolicited', 4711), ('donor', 4712), ('offer', 4713), ('swamp', 4714), ('staff', 4715), ('current', 4716), ('card', 4717), ('hart', 4718), ('pg', 4719), ('subscribe', 4720), ('newsletter', 4721), ('hear', 4722)])"
      ]
     },
     "execution_count": 48,
     "metadata": {},
     "output_type": "execute_result"
    }
   ],
   "source": [
    "items"
   ]
  },
  {
   "cell_type": "markdown",
   "metadata": {},
   "source": [
    "# Creating Word2Vec Model"
   ]
  },
  {
   "cell_type": "code",
   "execution_count": 54,
   "metadata": {},
   "outputs": [
    {
     "name": "stdout",
     "output_type": "stream",
     "text": [
      "Model: \"functional_1\"\n",
      "__________________________________________________________________________________________________\n",
      "Layer (type)                    Output Shape         Param #     Connected to                     \n",
      "==================================================================================================\n",
      "input_7 (InputLayer)            [(None, 1)]          0                                            \n",
      "__________________________________________________________________________________________________\n",
      "input_8 (InputLayer)            [(None, 1)]          0                                            \n",
      "__________________________________________________________________________________________________\n",
      "embedding_6 (Embedding)         (None, 1, 300)       1416900     input_7[0][0]                    \n",
      "__________________________________________________________________________________________________\n",
      "embedding_7 (Embedding)         (None, 1, 300)       1416900     input_8[0][0]                    \n",
      "__________________________________________________________________________________________________\n",
      "dot_2 (Dot)                     (None, 1, 1)         0           embedding_6[0][0]                \n",
      "                                                                 embedding_7[0][0]                \n",
      "__________________________________________________________________________________________________\n",
      "reshape_1 (Reshape)             (None, 1)            0           dot_2[0][0]                      \n",
      "__________________________________________________________________________________________________\n",
      "activation_1 (Activation)       (None, 1)            0           reshape_1[0][0]                  \n",
      "==================================================================================================\n",
      "Total params: 2,833,800\n",
      "Trainable params: 2,833,800\n",
      "Non-trainable params: 0\n",
      "__________________________________________________________________________________________________\n"
     ]
    }
   ],
   "source": [
    "dim_embeddings = 300\n",
    "\n",
    "# inputs\n",
    "inputs = Input(shape=(1,),dtype='int32')\n",
    "w = Embedding(vocab_size,dim_embeddings)(inputs)\n",
    "\n",
    "#context\n",
    "c_inputs = Input(shape=(1,),dtype='int32')\n",
    "c = Embedding(vocab_size,dim_embeddings)(c_inputs)\n",
    "\n",
    "# compute similarity\n",
    "d = Dot(axes=2)([w,c])\n",
    "\n",
    "d = Reshape((1,), input_shape=(1,1))(d)\n",
    "d = Activation('sigmoid')(d)\n",
    "\n",
    "model = Model(inputs=[inputs,c_inputs],outputs = d)\n",
    "model.summary()"
   ]
  },
  {
   "cell_type": "code",
   "execution_count": 55,
   "metadata": {},
   "outputs": [],
   "source": [
    "model.compile(loss='binary_crossentropy',optimizer='adam')"
   ]
  },
  {
   "cell_type": "code",
   "execution_count": 58,
   "metadata": {
    "scrolled": true
   },
   "outputs": [
    {
     "name": "stdout",
     "output_type": "stream",
     "text": [
      "Epoch 0 \tLoss 1781.4936638064682\n",
      "Epoch 1 \tLoss 1588.9447486773133\n",
      "Epoch 2 \tLoss 1439.4026970062405\n",
      "Epoch 3 \tLoss 1311.4078500103205\n",
      "Epoch 4 \tLoss 1191.7090303339064\n",
      "Epoch 5 \tLoss 1091.5435202135704\n",
      "Epoch 6 \tLoss 1013.4644258145709\n",
      "Epoch 7 \tLoss 937.1618440927705\n",
      "Epoch 8 \tLoss 880.9855245880317\n",
      "Epoch 9 \tLoss 844.418281206541\n",
      "Epoch 10 \tLoss 800.4492275445955\n",
      "Epoch 11 \tLoss 778.2931408962686\n",
      "Epoch 12 \tLoss 750.221392060339\n",
      "Epoch 13 \tLoss 732.5436652666904\n",
      "Epoch 14 \tLoss 723.0847705991328\n"
     ]
    }
   ],
   "source": [
    "n_epochs = 15\n",
    "for epoch in range(n_epochs):\n",
    "    loss = 0\n",
    "    for i, doc in enumerate(X_train_tokens):\n",
    "        data, labels = skipgrams(sequence=doc,vocabulary_size=vocab_size,window_size=4)\n",
    "        x = [np.array(x) for x in zip(*data)]\n",
    "        y = np.array(labels, dtype=np.int32)\n",
    "        if x:\n",
    "            loss += model.train_on_batch(x,y)\n",
    "            \n",
    "    print('Epoch', epoch, '\\tLoss', loss)"
   ]
  },
  {
   "cell_type": "code",
   "execution_count": 59,
   "metadata": {
    "scrolled": true
   },
   "outputs": [
    {
     "data": {
      "text/plain": [
       "[[4722, 316],\n",
       " [69, 854],\n",
       " [4721, 2726],\n",
       " [5, 1338],\n",
       " [2693, 4720],\n",
       " [4720, 2023],\n",
       " [854, 1511],\n",
       " [4722, 5],\n",
       " [5, 1420],\n",
       " [58, 962],\n",
       " [119, 5],\n",
       " [4722, 872],\n",
       " [119, 4088],\n",
       " [5, 561],\n",
       " [69, 4721],\n",
       " [69, 58],\n",
       " [69, 5],\n",
       " [4722, 4721],\n",
       " [58, 854],\n",
       " [5, 2693],\n",
       " [4722, 119],\n",
       " [4721, 4720],\n",
       " [4722, 854],\n",
       " [2693, 119],\n",
       " [2693, 422],\n",
       " [854, 1856],\n",
       " [119, 5],\n",
       " [5, 119],\n",
       " [119, 2382],\n",
       " [2693, 4722],\n",
       " [4721, 4249],\n",
       " [2693, 2269],\n",
       " [4721, 2240],\n",
       " [2693, 4721],\n",
       " [4722, 58],\n",
       " [58, 5],\n",
       " [4722, 411],\n",
       " [119, 4720],\n",
       " [5, 4134],\n",
       " [2693, 3032],\n",
       " [58, 4722],\n",
       " [854, 69],\n",
       " [5, 4721],\n",
       " [58, 2596],\n",
       " [119, 455],\n",
       " [2693, 4609],\n",
       " [4722, 69],\n",
       " [4720, 2971],\n",
       " [854, 4627],\n",
       " [5, 4720],\n",
       " [119, 4722],\n",
       " [5, 4721],\n",
       " [5, 4217],\n",
       " [4721, 119],\n",
       " [5, 3406],\n",
       " [5, 4722],\n",
       " [119, 4722],\n",
       " [2693, 58],\n",
       " [69, 3360],\n",
       " [5, 408],\n",
       " [4720, 4721],\n",
       " [4721, 5],\n",
       " [58, 4231],\n",
       " [69, 2802],\n",
       " [4720, 5],\n",
       " [5, 69],\n",
       " [2693, 763],\n",
       " [5, 58],\n",
       " [4721, 2910],\n",
       " [119, 2693],\n",
       " [58, 4399],\n",
       " [854, 4722],\n",
       " [58, 3356],\n",
       " [4721, 2693],\n",
       " [4722, 952],\n",
       " [5, 119],\n",
       " [58, 2693],\n",
       " [4721, 69],\n",
       " [2693, 261],\n",
       " [5, 5],\n",
       " [69, 3286],\n",
       " [5, 3628],\n",
       " [4722, 2693],\n",
       " [5, 2022],\n",
       " [854, 2317],\n",
       " [58, 69],\n",
       " [69, 1450],\n",
       " [4721, 58],\n",
       " [58, 4721],\n",
       " [5, 4260],\n",
       " [4722, 2312],\n",
       " [4720, 2693],\n",
       " [5, 2693],\n",
       " [119, 4721],\n",
       " [119, 976],\n",
       " [2693, 5],\n",
       " [854, 58],\n",
       " [2693, 5],\n",
       " [854, 5],\n",
       " [4720, 1878],\n",
       " [4721, 5],\n",
       " [4721, 2834],\n",
       " [4720, 4314],\n",
       " [4721, 1710],\n",
       " [2693, 4651],\n",
       " [5, 2524],\n",
       " [4721, 4722],\n",
       " [5, 1539],\n",
       " [58, 153],\n",
       " [4722, 1918],\n",
       " [4721, 3758],\n",
       " [5, 5],\n",
       " [69, 4193],\n",
       " [69, 4722],\n",
       " [5, 854],\n",
       " [4722, 574],\n",
       " [119, 4304],\n",
       " [4720, 119],\n",
       " [4721, 2600],\n",
       " [5, 4545]]"
      ]
     },
     "execution_count": 59,
     "metadata": {},
     "output_type": "execute_result"
    }
   ],
   "source": [
    "data"
   ]
  },
  {
   "cell_type": "code",
   "execution_count": 60,
   "metadata": {
    "scrolled": true
   },
   "outputs": [
    {
     "data": {
      "text/plain": [
       "[0,\n",
       " 1,\n",
       " 0,\n",
       " 0,\n",
       " 1,\n",
       " 0,\n",
       " 0,\n",
       " 1,\n",
       " 0,\n",
       " 0,\n",
       " 1,\n",
       " 0,\n",
       " 0,\n",
       " 0,\n",
       " 1,\n",
       " 1,\n",
       " 1,\n",
       " 1,\n",
       " 1,\n",
       " 1,\n",
       " 1,\n",
       " 1,\n",
       " 1,\n",
       " 1,\n",
       " 0,\n",
       " 0,\n",
       " 1,\n",
       " 1,\n",
       " 0,\n",
       " 1,\n",
       " 0,\n",
       " 0,\n",
       " 0,\n",
       " 1,\n",
       " 1,\n",
       " 1,\n",
       " 0,\n",
       " 1,\n",
       " 0,\n",
       " 0,\n",
       " 1,\n",
       " 1,\n",
       " 1,\n",
       " 0,\n",
       " 0,\n",
       " 0,\n",
       " 1,\n",
       " 0,\n",
       " 0,\n",
       " 1,\n",
       " 1,\n",
       " 1,\n",
       " 0,\n",
       " 1,\n",
       " 0,\n",
       " 1,\n",
       " 0,\n",
       " 1,\n",
       " 0,\n",
       " 0,\n",
       " 1,\n",
       " 1,\n",
       " 0,\n",
       " 0,\n",
       " 1,\n",
       " 1,\n",
       " 0,\n",
       " 1,\n",
       " 0,\n",
       " 1,\n",
       " 0,\n",
       " 1,\n",
       " 0,\n",
       " 1,\n",
       " 0,\n",
       " 1,\n",
       " 1,\n",
       " 1,\n",
       " 0,\n",
       " 1,\n",
       " 0,\n",
       " 0,\n",
       " 1,\n",
       " 0,\n",
       " 0,\n",
       " 1,\n",
       " 0,\n",
       " 1,\n",
       " 1,\n",
       " 0,\n",
       " 0,\n",
       " 1,\n",
       " 1,\n",
       " 1,\n",
       " 0,\n",
       " 1,\n",
       " 1,\n",
       " 1,\n",
       " 1,\n",
       " 0,\n",
       " 1,\n",
       " 0,\n",
       " 0,\n",
       " 0,\n",
       " 0,\n",
       " 0,\n",
       " 1,\n",
       " 0,\n",
       " 0,\n",
       " 0,\n",
       " 0,\n",
       " 1,\n",
       " 0,\n",
       " 1,\n",
       " 1,\n",
       " 0,\n",
       " 0,\n",
       " 1,\n",
       " 0,\n",
       " 0]"
      ]
     },
     "execution_count": 60,
     "metadata": {},
     "output_type": "execute_result"
    }
   ],
   "source": [
    "labels"
   ]
  },
  {
   "cell_type": "markdown",
   "metadata": {},
   "source": [
    "## Saving model"
   ]
  },
  {
   "cell_type": "code",
   "execution_count": 74,
   "metadata": {},
   "outputs": [],
   "source": [
    "f = open('word2vec-skipgrams.txt','w', encoding='utf-8')\n",
    "f.write('{} {}\\n'.format(vocab_size-1, dim_embeddings))\n",
    "\n",
    "weights = model.get_weights()[0]\n",
    "for word, i in items:\n",
    "    f.write('{} {}\\n'.format(word, ' '.join(map(str, list(weights[i,:])))))\n",
    "f.close()"
   ]
  },
  {
   "cell_type": "markdown",
   "metadata": {},
   "source": [
    "## Loading Model"
   ]
  },
  {
   "cell_type": "code",
   "execution_count": 78,
   "metadata": {},
   "outputs": [],
   "source": [
    "w2v = gensim.models.KeyedVectors.load_word2vec_format('word2vec-skipgrams.txt', binary=False)"
   ]
  },
  {
   "cell_type": "code",
   "execution_count": 80,
   "metadata": {},
   "outputs": [
    {
     "data": {
      "text/plain": [
       "[('eclipses', 0.4622095823287964),\n",
       " ('dissolving', 0.4327881336212158),\n",
       " ('physics', 0.43065494298934937),\n",
       " ('researches', 0.4024451673030853),\n",
       " ('obverse', 0.37765634059906006),\n",
       " ('system', 0.363186240196228),\n",
       " ('hide', 0.3564595580101013),\n",
       " ('total', 0.3548147678375244),\n",
       " ('grazed', 0.347744345664978),\n",
       " ('intensified', 0.34372782707214355)]"
      ]
     },
     "execution_count": 80,
     "metadata": {},
     "output_type": "execute_result"
    }
   ],
   "source": [
    "w2v.most_similar(positive=['solar'])"
   ]
  },
  {
   "cell_type": "code",
   "execution_count": 81,
   "metadata": {},
   "outputs": [
    {
     "data": {
      "text/plain": [
       "[('advocated', 0.4125906825065613),\n",
       " ('copernican', 0.3974606990814209),\n",
       " ('ptolemean', 0.380581796169281),\n",
       " ('complicated', 0.37141451239585876),\n",
       " ('binary', 0.3678063154220581),\n",
       " ('solar', 0.36318621039390564),\n",
       " ('propounded', 0.3622959852218628),\n",
       " ('observational', 0.3563804030418396),\n",
       " ('radical', 0.34301120042800903),\n",
       " ('turmoil', 0.3428192138671875)]"
      ]
     },
     "execution_count": 81,
     "metadata": {},
     "output_type": "execute_result"
    }
   ],
   "source": [
    "w2v.most_similar(positive=['system'])"
   ]
  },
  {
   "cell_type": "code",
   "execution_count": 82,
   "metadata": {},
   "outputs": [
    {
     "data": {
      "text/plain": [
       "[('johannes', 0.5228484869003296),\n",
       " ('wanderer', 0.5217564105987549),\n",
       " ('f', 0.5156950354576111),\n",
       " ('contemplated', 0.4745159149169922),\n",
       " ('reitlinger', 0.4489484429359436),\n",
       " ('surer', 0.4238871932029724),\n",
       " ('joy', 0.38644975423812866),\n",
       " ('leave', 0.38324227929115295),\n",
       " ('portrait', 0.37249815464019775),\n",
       " ('masculine', 0.36554208397865295)]"
      ]
     },
     "execution_count": 82,
     "metadata": {},
     "output_type": "execute_result"
    }
   ],
   "source": [
    "w2v.most_similar(positive=['kepler'])"
   ]
  },
  {
   "cell_type": "code",
   "execution_count": null,
   "metadata": {},
   "outputs": [],
   "source": []
  }
 ],
 "metadata": {
  "kernelspec": {
   "display_name": "Python 3",
   "language": "python",
   "name": "python3"
  },
  "language_info": {
   "codemirror_mode": {
    "name": "ipython",
    "version": 3
   },
   "file_extension": ".py",
   "mimetype": "text/x-python",
   "name": "python",
   "nbconvert_exporter": "python",
   "pygments_lexer": "ipython3",
   "version": "3.8.5"
  }
 },
 "nbformat": 4,
 "nbformat_minor": 5
}
