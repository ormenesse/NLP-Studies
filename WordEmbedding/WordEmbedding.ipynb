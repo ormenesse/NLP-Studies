{
 "cells": [
  {
   "cell_type": "code",
   "execution_count": 1,
   "id": "japanese-prototype",
   "metadata": {},
   "outputs": [],
   "source": [
    "import tensorflow as tf"
   ]
  },
  {
   "cell_type": "code",
   "execution_count": 14,
   "id": "whole-princess",
   "metadata": {},
   "outputs": [],
   "source": [
    "import tensorflow.keras as keras"
   ]
  },
  {
   "cell_type": "code",
   "execution_count": 2,
   "id": "ideal-rwanda",
   "metadata": {},
   "outputs": [],
   "source": [
    "from tensorflow.keras.preprocessing.sequence import pad_sequences"
   ]
  },
  {
   "cell_type": "code",
   "execution_count": 4,
   "id": "german-colony",
   "metadata": {},
   "outputs": [
    {
     "name": "stderr",
     "output_type": "stream",
     "text": [
      "Using TensorFlow backend.\n"
     ]
    }
   ],
   "source": [
    "from tensorflow.keras.datasets import imdb"
   ]
  },
  {
   "cell_type": "code",
   "execution_count": 5,
   "id": "level-collectible",
   "metadata": {},
   "outputs": [],
   "source": [
    "import pickle"
   ]
  },
  {
   "cell_type": "markdown",
   "id": "traditional-minister",
   "metadata": {},
   "source": [
    "Loading DataSet"
   ]
  },
  {
   "cell_type": "code",
   "execution_count": 6,
   "id": "suspended-george",
   "metadata": {},
   "outputs": [],
   "source": [
    "num_words = 10000"
   ]
  },
  {
   "cell_type": "code",
   "execution_count": 7,
   "id": "imported-closure",
   "metadata": {},
   "outputs": [],
   "source": [
    "import numpy as np\n",
    "# save np.load\n",
    "np_load_old = np.load\n",
    "\n",
    "# modify the default parameters of np.load\n",
    "np.load = lambda *a,**k: np_load_old(*a, allow_pickle=True, **k)\n",
    "\n",
    "# call load_data with allow_pickle implicitly set to true\n",
    "(X_train, y_train), (X_test, y_test) = imdb.load_data(num_words=10000)\n",
    "\n",
    "# restore np.load for future normal usage\n",
    "np.load = np_load_old"
   ]
  },
  {
   "cell_type": "code",
   "execution_count": 8,
   "id": "supported-request",
   "metadata": {},
   "outputs": [
    {
     "name": "stdout",
     "output_type": "stream",
     "text": [
      "25000\n",
      "25000\n"
     ]
    }
   ],
   "source": [
    "print(len(X_train))\n",
    "print(len(X_test))"
   ]
  },
  {
   "cell_type": "code",
   "execution_count": 9,
   "id": "destroyed-renewal",
   "metadata": {},
   "outputs": [],
   "source": [
    "max_len = 256\n",
    "embedding_size = 32\n",
    "batch_size = 128"
   ]
  },
  {
   "cell_type": "markdown",
   "id": "controlling-amplifier",
   "metadata": {},
   "source": [
    "# Normalize length of the vectors"
   ]
  },
  {
   "cell_type": "code",
   "execution_count": 10,
   "id": "broken-kitty",
   "metadata": {},
   "outputs": [],
   "source": [
    "pad = 'post' # 'pre'"
   ]
  },
  {
   "cell_type": "code",
   "execution_count": 11,
   "id": "english-fifty",
   "metadata": {},
   "outputs": [],
   "source": [
    "X_train_pad = pad_sequences(X_train,maxlen=max_len, padding=pad,truncating=pad)\n",
    "X_test_pad = pad_sequences(X_test,maxlen=max_len, padding=pad,truncating=pad)"
   ]
  },
  {
   "cell_type": "code",
   "execution_count": 12,
   "id": "regular-alloy",
   "metadata": {},
   "outputs": [
    {
     "data": {
      "text/plain": [
       "((25000, 256), (25000, 256))"
      ]
     },
     "execution_count": 12,
     "metadata": {},
     "output_type": "execute_result"
    }
   ],
   "source": [
    "X_train_pad.shape, X_test_pad.shape"
   ]
  },
  {
   "cell_type": "markdown",
   "id": "smooth-repository",
   "metadata": {},
   "source": [
    "### Creating neural network"
   ]
  },
  {
   "cell_type": "code",
   "execution_count": 35,
   "id": "photographic-concept",
   "metadata": {},
   "outputs": [],
   "source": [
    "model = keras.Sequential()"
   ]
  },
  {
   "cell_type": "code",
   "execution_count": 36,
   "id": "wrong-hebrew",
   "metadata": {},
   "outputs": [],
   "source": [
    "model.add(tf.keras.layers.Embedding(input_dim=num_words,output_dim=embedding_size,input_length=max_len,name='layer_embedding'))"
   ]
  },
  {
   "cell_type": "code",
   "execution_count": 37,
   "id": "delayed-wrong",
   "metadata": {},
   "outputs": [],
   "source": [
    "model.add(tf.keras.layers.Flatten())"
   ]
  },
  {
   "cell_type": "code",
   "execution_count": 38,
   "id": "operational-playback",
   "metadata": {},
   "outputs": [],
   "source": [
    "model.add(tf.keras.layers.Dense(250,activation='relu'))"
   ]
  },
  {
   "cell_type": "code",
   "execution_count": 39,
   "id": "induced-evening",
   "metadata": {},
   "outputs": [],
   "source": [
    "model.add(tf.keras.layers.Dropout(0.75))"
   ]
  },
  {
   "cell_type": "code",
   "execution_count": 40,
   "id": "restricted-generator",
   "metadata": {},
   "outputs": [],
   "source": [
    "# Final\n",
    "model.add(tf.keras.layers.Dense(1,activation='sigmoid'))"
   ]
  },
  {
   "cell_type": "code",
   "execution_count": 41,
   "id": "painful-meeting",
   "metadata": {},
   "outputs": [],
   "source": [
    "model.compile(loss='binary_crossentropy',optimizer='adam', metrics=[tf.keras.metrics.AUC(),'accuracy'])"
   ]
  },
  {
   "cell_type": "code",
   "execution_count": 42,
   "id": "overhead-bookmark",
   "metadata": {},
   "outputs": [
    {
     "name": "stdout",
     "output_type": "stream",
     "text": [
      "Model: \"sequential_2\"\n",
      "_________________________________________________________________\n",
      "Layer (type)                 Output Shape              Param #   \n",
      "=================================================================\n",
      "layer_embedding (Embedding)  (None, 256, 32)           320000    \n",
      "_________________________________________________________________\n",
      "flatten_2 (Flatten)          (None, 8192)              0         \n",
      "_________________________________________________________________\n",
      "dense_4 (Dense)              (None, 250)               2048250   \n",
      "_________________________________________________________________\n",
      "dropout_2 (Dropout)          (None, 250)               0         \n",
      "_________________________________________________________________\n",
      "dense_5 (Dense)              (None, 1)                 251       \n",
      "=================================================================\n",
      "Total params: 2,368,501\n",
      "Trainable params: 2,368,501\n",
      "Non-trainable params: 0\n",
      "_________________________________________________________________\n"
     ]
    }
   ],
   "source": [
    "model.summary()"
   ]
  },
  {
   "cell_type": "code",
   "execution_count": 43,
   "id": "according-theology",
   "metadata": {},
   "outputs": [
    {
     "name": "stdout",
     "output_type": "stream",
     "text": [
      "196/196 [==============================] - 3s 15ms/step - loss: 0.5123 - auc_2: 0.8176 - accuracy: 0.7235 - val_loss: 0.3291 - val_auc_2: 0.9354 - val_accuracy: 0.8574\n"
     ]
    },
    {
     "data": {
      "text/plain": [
       "<tensorflow.python.keras.callbacks.History at 0x12b348c1cc0>"
      ]
     },
     "execution_count": 43,
     "metadata": {},
     "output_type": "execute_result"
    }
   ],
   "source": [
    "model.fit(X_train_pad,y_train,epochs=1,validation_data=(X_test_pad,y_test),batch_size=batch_size)"
   ]
  },
  {
   "cell_type": "code",
   "execution_count": 44,
   "id": "offensive-criticism",
   "metadata": {},
   "outputs": [
    {
     "name": "stdout",
     "output_type": "stream",
     "text": [
      "782/782 [==============================] - 2s 3ms/step - loss: 0.3291 - auc_2: 0.9354 - accuracy: 0.8574\n"
     ]
    }
   ],
   "source": [
    "eval_ = model.evaluate(X_test_pad, y_test)"
   ]
  },
  {
   "cell_type": "code",
   "execution_count": 46,
   "id": "meaningful-arbor",
   "metadata": {},
   "outputs": [
    {
     "data": {
      "text/plain": [
       "[0.3291057348251343, 0.9353583455085754, 0.8573600053787231]"
      ]
     },
     "execution_count": 46,
     "metadata": {},
     "output_type": "execute_result"
    }
   ],
   "source": [
    "eval_"
   ]
  },
  {
   "cell_type": "code",
   "execution_count": 45,
   "id": "another-employment",
   "metadata": {},
   "outputs": [
    {
     "data": {
      "text/plain": [
       "array([0, 1, 1, ..., 0, 0, 0], dtype=int64)"
      ]
     },
     "execution_count": 45,
     "metadata": {},
     "output_type": "execute_result"
    }
   ],
   "source": [
    "y_test"
   ]
  },
  {
   "cell_type": "markdown",
   "id": "assured-operations",
   "metadata": {},
   "source": [
    "# Word Embedding Visualization"
   ]
  },
  {
   "cell_type": "code",
   "execution_count": 48,
   "id": "downtown-horizon",
   "metadata": {},
   "outputs": [],
   "source": [
    "from gensim.models import Word2Vec\n",
    "from sklearn.manifold import TSNE\n",
    "from sklearn.decomposition import PCA\n",
    "import matplotlib.pyplot as plt\n",
    "import numpy as np"
   ]
  },
  {
   "cell_type": "code",
   "execution_count": 49,
   "id": "sized-myanmar",
   "metadata": {},
   "outputs": [],
   "source": [
    "sentences = [\n",
    "    ['this','is','a','very','good','NLP','course'],\n",
    "    ['this','is','a','NLP','course'],\n",
    "    ['Word2Vec','NLP','text'],\n",
    "    ['word','embedding','NLP'],\n",
    "    ['NLP','course','Word2Vec','embedding']\n",
    "]"
   ]
  },
  {
   "cell_type": "code",
   "execution_count": 50,
   "id": "productive-consensus",
   "metadata": {},
   "outputs": [],
   "source": [
    "model = Word2Vec(sentences, min_count=1)"
   ]
  },
  {
   "cell_type": "code",
   "execution_count": 52,
   "id": "dutch-blame",
   "metadata": {},
   "outputs": [
    {
     "name": "stdout",
     "output_type": "stream",
     "text": [
      "Word2Vec(vocab=11, size=100, alpha=0.025)\n"
     ]
    }
   ],
   "source": [
    "print(model)"
   ]
  },
  {
   "cell_type": "code",
   "execution_count": 53,
   "id": "sweet-diameter",
   "metadata": {},
   "outputs": [
    {
     "name": "stdout",
     "output_type": "stream",
     "text": [
      "['this', 'is', 'a', 'very', 'good', 'NLP', 'course', 'Word2Vec', 'text', 'word', 'embedding']\n"
     ]
    }
   ],
   "source": [
    "words = list(model.wv.vocab)\n",
    "print(words)"
   ]
  },
  {
   "cell_type": "code",
   "execution_count": 58,
   "id": "complete-liver",
   "metadata": {},
   "outputs": [
    {
     "name": "stdout",
     "output_type": "stream",
     "text": [
      "[ 1.3822746e-03  2.2828465e-03  2.4949040e-03 -1.0671936e-03\n",
      "  4.4492139e-03  3.3949027e-04  1.7095858e-03  3.5732731e-04\n",
      "  8.8509194e-05  3.5073103e-03 -4.7271503e-03  3.4126261e-04\n",
      " -3.3906791e-03 -3.9357552e-03  1.3446050e-03  1.1050621e-03\n",
      "  2.0888283e-04  4.2314362e-03  2.7531339e-03  1.5800101e-04\n",
      "  1.4283962e-03  1.9019279e-03  3.3004028e-03  2.0442728e-03\n",
      "  3.2097695e-03  3.0457510e-03 -4.8000272e-03 -2.6726723e-03\n",
      " -2.6791818e-03 -4.1607814e-03  1.7369305e-03 -2.6086266e-03\n",
      " -3.8380728e-03 -4.5804164e-04  2.8012712e-03  4.7559794e-03\n",
      "  4.8731137e-03  4.1016890e-03  2.3711666e-03 -3.0580526e-03\n",
      "  7.3784380e-04 -8.8069920e-04 -2.7650716e-03 -4.6734121e-03\n",
      " -9.2280691e-04 -2.7930201e-03  7.0240075e-04 -3.6278521e-03\n",
      "  3.9374009e-03 -1.8890770e-03  4.6724677e-03  2.9394568e-03\n",
      " -4.4590812e-03 -9.3564321e-04 -1.2913994e-03  3.5552247e-03\n",
      "  2.6567292e-03  1.5206382e-03  2.2733721e-03 -6.7199732e-04\n",
      " -1.9788737e-03 -2.0002162e-03  3.1735536e-03 -4.4340617e-03\n",
      " -2.2323166e-03  1.8469027e-04  4.6008825e-03  2.4642486e-03\n",
      "  2.1817184e-03 -1.5896386e-03  3.1227011e-03 -4.0375832e-03\n",
      " -1.2017679e-04  3.3393439e-03  2.1734175e-03 -7.0373353e-04\n",
      " -4.6863877e-03 -4.0265010e-03  4.4409940e-03 -3.7326044e-03\n",
      " -1.4550982e-04  2.8768305e-03 -2.3735238e-03  1.7597635e-04\n",
      " -4.8283967e-03 -1.1733285e-03  2.2139619e-04 -3.7086144e-04\n",
      " -4.4108331e-03 -1.0650249e-03 -1.7528491e-04  4.7121765e-03\n",
      "  9.2503941e-04 -4.5154523e-03  3.3871774e-03 -3.1033338e-03\n",
      "  1.2491295e-03 -1.8199497e-03 -3.2475875e-03  9.6406357e-04]\n",
      "100\n"
     ]
    },
    {
     "name": "stderr",
     "output_type": "stream",
     "text": [
      "C:\\Users\\vorme\\AppData\\Roaming\\Python\\Python37\\site-packages\\ipykernel_launcher.py:1: DeprecationWarning: Call to deprecated `__getitem__` (Method will be removed in 4.0.0, use self.wv.__getitem__() instead).\n",
      "  \"\"\"Entry point for launching an IPython kernel.\n",
      "C:\\Users\\vorme\\AppData\\Roaming\\Python\\Python37\\site-packages\\ipykernel_launcher.py:2: DeprecationWarning: Call to deprecated `__getitem__` (Method will be removed in 4.0.0, use self.wv.__getitem__() instead).\n",
      "  \n"
     ]
    }
   ],
   "source": [
    "print(model['course'])\n",
    "print(len(model['course']))"
   ]
  },
  {
   "cell_type": "code",
   "execution_count": null,
   "id": "english-citizenship",
   "metadata": {},
   "outputs": [],
   "source": [
    "model.save('blabla.bin')\n",
    "new_model = Word2Vec.load('blabla.bin')"
   ]
  },
  {
   "cell_type": "code",
   "execution_count": 59,
   "id": "fewer-anxiety",
   "metadata": {},
   "outputs": [
    {
     "name": "stderr",
     "output_type": "stream",
     "text": [
      "C:\\Users\\vorme\\AppData\\Roaming\\Python\\Python37\\site-packages\\ipykernel_launcher.py:1: DeprecationWarning: Call to deprecated `__getitem__` (Method will be removed in 4.0.0, use self.wv.__getitem__() instead).\n",
      "  \"\"\"Entry point for launching an IPython kernel.\n"
     ]
    }
   ],
   "source": [
    "X = model[model.wv.vocab]"
   ]
  },
  {
   "cell_type": "code",
   "execution_count": 60,
   "id": "lasting-thompson",
   "metadata": {},
   "outputs": [
    {
     "data": {
      "text/plain": [
       "(11, 100)"
      ]
     },
     "execution_count": 60,
     "metadata": {},
     "output_type": "execute_result"
    }
   ],
   "source": [
    "X.shape"
   ]
  },
  {
   "cell_type": "code",
   "execution_count": 61,
   "id": "split-haven",
   "metadata": {},
   "outputs": [],
   "source": [
    "pca = PCA(n_components=2)\n",
    "result = pca.fit_transform(X)"
   ]
  },
  {
   "cell_type": "code",
   "execution_count": 62,
   "id": "deluxe-healthcare",
   "metadata": {},
   "outputs": [
    {
     "data": {
      "image/png": "[encoded data removed]",
      "text/plain": [
       "<Figure size 432x288 with 1 Axes>"
      ]
     },
     "metadata": {
      "needs_background": "light"
     },
     "output_type": "display_data"
    }
   ],
   "source": [
    "plt.scatter(result[:,0], result[:,1])\n",
    "words = list(model.wv.vocab)\n",
    "for i, word in enumerate(words):\n",
    "    plt.annotate(word,xy=(result[i,0], result[i,1]))\n",
    "plt.show()"
   ]
  },
  {
   "cell_type": "code",
   "execution_count": 63,
   "id": "french-study",
   "metadata": {},
   "outputs": [],
   "source": [
    "from gensim.models import KeyedVectors\n",
    "filename = 'GoogleNews-vectors-negative300.bin'\n",
    "model = KeyedVectors.load_word2vec_format(filename,binary=True)"
   ]
  },
  {
   "cell_type": "code",
   "execution_count": 64,
   "id": "parental-angola",
   "metadata": {},
   "outputs": [],
   "source": [
    "result = model.most_similar(positive=['woman','king'],negative=['man'],topn=5)"
   ]
  },
  {
   "cell_type": "code",
   "execution_count": 65,
   "id": "african-palestinian",
   "metadata": {},
   "outputs": [
    {
     "name": "stdout",
     "output_type": "stream",
     "text": [
      "[('queen', 0.7118192911148071), ('monarch', 0.6189674139022827), ('princess', 0.5902431011199951), ('crown_prince', 0.5499460697174072), ('prince', 0.5377321243286133)]\n"
     ]
    }
   ],
   "source": [
    "print(result)"
   ]
  },
  {
   "cell_type": "code",
   "execution_count": 66,
   "id": "smooth-speaking",
   "metadata": {},
   "outputs": [
    {
     "data": {
      "text/plain": [
       "[('man', 0.6628609895706177),\n",
       " ('queen', 0.6438563466072083),\n",
       " ('girl', 0.6136074662208557),\n",
       " ('princess', 0.6087510585784912),\n",
       " ('monarch', 0.5900576114654541)]"
      ]
     },
     "execution_count": 66,
     "metadata": {},
     "output_type": "execute_result"
    }
   ],
   "source": [
    "model.most_similar(positive=['woman','king'],topn=5)"
   ]
  },
  {
   "cell_type": "code",
   "execution_count": null,
   "id": "emotional-intersection",
   "metadata": {},
   "outputs": [],
   "source": []
  }
 ],
 "metadata": {
  "kernelspec": {
   "display_name": "Python 3",
   "language": "python",
   "name": "python3"
  },
  "language_info": {
   "codemirror_mode": {
    "name": "ipython",
    "version": 3
   },
   "file_extension": ".py",
   "mimetype": "text/x-python",
   "name": "python",
   "nbconvert_exporter": "python",
   "pygments_lexer": "ipython3",
   "version": "3.7.3"
  }
 },
 "nbformat": 4,
 "nbformat_minor": 5
}
