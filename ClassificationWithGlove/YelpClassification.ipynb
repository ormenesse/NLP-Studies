{
 "cells": [
  {
   "cell_type": "code",
   "execution_count": 1,
   "id": "mobile-celebration",
   "metadata": {},
   "outputs": [],
   "source": [
    "import tensorflow as tf"
   ]
  },
  {
   "cell_type": "code",
   "execution_count": 3,
   "id": "accessory-rally",
   "metadata": {},
   "outputs": [
    {
     "name": "stdout",
     "output_type": "stream",
     "text": [
      "Num GPUs Available:  1\n"
     ]
    }
   ],
   "source": [
    "print(\"Num GPUs Available: \", len(tf.config.list_physical_devices('GPU')))"
   ]
  },
  {
   "cell_type": "code",
   "execution_count": 49,
   "id": "pleased-infection",
   "metadata": {},
   "outputs": [],
   "source": [
    "from tensorflow.python.keras.models import Sequential, Model\n",
    "from tensorflow.python.keras.layers import Embedding, Reshape, Activation, Input, Flatten, Dropout, Dense\n",
    "from tensorflow.python.keras.layers.merge import Dot\n",
    "from tensorflow.python.keras.utils import np_utils\n",
    "from tensorflow.python.keras.utils.data_utils import get_file\n",
    "from tensorflow.python.keras.preprocessing.text import Tokenizer\n",
    "from tensorflow.python.keras.preprocessing.sequence import skipgrams, pad_sequences\n",
    "from tensorflow.python.keras.callbacks import EarlyStopping, ModelCheckpoint"
   ]
  },
  {
   "cell_type": "code",
   "execution_count": 5,
   "id": "several-substance",
   "metadata": {},
   "outputs": [],
   "source": [
    "import numpy as np\n",
    "import os\n",
    "import pandas as pd\n",
    "import gensim\n",
    "import nltk\n",
    "import string\n",
    "from nltk.corpus import stopwords\n",
    "from nltk.stem import SnowballStemmer\n",
    "from sklearn.manifold import TSNE"
   ]
  },
  {
   "cell_type": "code",
   "execution_count": 12,
   "id": "racial-marketplace",
   "metadata": {},
   "outputs": [],
   "source": [
    "import re"
   ]
  },
  {
   "cell_type": "code",
   "execution_count": 6,
   "id": "chubby-champagne",
   "metadata": {},
   "outputs": [
    {
     "data": {
      "text/html": [
       "        <script type=\"text/javascript\">\n",
       "        window.PlotlyConfig = {MathJaxConfig: 'local'};\n",
       "        if (window.MathJax) {MathJax.Hub.Config({SVG: {font: \"STIX-Web\"}});}\n",
       "        if (typeof require !== 'undefined') {\n",
       "        require.undef(\"plotly\");\n",
       "        requirejs.config({\n",
       "            paths: {\n",
       "                'plotly': ['https://cdn.plot.ly/plotly-latest.min']\n",
       "            }\n",
       "        });\n",
       "        require(['plotly'], function(Plotly) {\n",
       "            window._Plotly = Plotly;\n",
       "        });\n",
       "        }\n",
       "        </script>\n",
       "        "
      ]
     },
     "metadata": {},
     "output_type": "display_data"
    }
   ],
   "source": [
    "import plotly.offline as py\n",
    "import plotly.graph_objs as go\n",
    "py.init_notebook_mode(connected=True)"
   ]
  },
  {
   "cell_type": "markdown",
   "id": "knowing-capture",
   "metadata": {},
   "source": [
    "reading dataframe"
   ]
  },
  {
   "cell_type": "code",
   "execution_count": 7,
   "id": "stopped-glasgow",
   "metadata": {},
   "outputs": [
    {
     "data": {
      "text/html": [
       "<div>\n",
       "<style scoped>\n",
       "    .dataframe tbody tr th:only-of-type {\n",
       "        vertical-align: middle;\n",
       "    }\n",
       "\n",
       "    .dataframe tbody tr th {\n",
       "        vertical-align: top;\n",
       "    }\n",
       "\n",
       "    .dataframe thead th {\n",
       "        text-align: right;\n",
       "    }\n",
       "</style>\n",
       "<table border=\"1\" class=\"dataframe\">\n",
       "  <thead>\n",
       "    <tr style=\"text-align: right;\">\n",
       "      <th></th>\n",
       "      <th>business_id</th>\n",
       "      <th>date</th>\n",
       "      <th>review_id</th>\n",
       "      <th>stars</th>\n",
       "      <th>text</th>\n",
       "      <th>type</th>\n",
       "      <th>user_id</th>\n",
       "      <th>cool</th>\n",
       "      <th>useful</th>\n",
       "      <th>funny</th>\n",
       "    </tr>\n",
       "  </thead>\n",
       "  <tbody>\n",
       "    <tr>\n",
       "      <th>0</th>\n",
       "      <td>9yKzy9PApeiPPOUJEtnvkg</td>\n",
       "      <td>2011-01-26</td>\n",
       "      <td>fWKvX83p0-ka4JS3dc6E5A</td>\n",
       "      <td>5</td>\n",
       "      <td>My wife took me here on my birthday for breakf...</td>\n",
       "      <td>review</td>\n",
       "      <td>rLtl8ZkDX5vH5nAx9C3q5Q</td>\n",
       "      <td>2</td>\n",
       "      <td>5</td>\n",
       "      <td>0</td>\n",
       "    </tr>\n",
       "    <tr>\n",
       "      <th>1</th>\n",
       "      <td>ZRJwVLyzEJq1VAihDhYiow</td>\n",
       "      <td>2011-07-27</td>\n",
       "      <td>IjZ33sJrzXqU-0X6U8NwyA</td>\n",
       "      <td>5</td>\n",
       "      <td>I have no idea why some people give bad review...</td>\n",
       "      <td>review</td>\n",
       "      <td>0a2KyEL0d3Yb1V6aivbIuQ</td>\n",
       "      <td>0</td>\n",
       "      <td>0</td>\n",
       "      <td>0</td>\n",
       "    </tr>\n",
       "    <tr>\n",
       "      <th>2</th>\n",
       "      <td>6oRAC4uyJCsJl1X0WZpVSA</td>\n",
       "      <td>2012-06-14</td>\n",
       "      <td>IESLBzqUCLdSzSqm0eCSxQ</td>\n",
       "      <td>4</td>\n",
       "      <td>love the gyro plate. Rice is so good and I als...</td>\n",
       "      <td>review</td>\n",
       "      <td>0hT2KtfLiobPvh6cDC8JQg</td>\n",
       "      <td>0</td>\n",
       "      <td>1</td>\n",
       "      <td>0</td>\n",
       "    </tr>\n",
       "    <tr>\n",
       "      <th>3</th>\n",
       "      <td>_1QQZuf4zZOyFCvXc0o6Vg</td>\n",
       "      <td>2010-05-27</td>\n",
       "      <td>G-WvGaISbqqaMHlNnByodA</td>\n",
       "      <td>5</td>\n",
       "      <td>Rosie, Dakota, and I LOVE Chaparral Dog Park!!...</td>\n",
       "      <td>review</td>\n",
       "      <td>uZetl9T0NcROGOyFfughhg</td>\n",
       "      <td>1</td>\n",
       "      <td>2</td>\n",
       "      <td>0</td>\n",
       "    </tr>\n",
       "    <tr>\n",
       "      <th>4</th>\n",
       "      <td>6ozycU1RpktNG2-1BroVtw</td>\n",
       "      <td>2012-01-05</td>\n",
       "      <td>1uJFq2r5QfJG_6ExMRCaGw</td>\n",
       "      <td>5</td>\n",
       "      <td>General Manager Scott Petello is a good egg!!!...</td>\n",
       "      <td>review</td>\n",
       "      <td>vYmM4KTsC8ZfQBg-j5MWkw</td>\n",
       "      <td>0</td>\n",
       "      <td>0</td>\n",
       "      <td>0</td>\n",
       "    </tr>\n",
       "  </tbody>\n",
       "</table>\n",
       "</div>"
      ],
      "text/plain": [
       "              business_id        date               review_id  stars  \\\n",
       "0  9yKzy9PApeiPPOUJEtnvkg  2011-01-26  fWKvX83p0-ka4JS3dc6E5A      5   \n",
       "1  ZRJwVLyzEJq1VAihDhYiow  2011-07-27  IjZ33sJrzXqU-0X6U8NwyA      5   \n",
       "2  6oRAC4uyJCsJl1X0WZpVSA  2012-06-14  IESLBzqUCLdSzSqm0eCSxQ      4   \n",
       "3  _1QQZuf4zZOyFCvXc0o6Vg  2010-05-27  G-WvGaISbqqaMHlNnByodA      5   \n",
       "4  6ozycU1RpktNG2-1BroVtw  2012-01-05  1uJFq2r5QfJG_6ExMRCaGw      5   \n",
       "\n",
       "                                                text    type  \\\n",
       "0  My wife took me here on my birthday for breakf...  review   \n",
       "1  I have no idea why some people give bad review...  review   \n",
       "2  love the gyro plate. Rice is so good and I als...  review   \n",
       "3  Rosie, Dakota, and I LOVE Chaparral Dog Park!!...  review   \n",
       "4  General Manager Scott Petello is a good egg!!!...  review   \n",
       "\n",
       "                  user_id  cool  useful  funny  \n",
       "0  rLtl8ZkDX5vH5nAx9C3q5Q     2       5      0  \n",
       "1  0a2KyEL0d3Yb1V6aivbIuQ     0       0      0  \n",
       "2  0hT2KtfLiobPvh6cDC8JQg     0       1      0  \n",
       "3  uZetl9T0NcROGOyFfughhg     1       2      0  \n",
       "4  vYmM4KTsC8ZfQBg-j5MWkw     0       0      0  "
      ]
     },
     "execution_count": 7,
     "metadata": {},
     "output_type": "execute_result"
    }
   ],
   "source": [
    "df = pd.read_csv('yelp.csv')\n",
    "df.head()"
   ]
  },
  {
   "cell_type": "code",
   "execution_count": 8,
   "id": "rubber-resident",
   "metadata": {},
   "outputs": [
    {
     "data": {
      "text/html": [
       "<div>\n",
       "<style scoped>\n",
       "    .dataframe tbody tr th:only-of-type {\n",
       "        vertical-align: middle;\n",
       "    }\n",
       "\n",
       "    .dataframe tbody tr th {\n",
       "        vertical-align: top;\n",
       "    }\n",
       "\n",
       "    .dataframe thead th {\n",
       "        text-align: right;\n",
       "    }\n",
       "</style>\n",
       "<table border=\"1\" class=\"dataframe\">\n",
       "  <thead>\n",
       "    <tr style=\"text-align: right;\">\n",
       "      <th></th>\n",
       "      <th>text</th>\n",
       "      <th>stars</th>\n",
       "    </tr>\n",
       "  </thead>\n",
       "  <tbody>\n",
       "    <tr>\n",
       "      <th>0</th>\n",
       "      <td>My wife took me here on my birthday for breakf...</td>\n",
       "      <td>5</td>\n",
       "    </tr>\n",
       "    <tr>\n",
       "      <th>1</th>\n",
       "      <td>I have no idea why some people give bad review...</td>\n",
       "      <td>5</td>\n",
       "    </tr>\n",
       "    <tr>\n",
       "      <th>2</th>\n",
       "      <td>love the gyro plate. Rice is so good and I als...</td>\n",
       "      <td>4</td>\n",
       "    </tr>\n",
       "    <tr>\n",
       "      <th>3</th>\n",
       "      <td>Rosie, Dakota, and I LOVE Chaparral Dog Park!!...</td>\n",
       "      <td>5</td>\n",
       "    </tr>\n",
       "    <tr>\n",
       "      <th>4</th>\n",
       "      <td>General Manager Scott Petello is a good egg!!!...</td>\n",
       "      <td>5</td>\n",
       "    </tr>\n",
       "  </tbody>\n",
       "</table>\n",
       "</div>"
      ],
      "text/plain": [
       "                                                text  stars\n",
       "0  My wife took me here on my birthday for breakf...      5\n",
       "1  I have no idea why some people give bad review...      5\n",
       "2  love the gyro plate. Rice is so good and I als...      4\n",
       "3  Rosie, Dakota, and I LOVE Chaparral Dog Park!!...      5\n",
       "4  General Manager Scott Petello is a good egg!!!...      5"
      ]
     },
     "execution_count": 8,
     "metadata": {},
     "output_type": "execute_result"
    }
   ],
   "source": [
    "df = df.dropna()\n",
    "df=df[['text','stars']]\n",
    "df.head()"
   ]
  },
  {
   "cell_type": "code",
   "execution_count": 9,
   "id": "entitled-pepper",
   "metadata": {},
   "outputs": [],
   "source": [
    "labels = df['stars'].map(lambda x: 1 if int(x) > 3 else 0)"
   ]
  },
  {
   "cell_type": "code",
   "execution_count": 11,
   "id": "divine-hindu",
   "metadata": {},
   "outputs": [
    {
     "data": {
      "text/plain": [
       "1    6863\n",
       "0    3137\n",
       "Name: stars, dtype: int64"
      ]
     },
     "execution_count": 11,
     "metadata": {},
     "output_type": "execute_result"
    }
   ],
   "source": [
    "labels.value_counts()"
   ]
  },
  {
   "cell_type": "markdown",
   "id": "enclosed-making",
   "metadata": {},
   "source": [
    "### cleaning the text:"
   ]
  },
  {
   "cell_type": "code",
   "execution_count": 13,
   "id": "swiss-minneapolis",
   "metadata": {},
   "outputs": [],
   "source": [
    "def clean_text(text):\n",
    "    \n",
    "    ## Remove puncuation\n",
    "    text = text.translate(string.punctuation)\n",
    "    \n",
    "    ## Convert words to lower case and split them\n",
    "    text = text.lower().split()\n",
    "    \n",
    "    ## Remove stop words\n",
    "    stops = set(stopwords.words(\"english\"))\n",
    "    text = [w for w in text if not w in stops and len(w) >= 3]\n",
    "    \n",
    "    text = \" \".join(text)\n",
    "\n",
    "    # Clean the text\n",
    "    text = re.sub(r\"[^A-Za-z0-9^,!.\\/'+-=]\", \" \", text)\n",
    "    text = re.sub(r\"what's\", \"what is \", text)\n",
    "    text = re.sub(r\"\\'s\", \" \", text)\n",
    "    text = re.sub(r\"\\'ve\", \" have \", text)\n",
    "    text = re.sub(r\"n't\", \" not \", text)\n",
    "    text = re.sub(r\"i'm\", \"i am \", text)\n",
    "    text = re.sub(r\"\\'re\", \" are \", text)\n",
    "    text = re.sub(r\"\\'d\", \" would \", text)\n",
    "    text = re.sub(r\"\\'ll\", \" will \", text)\n",
    "    text = re.sub(r\",\", \" \", text)\n",
    "    text = re.sub(r\"\\.\", \" \", text)\n",
    "    text = re.sub(r\"!\", \" ! \", text)\n",
    "    text = re.sub(r\"\\/\", \" \", text)\n",
    "    text = re.sub(r\"\\^\", \" ^ \", text)\n",
    "    text = re.sub(r\"\\+\", \" + \", text)\n",
    "    text = re.sub(r\"\\-\", \" - \", text)\n",
    "    text = re.sub(r\"\\=\", \" = \", text)\n",
    "    text = re.sub(r\"'\", \" \", text)\n",
    "    text = re.sub(r\"(\\d+)(k)\", r\"\\g<1>000\", text)\n",
    "    text = re.sub(r\":\", \" : \", text)\n",
    "    text = re.sub(r\" e g \", \" eg \", text)\n",
    "    text = re.sub(r\" b g \", \" bg \", text)\n",
    "    text = re.sub(r\" u s \", \" american \", text)\n",
    "    text = re.sub(r\"\\0s\", \"0\", text)\n",
    "    text = re.sub(r\" 9 11 \", \"911\", text)\n",
    "    text = re.sub(r\"e - mail\", \"email\", text)\n",
    "    text = re.sub(r\"j k\", \"jk\", text)\n",
    "    text = re.sub(r\"\\s{2,}\", \" \", text)\n",
    "    \n",
    "    text = text.split()\n",
    "    stemmer = SnowballStemmer('english') # retrieve the root of the word\n",
    "    stemmed_words = [stemmer.stem(word) for word in text]\n",
    "    text = \" \".join(stemmed_words)\n",
    "\n",
    "    return text"
   ]
  },
  {
   "cell_type": "code",
   "execution_count": 14,
   "id": "cooked-resolution",
   "metadata": {},
   "outputs": [
    {
     "data": {
      "text/plain": [
       "0       My wife took me here on my birthday for breakf...\n",
       "1       I have no idea why some people give bad review...\n",
       "2       love the gyro plate. Rice is so good and I als...\n",
       "3       Rosie, Dakota, and I LOVE Chaparral Dog Park!!...\n",
       "4       General Manager Scott Petello is a good egg!!!...\n",
       "                              ...                        \n",
       "9995    First visit...Had lunch here today - used my G...\n",
       "9996    Should be called house of deliciousness!\\n\\nI ...\n",
       "9997    I recently visited Olive and Ivy for business ...\n",
       "9998    My nephew just moved to Scottsdale recently so...\n",
       "9999    4-5 locations.. all 4.5 star average.. I think...\n",
       "Name: text, Length: 10000, dtype: object"
      ]
     },
     "execution_count": 14,
     "metadata": {},
     "output_type": "execute_result"
    }
   ],
   "source": [
    "df['text']"
   ]
  },
  {
   "cell_type": "code",
   "execution_count": 16,
   "id": "black-thanksgiving",
   "metadata": {},
   "outputs": [
    {
     "name": "stderr",
     "output_type": "stream",
     "text": [
      "[nltk_data] Downloading package stopwords to\n",
      "[nltk_data]     C:\\Users\\vorme\\AppData\\Roaming\\nltk_data...\n",
      "[nltk_data]   Unzipping corpora\\stopwords.zip.\n"
     ]
    },
    {
     "data": {
      "text/plain": [
       "True"
      ]
     },
     "execution_count": 16,
     "metadata": {},
     "output_type": "execute_result"
    }
   ],
   "source": [
    "import nltk\n",
    "nltk.download('stopwords')"
   ]
  },
  {
   "cell_type": "code",
   "execution_count": 17,
   "id": "earlier-simpson",
   "metadata": {},
   "outputs": [],
   "source": [
    "df['text'] = df['text'].map(lambda x: clean_text(x))"
   ]
  },
  {
   "cell_type": "code",
   "execution_count": 18,
   "id": "recognized-nightmare",
   "metadata": {},
   "outputs": [
    {
     "data": {
      "text/plain": [
       "0       wife took birthday breakfast excel weather per...\n",
       "1       idea peopl give bad review place goe show you ...\n",
       "2         love gyro plate rice good also dig candi select\n",
       "3       rosi dakota love chaparr dog park ! ! ! conven...\n",
       "4       general manag scott petello good egg ! ! ! det...\n",
       "                              ...                        \n",
       "9995    first visit had lunch today use groupon + + we...\n",
       "9996    call hous delici ! + + i could item item blah ...\n",
       "9997    recent visit oliv ivi busi last week visit con...\n",
       "9998    nephew move scottsdal recent bunch friend brou...\n",
       "9999    4 - 5 locat 4 5 star averag think arizona real...\n",
       "Name: text, Length: 10000, dtype: object"
      ]
     },
     "execution_count": 18,
     "metadata": {},
     "output_type": "execute_result"
    }
   ],
   "source": [
    "df['text']"
   ]
  },
  {
   "cell_type": "code",
   "execution_count": 19,
   "id": "olympic-praise",
   "metadata": {},
   "outputs": [],
   "source": [
    "maxlen = 50\n",
    "embed_dim = 100\n",
    "max_words = 20000"
   ]
  },
  {
   "cell_type": "markdown",
   "id": "interesting-rehabilitation",
   "metadata": {},
   "source": [
    "convert text in tokens"
   ]
  },
  {
   "cell_type": "code",
   "execution_count": 22,
   "id": "humanitarian-signature",
   "metadata": {},
   "outputs": [],
   "source": [
    "tokenizer = Tokenizer(num_words=max_words)\n",
    "tokenizer.fit_on_texts(df['text'])"
   ]
  },
  {
   "cell_type": "code",
   "execution_count": 23,
   "id": "upper-plain",
   "metadata": {},
   "outputs": [],
   "source": [
    "sequences = tokenizer.texts_to_sequences(df['text'])"
   ]
  },
  {
   "cell_type": "code",
   "execution_count": 24,
   "id": "happy-source",
   "metadata": {},
   "outputs": [
    {
     "data": {
      "text/plain": [
       "array([  35,    1,   20,  116,  398,    1,   24,   39,  100,   92,  476,\n",
       "       1081, 1442,   82,   11,   13,  104,  908,  120,   49,   29,  192,\n",
       "        379, 1543, 1722,  297,  727, 2401,  159,   75,   85,  411, 4791,\n",
       "        156,  104,  408,   80,   90,  436,   35,  545,    1,   20,  116,\n",
       "        398,  458,  117,   40,   42,   19])"
      ]
     },
     "execution_count": 24,
     "metadata": {},
     "output_type": "execute_result"
    }
   ],
   "source": [
    "data = pad_sequences(sequences, maxlen=maxlen, padding='post')\n",
    "data[0] # 50 values in a sequence"
   ]
  },
  {
   "cell_type": "code",
   "execution_count": 25,
   "id": "cubic-carol",
   "metadata": {},
   "outputs": [],
   "source": [
    "labels = np.asarray(labels)"
   ]
  },
  {
   "cell_type": "code",
   "execution_count": 26,
   "id": "brazilian-bryan",
   "metadata": {},
   "outputs": [
    {
     "data": {
      "text/plain": [
       "(10000,)"
      ]
     },
     "execution_count": 26,
     "metadata": {},
     "output_type": "execute_result"
    }
   ],
   "source": [
    "labels.shape"
   ]
  },
  {
   "cell_type": "code",
   "execution_count": 27,
   "id": "curious-eagle",
   "metadata": {},
   "outputs": [
    {
     "data": {
      "text/plain": [
       "20182"
      ]
     },
     "execution_count": 27,
     "metadata": {},
     "output_type": "execute_result"
    }
   ],
   "source": [
    "vocab_size = len(tokenizer.word_index) + 1\n",
    "vocab_size"
   ]
  },
  {
   "cell_type": "code",
   "execution_count": 28,
   "id": "imposed-cemetery",
   "metadata": {},
   "outputs": [],
   "source": [
    "validation_split = 0.2\n",
    "indices = np.arange(data.shape[0])\n",
    "np.random.shuffle(indices)"
   ]
  },
  {
   "cell_type": "code",
   "execution_count": 29,
   "id": "graduate-architecture",
   "metadata": {},
   "outputs": [],
   "source": [
    "data = data[indices]\n",
    "labels = labels[indices]"
   ]
  },
  {
   "cell_type": "code",
   "execution_count": 30,
   "id": "continued-sweden",
   "metadata": {},
   "outputs": [],
   "source": [
    "val_sample = int(validation_split * data.shape[0])"
   ]
  },
  {
   "cell_type": "code",
   "execution_count": 31,
   "id": "loose-wrapping",
   "metadata": {},
   "outputs": [
    {
     "data": {
      "text/plain": [
       "2000"
      ]
     },
     "execution_count": 31,
     "metadata": {},
     "output_type": "execute_result"
    }
   ],
   "source": [
    "val_sample"
   ]
  },
  {
   "cell_type": "code",
   "execution_count": 33,
   "id": "lasting-chrome",
   "metadata": {},
   "outputs": [],
   "source": [
    "X_train = data[:-val_sample]\n",
    "y_train = labels[:-val_sample]\n",
    "x_val = data[-val_sample:]\n",
    "y_val = labels[-val_sample:]"
   ]
  },
  {
   "cell_type": "markdown",
   "id": "attached-murder",
   "metadata": {},
   "source": [
    "Load Glove Embeddings"
   ]
  },
  {
   "cell_type": "markdown",
   "id": "level-minister",
   "metadata": {},
   "source": [
    "We will use a transfer learning approach"
   ]
  },
  {
   "cell_type": "code",
   "execution_count": 35,
   "id": "respective-rwanda",
   "metadata": {},
   "outputs": [],
   "source": [
    "embed_index = dict()\n",
    "f = open(os.path.join('glove.6B.100d.txt'), encoding=\"utf8\")"
   ]
  },
  {
   "cell_type": "code",
   "execution_count": 36,
   "id": "spectacular-cambodia",
   "metadata": {},
   "outputs": [],
   "source": [
    "for line in f:\n",
    "    values = line.split()\n",
    "    word = values[0]\n",
    "    coefs = np.asarray(values[1:], dtype='float32')\n",
    "    embed_index[word] = coefs\n",
    "f.close()"
   ]
  },
  {
   "cell_type": "code",
   "execution_count": 37,
   "id": "young-brook",
   "metadata": {},
   "outputs": [
    {
     "name": "stdout",
     "output_type": "stream",
     "text": [
      "400000 Word vectors\n"
     ]
    }
   ],
   "source": [
    "print('%s Word vectors' % len(embed_index))"
   ]
  },
  {
   "cell_type": "markdown",
   "id": "unknown-offering",
   "metadata": {},
   "source": [
    "## Create a weight matrix:"
   ]
  },
  {
   "cell_type": "code",
   "execution_count": 38,
   "id": "valuable-tragedy",
   "metadata": {},
   "outputs": [],
   "source": [
    "embed_matrix = np.zeros((max_words, embed_dim))\n",
    "\n",
    "# aqui eu pego todo o meu corpus encontrado no texto e construo uma matriz apenas com ela.\n",
    "for word, i in tokenizer.word_index.items():\n",
    "    if i < max_words:\n",
    "        embed_vector = embed_index.get(word)\n",
    "        if embed_vector is not None:\n",
    "            embed_matrix[i] = embed_vector"
   ]
  },
  {
   "cell_type": "code",
   "execution_count": 60,
   "id": "advance-advantage",
   "metadata": {},
   "outputs": [
    {
     "data": {
      "text/plain": [
       "(20000, 100)"
      ]
     },
     "execution_count": 60,
     "metadata": {},
     "output_type": "execute_result"
    }
   ],
   "source": [
    "embed_matrix.shape"
   ]
  },
  {
   "cell_type": "code",
   "execution_count": 58,
   "id": "cooked-venture",
   "metadata": {},
   "outputs": [
    {
     "data": {
      "text/plain": [
       "array([[ 0.        ,  0.        ,  0.        , ...,  0.        ,\n",
       "         0.        ,  0.        ],\n",
       "       [-0.046539  ,  0.61966002,  0.56647003, ..., -0.37616   ,\n",
       "        -0.032502  ,  0.80620003],\n",
       "       [-0.24506   ,  0.04481   ,  0.32789999, ...,  0.16635001,\n",
       "         0.40259001,  0.3766    ],\n",
       "       ...,\n",
       "       [ 0.        ,  0.        ,  0.        , ...,  0.        ,\n",
       "         0.        ,  0.        ],\n",
       "       [ 0.45337999, -0.53738999,  0.016752  , ..., -0.20511   ,\n",
       "         0.20451   ,  0.32938001],\n",
       "       [ 0.24127001, -0.38940999, -0.43963   , ..., -0.29967999,\n",
       "        -0.23554   ,  0.051041  ]])"
      ]
     },
     "execution_count": 58,
     "metadata": {},
     "output_type": "execute_result"
    }
   ],
   "source": [
    "embed_matrix"
   ]
  },
  {
   "cell_type": "markdown",
   "id": "white-tablet",
   "metadata": {},
   "source": [
    "## Creating the model:"
   ]
  },
  {
   "cell_type": "code",
   "execution_count": 83,
   "id": "placed-alias",
   "metadata": {},
   "outputs": [],
   "source": [
    "model = Sequential()"
   ]
  },
  {
   "cell_type": "code",
   "execution_count": 84,
   "id": "promising-privacy",
   "metadata": {},
   "outputs": [],
   "source": [
    "model.add(Embedding(max_words,\n",
    "                    embed_dim,\n",
    "                    weights=[embed_matrix],\n",
    "                    input_length=maxlen))"
   ]
  },
  {
   "cell_type": "code",
   "execution_count": 85,
   "id": "intermediate-connectivity",
   "metadata": {},
   "outputs": [],
   "source": [
    "model.add(Flatten())"
   ]
  },
  {
   "cell_type": "code",
   "execution_count": 86,
   "id": "fantastic-citation",
   "metadata": {},
   "outputs": [],
   "source": [
    "model.add(Dropout(0.5))"
   ]
  },
  {
   "cell_type": "code",
   "execution_count": 87,
   "id": "metropolitan-poverty",
   "metadata": {},
   "outputs": [],
   "source": [
    "model.add(Dense(32, activation='relu'))"
   ]
  },
  {
   "cell_type": "code",
   "execution_count": 88,
   "id": "demanding-marsh",
   "metadata": {},
   "outputs": [],
   "source": [
    "model.add(Dropout(0.5))"
   ]
  },
  {
   "cell_type": "code",
   "execution_count": 89,
   "id": "separate-battery",
   "metadata": {},
   "outputs": [],
   "source": [
    "model.add(Dense(1, activation='sigmoid'))"
   ]
  },
  {
   "cell_type": "code",
   "execution_count": 90,
   "id": "dried-dining",
   "metadata": {},
   "outputs": [
    {
     "name": "stdout",
     "output_type": "stream",
     "text": [
      "Model: \"sequential_4\"\n",
      "_________________________________________________________________\n",
      "Layer (type)                 Output Shape              Param #   \n",
      "=================================================================\n",
      "embedding_4 (Embedding)      (None, 50, 100)           2000000   \n",
      "_________________________________________________________________\n",
      "flatten_3 (Flatten)          (None, 5000)              0         \n",
      "_________________________________________________________________\n",
      "dropout_4 (Dropout)          (None, 5000)              0         \n",
      "_________________________________________________________________\n",
      "dense_4 (Dense)              (None, 32)                160032    \n",
      "_________________________________________________________________\n",
      "dropout_5 (Dropout)          (None, 32)                0         \n",
      "_________________________________________________________________\n",
      "dense_5 (Dense)              (None, 1)                 33        \n",
      "=================================================================\n",
      "Total params: 2,160,065\n",
      "Trainable params: 2,160,065\n",
      "Non-trainable params: 0\n",
      "_________________________________________________________________\n"
     ]
    }
   ],
   "source": [
    "model.summary()"
   ]
  },
  {
   "cell_type": "code",
   "execution_count": 92,
   "id": "cloudy-burns",
   "metadata": {},
   "outputs": [],
   "source": [
    "model.compile(loss='binary_crossentropy', optimizer='adam', metrics=['accuracy'])"
   ]
  },
  {
   "cell_type": "code",
   "execution_count": 93,
   "id": "destroyed-ethernet",
   "metadata": {},
   "outputs": [],
   "source": [
    "early_stopping = EarlyStopping(monitor='val_loss', patience=5, mode='min')"
   ]
  },
  {
   "cell_type": "code",
   "execution_count": 94,
   "id": "complete-forty",
   "metadata": {},
   "outputs": [],
   "source": [
    "save_best = ModelCheckpoint('./yelp_comments.h5', save_best_only=True, \n",
    "                               monitor='val_loss', mode='min')"
   ]
  },
  {
   "cell_type": "code",
   "execution_count": 95,
   "id": "extensive-memphis",
   "metadata": {},
   "outputs": [
    {
     "name": "stdout",
     "output_type": "stream",
     "text": [
      "Epoch 1/20\n",
      "63/63 [==============================] - 2s 25ms/step - loss: 0.6503 - accuracy: 0.6670 - val_loss: 0.5946 - val_accuracy: 0.6970\n",
      "Epoch 2/20\n",
      "63/63 [==============================] - 1s 18ms/step - loss: 0.5994 - accuracy: 0.6837 - val_loss: 0.5753 - val_accuracy: 0.6970\n",
      "Epoch 3/20\n",
      "63/63 [==============================] - 1s 19ms/step - loss: 0.5701 - accuracy: 0.6891 - val_loss: 0.5571 - val_accuracy: 0.7010\n",
      "Epoch 4/20\n",
      "63/63 [==============================] - 1s 18ms/step - loss: 0.5358 - accuracy: 0.7111 - val_loss: 0.5296 - val_accuracy: 0.7420\n",
      "Epoch 5/20\n",
      "63/63 [==============================] - 1s 19ms/step - loss: 0.4909 - accuracy: 0.7479 - val_loss: 0.5034 - val_accuracy: 0.7565\n",
      "Epoch 6/20\n",
      "63/63 [==============================] - 1s 19ms/step - loss: 0.4422 - accuracy: 0.7859 - val_loss: 0.4903 - val_accuracy: 0.7655\n",
      "Epoch 7/20\n",
      "63/63 [==============================] - 1s 18ms/step - loss: 0.4020 - accuracy: 0.8079 - val_loss: 0.4726 - val_accuracy: 0.7710\n",
      "Epoch 8/20\n",
      "63/63 [==============================] - 1s 19ms/step - loss: 0.3593 - accuracy: 0.8335 - val_loss: 0.4736 - val_accuracy: 0.7770\n",
      "Epoch 9/20\n",
      "63/63 [==============================] - 1s 18ms/step - loss: 0.3193 - accuracy: 0.8558 - val_loss: 0.4746 - val_accuracy: 0.7805\n",
      "Epoch 10/20\n",
      "63/63 [==============================] - 1s 18ms/step - loss: 0.2980 - accuracy: 0.8726 - val_loss: 0.4821 - val_accuracy: 0.7880\n",
      "Epoch 11/20\n",
      "63/63 [==============================] - 1s 18ms/step - loss: 0.2596 - accuracy: 0.8904 - val_loss: 0.4686 - val_accuracy: 0.7915\n",
      "Epoch 12/20\n",
      "63/63 [==============================] - 1s 17ms/step - loss: 0.2411 - accuracy: 0.9003 - val_loss: 0.4866 - val_accuracy: 0.7960\n",
      "Epoch 13/20\n",
      "63/63 [==============================] - 1s 17ms/step - loss: 0.2164 - accuracy: 0.9093 - val_loss: 0.4873 - val_accuracy: 0.7900\n",
      "Epoch 14/20\n",
      "63/63 [==============================] - 1s 18ms/step - loss: 0.2017 - accuracy: 0.9197 - val_loss: 0.5143 - val_accuracy: 0.7910\n",
      "Epoch 15/20\n",
      "63/63 [==============================] - 1s 17ms/step - loss: 0.1787 - accuracy: 0.9289 - val_loss: 0.5225 - val_accuracy: 0.7990\n",
      "Epoch 16/20\n",
      "63/63 [==============================] - 1s 17ms/step - loss: 0.1710 - accuracy: 0.9301 - val_loss: 0.5438 - val_accuracy: 0.7960\n",
      "Wall time: 19.5 s\n"
     ]
    },
    {
     "data": {
      "text/plain": [
       "<tensorflow.python.keras.callbacks.History at 0x22da73ed668>"
      ]
     },
     "execution_count": 95,
     "metadata": {},
     "output_type": "execute_result"
    }
   ],
   "source": [
    "%%time\n",
    "model.fit(X_train, y_train,\n",
    "          epochs=20,\n",
    "          validation_data=(x_val, y_val),\n",
    "          batch_size=128,\n",
    "          verbose=1,\n",
    "          callbacks=[early_stopping, save_best])"
   ]
  },
  {
   "cell_type": "markdown",
   "id": "legitimate-quilt",
   "metadata": {},
   "source": [
    "## Making predictions:"
   ]
  },
  {
   "cell_type": "code",
   "execution_count": 96,
   "id": "legitimate-persian",
   "metadata": {},
   "outputs": [],
   "source": [
    "model.load_weights('yelp_comments.h5')"
   ]
  },
  {
   "cell_type": "code",
   "execution_count": 97,
   "id": "auburn-volume",
   "metadata": {},
   "outputs": [],
   "source": [
    "pred = model.predict(x_val)"
   ]
  },
  {
   "cell_type": "code",
   "execution_count": 100,
   "id": "quantitative-pillow",
   "metadata": {},
   "outputs": [
    {
     "data": {
      "text/plain": [
       "array([[0.91064286],\n",
       "       [0.7417292 ],\n",
       "       [0.8993537 ],\n",
       "       ...,\n",
       "       [0.958954  ],\n",
       "       [0.999754  ],\n",
       "       [0.36097008]], dtype=float32)"
      ]
     },
     "execution_count": 100,
     "metadata": {},
     "output_type": "execute_result"
    }
   ],
   "source": [
    "pred"
   ]
  },
  {
   "cell_type": "markdown",
   "id": "characteristic-blast",
   "metadata": {},
   "source": [
    "## Word embeddings visualization:"
   ]
  },
  {
   "cell_type": "code",
   "execution_count": 98,
   "id": "manufactured-incidence",
   "metadata": {},
   "outputs": [],
   "source": [
    "glove_embds = model.layers[0].get_weights()[0]"
   ]
  },
  {
   "cell_type": "code",
   "execution_count": 99,
   "id": "explicit-eagle",
   "metadata": {},
   "outputs": [],
   "source": [
    "words = []\n",
    "for word, i in tokenizer.word_index.items():\n",
    "    words.append(word)"
   ]
  },
  {
   "cell_type": "markdown",
   "id": "neural-profession",
   "metadata": {},
   "source": [
    "## Visualizing words:"
   ]
  },
  {
   "cell_type": "code",
   "execution_count": 101,
   "id": "dressed-leisure",
   "metadata": {},
   "outputs": [],
   "source": [
    "def plot_words(data, start, stop, step):\n",
    "    trace = go.Scatter(\n",
    "        x = data[start:stop:step,0], \n",
    "        y = data[start:stop:step, 1],\n",
    "        mode = 'markers',\n",
    "        text= words[start:stop:step]\n",
    "    )\n",
    "    layout = dict(title= 't-SNE_factor1 vs t-SNE_factor2',\n",
    "                  yaxis = dict(title='t-SNE_factor2'),\n",
    "                  xaxis = dict(title='t-SNE_factor1'),\n",
    "                  hovermode= 'closest')\n",
    "    fig = dict(data = [trace], layout= layout)\n",
    "    py.iplot(fig)"
   ]
  },
  {
   "cell_type": "code",
   "execution_count": 102,
   "id": "detected-albert",
   "metadata": {
    "collapsed": true,
    "jupyter": {
     "outputs_hidden": true
    }
   },
   "outputs": [
    {
     "data": {
      "application/vnd.plotly.v1+json": {
       "config": {
        "linkText": "Export to plot.ly",
        "plotlyServerURL": "https://plot.ly",
        "showLink": false
       },
       "data": [
        {
         "mode": "markers",
         "text": [
          "i",
          "place",
          "good",
          "food",
          "like",
          "great",
          "get",
          "time",
          "one",
          "would",
          "order",
          "realli",
          "it",
          "servic",
          "the",
          "love",
          "friend",
          "tri",
          "back",
          "have",
          "also",
          "make",
          "nice",
          "am",
          "even",
          "well",
          "restaur",
          "littl",
          "look",
          "want",
          "price",
          "come",
          "alway",
          "go",
          "best",
          "drink",
          "got",
          "thing",
          "pretti",
          "not",
          "know",
          "wait",
          "chicken",
          "much",
          "bar",
          "think",
          "eat",
          "peopl",
          "menu",
          "say",
          "first",
          "night",
          "tast",
          "take",
          "that",
          "could",
          "there",
          "fri",
          "better",
          "never",
          "way",
          "day",
          "pizza",
          "went",
          "salad",
          "staff",
          "tabl",
          "here",
          "chees",
          "hour",
          "ask",
          "sauc",
          "star",
          "right",
          "delici",
          "lot",
          "two",
          "locat",
          "need",
          "made",
          "work",
          "fresh",
          "give",
          "see",
          "came",
          "lunch",
          "flavor",
          "enjoy",
          "we",
          "meal",
          "experi",
          "use",
          "new",
          "review",
          "sandwich",
          "still",
          "definit",
          "find",
          "feel",
          "sure"
         ],
         "type": "scatter",
         "x": [
          24.472713470458984,
          11.77924633026123,
          5.335516929626465,
          10.983253479003906,
          13.573558807373047,
          7.520954132080078,
          11.516427040100098,
          10.746543884277344,
          4.609943866729736,
          7.229585647583008,
          9.027138710021973,
          2.400477170944214,
          7.332521915435791,
          7.557947635650635,
          -5.998363971710205,
          6.485395908355713,
          16.29743766784668,
          0.5882635116577148,
          45.958255767822266,
          4.554078578948975,
          9.255785942077637,
          8.520377159118652,
          8.236042022705078,
          11.386327743530273,
          14.073512077331543,
          7.300363540649414,
          7.374238014221191,
          -5.254965782165527,
          -3.121946096420288,
          10.49145793914795,
          10.83418083190918,
          -7.0524516105651855,
          10.189562797546387,
          8.828096389770508,
          10.621779441833496,
          11.220784187316895,
          13.085402488708496,
          11.02773666381836,
          11.56223201751709,
          -5.659537315368652,
          8.896358489990234,
          11.511943817138672,
          11.992302894592285,
          -22.261680603027344,
          7.330088138580322,
          27.774715423583984,
          11.52592945098877,
          13.58324146270752,
          -12.058103561401367,
          11.735079765319824,
          10.323287010192871,
          2.5977861881256104,
          5.815089702606201,
          -9.81356143951416,
          3.099329710006714,
          8.151447296142578,
          9.031211853027344,
          7.869686603546143,
          -52.03144073486328,
          10.054646492004395,
          9.72179889678955,
          6.681262493133545,
          4.713129997253418,
          11.417448043823242,
          3.5292866230010986,
          -26.922637939453125,
          -18.687223434448242,
          -14.361289978027344,
          6.810084342956543,
          -4.127282619476318,
          6.164159774780273,
          12.607963562011719,
          0.7486412525177002,
          16.35773277282715,
          4.404498100280762,
          8.472006797790527,
          10.947638511657715,
          5.833826541900635,
          -4.749068260192871,
          9.073222160339355,
          7.309811115264893,
          7.459790229797363,
          -0.5272704362869263,
          3.3359618186950684,
          10.535609245300293,
          3.5830013751983643,
          14.489221572875977,
          -17.823665618896484,
          13.451804161071777,
          11.255324363708496,
          13.831665992736816,
          8.539094924926758,
          5.809722900390625,
          6.616550922393799,
          -0.08009153604507446,
          11.543868064880371,
          7.3224077224731445,
          7.794878959655762,
          10.473807334899902,
          12.087905883789062
         ],
         "y": [
          -20.15720558166504,
          50.83241271972656,
          59.87685775756836,
          46.4784049987793,
          24.188220977783203,
          53.84434509277344,
          39.88301467895508,
          52.36479187011719,
          59.541378021240234,
          57.740509033203125,
          53.174442291259766,
          51.480350494384766,
          -4.613611221313477,
          54.9334831237793,
          -15.657831192016602,
          56.975547790527344,
          43.56163024902344,
          34.95567321777344,
          46.3365364074707,
          57.64564514160156,
          54.7947998046875,
          55.542728424072266,
          53.29182815551758,
          46.17177200317383,
          49.20708084106445,
          53.97816848754883,
          56.35153579711914,
          -12.18508529663086,
          0.6680405735969543,
          51.55928039550781,
          51.37714767456055,
          60.66904830932617,
          52.350791931152344,
          13.550820350646973,
          52.494178771972656,
          45.78757095336914,
          20.041397094726562,
          52.480533599853516,
          49.44046401977539,
          -12.595312118530273,
          53.46402359008789,
          50.26758575439453,
          52.59917449951172,
          32.41360092163086,
          54.176700592041016,
          27.486202239990234,
          50.080902099609375,
          23.595233917236328,
          -15.336252212524414,
          24.26888084411621,
          51.43050003051758,
          63.905174255371094,
          62.800655364990234,
          -13.264984130859375,
          54.97604751586914,
          54.705352783203125,
          53.12300491333008,
          54.49639129638672,
          -3.450080633163452,
          50.20186996459961,
          52.86019515991211,
          54.54676818847656,
          62.20236587524414,
          21.909826278686523,
          58.296138763427734,
          26.764009475708008,
          53.95854568481445,
          -12.396594047546387,
          55.27572250366211,
          -17.825334548950195,
          63.342796325683594,
          50.6068000793457,
          -11.456028938293457,
          36.49957275390625,
          55.733604431152344,
          14.567595481872559,
          49.70885467529297,
          66.91743469238281,
          -17.948041915893555,
          52.02104187011719,
          56.32474899291992,
          55.983367919921875,
          54.22422790527344,
          55.0876350402832,
          51.51156234741211,
          58.2901496887207,
          22.412492752075195,
          30.649274826049805,
          47.8498649597168,
          50.94813919067383,
          22.795333862304688,
          3.2359843254089355,
          52.87808609008789,
          56.91996383666992,
          47.40044403076172,
          21.934120178222656,
          54.70492935180664,
          12.559904098510742,
          52.61183166503906,
          49.784793853759766
         ]
        }
       ],
       "layout": {
        "hovermode": "closest",
        "template": {
         "data": {
          "bar": [
           {
            "error_x": {
             "color": "#2a3f5f"
            },
            "error_y": {
             "color": "#2a3f5f"
            },
            "marker": {
             "line": {
              "color": "#E5ECF6",
              "width": 0.5
             }
            },
            "type": "bar"
           }
          ],
          "barpolar": [
           {
            "marker": {
             "line": {
              "color": "#E5ECF6",
              "width": 0.5
             }
            },
            "type": "barpolar"
           }
          ],
          "carpet": [
           {
            "aaxis": {
             "endlinecolor": "#2a3f5f",
             "gridcolor": "white",
             "linecolor": "white",
             "minorgridcolor": "white",
             "startlinecolor": "#2a3f5f"
            },
            "baxis": {
             "endlinecolor": "#2a3f5f",
             "gridcolor": "white",
             "linecolor": "white",
             "minorgridcolor": "white",
             "startlinecolor": "#2a3f5f"
            },
            "type": "carpet"
           }
          ],
          "choropleth": [
           {
            "colorbar": {
             "outlinewidth": 0,
             "ticks": ""
            },
            "type": "choropleth"
           }
          ],
          "contour": [
           {
            "colorbar": {
             "outlinewidth": 0,
             "ticks": ""
            },
            "colorscale": [
             [
              0,
              "#0d0887"
             ],
             [
              0.1111111111111111,
              "#46039f"
             ],
             [
              0.2222222222222222,
              "#7201a8"
             ],
             [
              0.3333333333333333,
              "#9c179e"
             ],
             [
              0.4444444444444444,
              "#bd3786"
             ],
             [
              0.5555555555555556,
              "#d8576b"
             ],
             [
              0.6666666666666666,
              "#ed7953"
             ],
             [
              0.7777777777777778,
              "#fb9f3a"
             ],
             [
              0.8888888888888888,
              "#fdca26"
             ],
             [
              1,
              "#f0f921"
             ]
            ],
            "type": "contour"
           }
          ],
          "contourcarpet": [
           {
            "colorbar": {
             "outlinewidth": 0,
             "ticks": ""
            },
            "type": "contourcarpet"
           }
          ],
          "heatmap": [
           {
            "colorbar": {
             "outlinewidth": 0,
             "ticks": ""
            },
            "colorscale": [
             [
              0,
              "#0d0887"
             ],
             [
              0.1111111111111111,
              "#46039f"
             ],
             [
              0.2222222222222222,
              "#7201a8"
             ],
             [
              0.3333333333333333,
              "#9c179e"
             ],
             [
              0.4444444444444444,
              "#bd3786"
             ],
             [
              0.5555555555555556,
              "#d8576b"
             ],
             [
              0.6666666666666666,
              "#ed7953"
             ],
             [
              0.7777777777777778,
              "#fb9f3a"
             ],
             [
              0.8888888888888888,
              "#fdca26"
             ],
             [
              1,
              "#f0f921"
             ]
            ],
            "type": "heatmap"
           }
          ],
          "heatmapgl": [
           {
            "colorbar": {
             "outlinewidth": 0,
             "ticks": ""
            },
            "colorscale": [
             [
              0,
              "#0d0887"
             ],
             [
              0.1111111111111111,
              "#46039f"
             ],
             [
              0.2222222222222222,
              "#7201a8"
             ],
             [
              0.3333333333333333,
              "#9c179e"
             ],
             [
              0.4444444444444444,
              "#bd3786"
             ],
             [
              0.5555555555555556,
              "#d8576b"
             ],
             [
              0.6666666666666666,
              "#ed7953"
             ],
             [
              0.7777777777777778,
              "#fb9f3a"
             ],
             [
              0.8888888888888888,
              "#fdca26"
             ],
             [
              1,
              "#f0f921"
             ]
            ],
            "type": "heatmapgl"
           }
          ],
          "histogram": [
           {
            "marker": {
             "colorbar": {
              "outlinewidth": 0,
              "ticks": ""
             }
            },
            "type": "histogram"
           }
          ],
          "histogram2d": [
           {
            "colorbar": {
             "outlinewidth": 0,
             "ticks": ""
            },
            "colorscale": [
             [
              0,
              "#0d0887"
             ],
             [
              0.1111111111111111,
              "#46039f"
             ],
             [
              0.2222222222222222,
              "#7201a8"
             ],
             [
              0.3333333333333333,
              "#9c179e"
             ],
             [
              0.4444444444444444,
              "#bd3786"
             ],
             [
              0.5555555555555556,
              "#d8576b"
             ],
             [
              0.6666666666666666,
              "#ed7953"
             ],
             [
              0.7777777777777778,
              "#fb9f3a"
             ],
             [
              0.8888888888888888,
              "#fdca26"
             ],
             [
              1,
              "#f0f921"
             ]
            ],
            "type": "histogram2d"
           }
          ],
          "histogram2dcontour": [
           {
            "colorbar": {
             "outlinewidth": 0,
             "ticks": ""
            },
            "colorscale": [
             [
              0,
              "#0d0887"
             ],
             [
              0.1111111111111111,
              "#46039f"
             ],
             [
              0.2222222222222222,
              "#7201a8"
             ],
             [
              0.3333333333333333,
              "#9c179e"
             ],
             [
              0.4444444444444444,
              "#bd3786"
             ],
             [
              0.5555555555555556,
              "#d8576b"
             ],
             [
              0.6666666666666666,
              "#ed7953"
             ],
             [
              0.7777777777777778,
              "#fb9f3a"
             ],
             [
              0.8888888888888888,
              "#fdca26"
             ],
             [
              1,
              "#f0f921"
             ]
            ],
            "type": "histogram2dcontour"
           }
          ],
          "mesh3d": [
           {
            "colorbar": {
             "outlinewidth": 0,
             "ticks": ""
            },
            "type": "mesh3d"
           }
          ],
          "parcoords": [
           {
            "line": {
             "colorbar": {
              "outlinewidth": 0,
              "ticks": ""
             }
            },
            "type": "parcoords"
           }
          ],
          "pie": [
           {
            "automargin": true,
            "type": "pie"
           }
          ],
          "scatter": [
           {
            "marker": {
             "colorbar": {
              "outlinewidth": 0,
              "ticks": ""
             }
            },
            "type": "scatter"
           }
          ],
          "scatter3d": [
           {
            "line": {
             "colorbar": {
              "outlinewidth": 0,
              "ticks": ""
             }
            },
            "marker": {
             "colorbar": {
              "outlinewidth": 0,
              "ticks": ""
             }
            },
            "type": "scatter3d"
           }
          ],
          "scattercarpet": [
           {
            "marker": {
             "colorbar": {
              "outlinewidth": 0,
              "ticks": ""
             }
            },
            "type": "scattercarpet"
           }
          ],
          "scattergeo": [
           {
            "marker": {
             "colorbar": {
              "outlinewidth": 0,
              "ticks": ""
             }
            },
            "type": "scattergeo"
           }
          ],
          "scattergl": [
           {
            "marker": {
             "colorbar": {
              "outlinewidth": 0,
              "ticks": ""
             }
            },
            "type": "scattergl"
           }
          ],
          "scattermapbox": [
           {
            "marker": {
             "colorbar": {
              "outlinewidth": 0,
              "ticks": ""
             }
            },
            "type": "scattermapbox"
           }
          ],
          "scatterpolar": [
           {
            "marker": {
             "colorbar": {
              "outlinewidth": 0,
              "ticks": ""
             }
            },
            "type": "scatterpolar"
           }
          ],
          "scatterpolargl": [
           {
            "marker": {
             "colorbar": {
              "outlinewidth": 0,
              "ticks": ""
             }
            },
            "type": "scatterpolargl"
           }
          ],
          "scatterternary": [
           {
            "marker": {
             "colorbar": {
              "outlinewidth": 0,
              "ticks": ""
             }
            },
            "type": "scatterternary"
           }
          ],
          "surface": [
           {
            "colorbar": {
             "outlinewidth": 0,
             "ticks": ""
            },
            "colorscale": [
             [
              0,
              "#0d0887"
             ],
             [
              0.1111111111111111,
              "#46039f"
             ],
             [
              0.2222222222222222,
              "#7201a8"
             ],
             [
              0.3333333333333333,
              "#9c179e"
             ],
             [
              0.4444444444444444,
              "#bd3786"
             ],
             [
              0.5555555555555556,
              "#d8576b"
             ],
             [
              0.6666666666666666,
              "#ed7953"
             ],
             [
              0.7777777777777778,
              "#fb9f3a"
             ],
             [
              0.8888888888888888,
              "#fdca26"
             ],
             [
              1,
              "#f0f921"
             ]
            ],
            "type": "surface"
           }
          ],
          "table": [
           {
            "cells": {
             "fill": {
              "color": "#EBF0F8"
             },
             "line": {
              "color": "white"
             }
            },
            "header": {
             "fill": {
              "color": "#C8D4E3"
             },
             "line": {
              "color": "white"
             }
            },
            "type": "table"
           }
          ]
         },
         "layout": {
          "annotationdefaults": {
           "arrowcolor": "#2a3f5f",
           "arrowhead": 0,
           "arrowwidth": 1
          },
          "coloraxis": {
           "colorbar": {
            "outlinewidth": 0,
            "ticks": ""
           }
          },
          "colorscale": {
           "diverging": [
            [
             0,
             "#8e0152"
            ],
            [
             0.1,
             "#c51b7d"
            ],
            [
             0.2,
             "#de77ae"
            ],
            [
             0.3,
             "#f1b6da"
            ],
            [
             0.4,
             "#fde0ef"
            ],
            [
             0.5,
             "#f7f7f7"
            ],
            [
             0.6,
             "#e6f5d0"
            ],
            [
             0.7,
             "#b8e186"
            ],
            [
             0.8,
             "#7fbc41"
            ],
            [
             0.9,
             "#4d9221"
            ],
            [
             1,
             "#276419"
            ]
           ],
           "sequential": [
            [
             0,
             "#0d0887"
            ],
            [
             0.1111111111111111,
             "#46039f"
            ],
            [
             0.2222222222222222,
             "#7201a8"
            ],
            [
             0.3333333333333333,
             "#9c179e"
            ],
            [
             0.4444444444444444,
             "#bd3786"
            ],
            [
             0.5555555555555556,
             "#d8576b"
            ],
            [
             0.6666666666666666,
             "#ed7953"
            ],
            [
             0.7777777777777778,
             "#fb9f3a"
            ],
            [
             0.8888888888888888,
             "#fdca26"
            ],
            [
             1,
             "#f0f921"
            ]
           ],
           "sequentialminus": [
            [
             0,
             "#0d0887"
            ],
            [
             0.1111111111111111,
             "#46039f"
            ],
            [
             0.2222222222222222,
             "#7201a8"
            ],
            [
             0.3333333333333333,
             "#9c179e"
            ],
            [
             0.4444444444444444,
             "#bd3786"
            ],
            [
             0.5555555555555556,
             "#d8576b"
            ],
            [
             0.6666666666666666,
             "#ed7953"
            ],
            [
             0.7777777777777778,
             "#fb9f3a"
            ],
            [
             0.8888888888888888,
             "#fdca26"
            ],
            [
             1,
             "#f0f921"
            ]
           ]
          },
          "colorway": [
           "#636efa",
           "#EF553B",
           "#00cc96",
           "#ab63fa",
           "#FFA15A",
           "#19d3f3",
           "#FF6692",
           "#B6E880",
           "#FF97FF",
           "#FECB52"
          ],
          "font": {
           "color": "#2a3f5f"
          },
          "geo": {
           "bgcolor": "white",
           "lakecolor": "white",
           "landcolor": "#E5ECF6",
           "showlakes": true,
           "showland": true,
           "subunitcolor": "white"
          },
          "hoverlabel": {
           "align": "left"
          },
          "hovermode": "closest",
          "mapbox": {
           "style": "light"
          },
          "paper_bgcolor": "white",
          "plot_bgcolor": "#E5ECF6",
          "polar": {
           "angularaxis": {
            "gridcolor": "white",
            "linecolor": "white",
            "ticks": ""
           },
           "bgcolor": "#E5ECF6",
           "radialaxis": {
            "gridcolor": "white",
            "linecolor": "white",
            "ticks": ""
           }
          },
          "scene": {
           "xaxis": {
            "backgroundcolor": "#E5ECF6",
            "gridcolor": "white",
            "gridwidth": 2,
            "linecolor": "white",
            "showbackground": true,
            "ticks": "",
            "zerolinecolor": "white"
           },
           "yaxis": {
            "backgroundcolor": "#E5ECF6",
            "gridcolor": "white",
            "gridwidth": 2,
            "linecolor": "white",
            "showbackground": true,
            "ticks": "",
            "zerolinecolor": "white"
           },
           "zaxis": {
            "backgroundcolor": "#E5ECF6",
            "gridcolor": "white",
            "gridwidth": 2,
            "linecolor": "white",
            "showbackground": true,
            "ticks": "",
            "zerolinecolor": "white"
           }
          },
          "shapedefaults": {
           "line": {
            "color": "#2a3f5f"
           }
          },
          "ternary": {
           "aaxis": {
            "gridcolor": "white",
            "linecolor": "white",
            "ticks": ""
           },
           "baxis": {
            "gridcolor": "white",
            "linecolor": "white",
            "ticks": ""
           },
           "bgcolor": "#E5ECF6",
           "caxis": {
            "gridcolor": "white",
            "linecolor": "white",
            "ticks": ""
           }
          },
          "title": {
           "x": 0.05
          },
          "xaxis": {
           "automargin": true,
           "gridcolor": "white",
           "linecolor": "white",
           "ticks": "",
           "title": {
            "standoff": 15
           },
           "zerolinecolor": "white",
           "zerolinewidth": 2
          },
          "yaxis": {
           "automargin": true,
           "gridcolor": "white",
           "linecolor": "white",
           "ticks": "",
           "title": {
            "standoff": 15
           },
           "zerolinecolor": "white",
           "zerolinewidth": 2
          }
         }
        },
        "title": {
         "text": "t-SNE_factor1 vs t-SNE_factor2"
        },
        "xaxis": {
         "title": {
          "text": "t-SNE_factor1"
         }
        },
        "yaxis": {
         "title": {
          "text": "t-SNE_factor2"
         }
        }
       }
      },
      "text/html": [
       "<div>\n",
       "        \n",
       "        \n",
       "            <div id=\"33079b81-3d71-4e80-94dd-aff9e99e09f6\" class=\"plotly-graph-div\" style=\"height:525px; width:100%;\"></div>\n",
       "            <script type=\"text/javascript\">\n",
       "                require([\"plotly\"], function(Plotly) {\n",
       "                    window.PLOTLYENV=window.PLOTLYENV || {};\n",
       "                    \n",
       "                if (document.getElementById(\"33079b81-3d71-4e80-94dd-aff9e99e09f6\")) {\n",
       "                    Plotly.newPlot(\n",
       "                        '33079b81-3d71-4e80-94dd-aff9e99e09f6',\n",
       "                        [{\"mode\": \"markers\", \"text\": [\"i\", \"place\", \"good\", \"food\", \"like\", \"great\", \"get\", \"time\", \"one\", \"would\", \"order\", \"realli\", \"it\", \"servic\", \"the\", \"love\", \"friend\", \"tri\", \"back\", \"have\", \"also\", \"make\", \"nice\", \"am\", \"even\", \"well\", \"restaur\", \"littl\", \"look\", \"want\", \"price\", \"come\", \"alway\", \"go\", \"best\", \"drink\", \"got\", \"thing\", \"pretti\", \"not\", \"know\", \"wait\", \"chicken\", \"much\", \"bar\", \"think\", \"eat\", \"peopl\", \"menu\", \"say\", \"first\", \"night\", \"tast\", \"take\", \"that\", \"could\", \"there\", \"fri\", \"better\", \"never\", \"way\", \"day\", \"pizza\", \"went\", \"salad\", \"staff\", \"tabl\", \"here\", \"chees\", \"hour\", \"ask\", \"sauc\", \"star\", \"right\", \"delici\", \"lot\", \"two\", \"locat\", \"need\", \"made\", \"work\", \"fresh\", \"give\", \"see\", \"came\", \"lunch\", \"flavor\", \"enjoy\", \"we\", \"meal\", \"experi\", \"use\", \"new\", \"review\", \"sandwich\", \"still\", \"definit\", \"find\", \"feel\", \"sure\"], \"type\": \"scatter\", \"x\": [24.472713470458984, 11.77924633026123, 5.335516929626465, 10.983253479003906, 13.573558807373047, 7.520954132080078, 11.516427040100098, 10.746543884277344, 4.609943866729736, 7.229585647583008, 9.027138710021973, 2.400477170944214, 7.332521915435791, 7.557947635650635, -5.998363971710205, 6.485395908355713, 16.29743766784668, 0.5882635116577148, 45.958255767822266, 4.554078578948975, 9.255785942077637, 8.520377159118652, 8.236042022705078, 11.386327743530273, 14.073512077331543, 7.300363540649414, 7.374238014221191, -5.254965782165527, -3.121946096420288, 10.49145793914795, 10.83418083190918, -7.0524516105651855, 10.189562797546387, 8.828096389770508, 10.621779441833496, 11.220784187316895, 13.085402488708496, 11.02773666381836, 11.56223201751709, -5.659537315368652, 8.896358489990234, 11.511943817138672, 11.992302894592285, -22.261680603027344, 7.330088138580322, 27.774715423583984, 11.52592945098877, 13.58324146270752, -12.058103561401367, 11.735079765319824, 10.323287010192871, 2.5977861881256104, 5.815089702606201, -9.81356143951416, 3.099329710006714, 8.151447296142578, 9.031211853027344, 7.869686603546143, -52.03144073486328, 10.054646492004395, 9.72179889678955, 6.681262493133545, 4.713129997253418, 11.417448043823242, 3.5292866230010986, -26.922637939453125, -18.687223434448242, -14.361289978027344, 6.810084342956543, -4.127282619476318, 6.164159774780273, 12.607963562011719, 0.7486412525177002, 16.35773277282715, 4.404498100280762, 8.472006797790527, 10.947638511657715, 5.833826541900635, -4.749068260192871, 9.073222160339355, 7.309811115264893, 7.459790229797363, -0.5272704362869263, 3.3359618186950684, 10.535609245300293, 3.5830013751983643, 14.489221572875977, -17.823665618896484, 13.451804161071777, 11.255324363708496, 13.831665992736816, 8.539094924926758, 5.809722900390625, 6.616550922393799, -0.08009153604507446, 11.543868064880371, 7.3224077224731445, 7.794878959655762, 10.473807334899902, 12.087905883789062], \"y\": [-20.15720558166504, 50.83241271972656, 59.87685775756836, 46.4784049987793, 24.188220977783203, 53.84434509277344, 39.88301467895508, 52.36479187011719, 59.541378021240234, 57.740509033203125, 53.174442291259766, 51.480350494384766, -4.613611221313477, 54.9334831237793, -15.657831192016602, 56.975547790527344, 43.56163024902344, 34.95567321777344, 46.3365364074707, 57.64564514160156, 54.7947998046875, 55.542728424072266, 53.29182815551758, 46.17177200317383, 49.20708084106445, 53.97816848754883, 56.35153579711914, -12.18508529663086, 0.6680405735969543, 51.55928039550781, 51.37714767456055, 60.66904830932617, 52.350791931152344, 13.550820350646973, 52.494178771972656, 45.78757095336914, 20.041397094726562, 52.480533599853516, 49.44046401977539, -12.595312118530273, 53.46402359008789, 50.26758575439453, 52.59917449951172, 32.41360092163086, 54.176700592041016, 27.486202239990234, 50.080902099609375, 23.595233917236328, -15.336252212524414, 24.26888084411621, 51.43050003051758, 63.905174255371094, 62.800655364990234, -13.264984130859375, 54.97604751586914, 54.705352783203125, 53.12300491333008, 54.49639129638672, -3.450080633163452, 50.20186996459961, 52.86019515991211, 54.54676818847656, 62.20236587524414, 21.909826278686523, 58.296138763427734, 26.764009475708008, 53.95854568481445, -12.396594047546387, 55.27572250366211, -17.825334548950195, 63.342796325683594, 50.6068000793457, -11.456028938293457, 36.49957275390625, 55.733604431152344, 14.567595481872559, 49.70885467529297, 66.91743469238281, -17.948041915893555, 52.02104187011719, 56.32474899291992, 55.983367919921875, 54.22422790527344, 55.0876350402832, 51.51156234741211, 58.2901496887207, 22.412492752075195, 30.649274826049805, 47.8498649597168, 50.94813919067383, 22.795333862304688, 3.2359843254089355, 52.87808609008789, 56.91996383666992, 47.40044403076172, 21.934120178222656, 54.70492935180664, 12.559904098510742, 52.61183166503906, 49.784793853759766]}],\n",
       "                        {\"hovermode\": \"closest\", \"template\": {\"data\": {\"bar\": [{\"error_x\": {\"color\": \"#2a3f5f\"}, \"error_y\": {\"color\": \"#2a3f5f\"}, \"marker\": {\"line\": {\"color\": \"#E5ECF6\", \"width\": 0.5}}, \"type\": \"bar\"}], \"barpolar\": [{\"marker\": {\"line\": {\"color\": \"#E5ECF6\", \"width\": 0.5}}, \"type\": \"barpolar\"}], \"carpet\": [{\"aaxis\": {\"endlinecolor\": \"#2a3f5f\", \"gridcolor\": \"white\", \"linecolor\": \"white\", \"minorgridcolor\": \"white\", \"startlinecolor\": \"#2a3f5f\"}, \"baxis\": {\"endlinecolor\": \"#2a3f5f\", \"gridcolor\": \"white\", \"linecolor\": \"white\", \"minorgridcolor\": \"white\", \"startlinecolor\": \"#2a3f5f\"}, \"type\": \"carpet\"}], \"choropleth\": [{\"colorbar\": {\"outlinewidth\": 0, \"ticks\": \"\"}, \"type\": \"choropleth\"}], \"contour\": [{\"colorbar\": {\"outlinewidth\": 0, \"ticks\": \"\"}, \"colorscale\": [[0.0, \"#0d0887\"], [0.1111111111111111, \"#46039f\"], [0.2222222222222222, \"#7201a8\"], [0.3333333333333333, \"#9c179e\"], [0.4444444444444444, \"#bd3786\"], [0.5555555555555556, \"#d8576b\"], [0.6666666666666666, \"#ed7953\"], [0.7777777777777778, \"#fb9f3a\"], [0.8888888888888888, \"#fdca26\"], [1.0, \"#f0f921\"]], \"type\": \"contour\"}], \"contourcarpet\": [{\"colorbar\": {\"outlinewidth\": 0, \"ticks\": \"\"}, \"type\": \"contourcarpet\"}], \"heatmap\": [{\"colorbar\": {\"outlinewidth\": 0, \"ticks\": \"\"}, \"colorscale\": [[0.0, \"#0d0887\"], [0.1111111111111111, \"#46039f\"], [0.2222222222222222, \"#7201a8\"], [0.3333333333333333, \"#9c179e\"], [0.4444444444444444, \"#bd3786\"], [0.5555555555555556, \"#d8576b\"], [0.6666666666666666, \"#ed7953\"], [0.7777777777777778, \"#fb9f3a\"], [0.8888888888888888, \"#fdca26\"], [1.0, \"#f0f921\"]], \"type\": \"heatmap\"}], \"heatmapgl\": [{\"colorbar\": {\"outlinewidth\": 0, \"ticks\": \"\"}, \"colorscale\": [[0.0, \"#0d0887\"], [0.1111111111111111, \"#46039f\"], [0.2222222222222222, \"#7201a8\"], [0.3333333333333333, \"#9c179e\"], [0.4444444444444444, \"#bd3786\"], [0.5555555555555556, \"#d8576b\"], [0.6666666666666666, \"#ed7953\"], [0.7777777777777778, \"#fb9f3a\"], [0.8888888888888888, \"#fdca26\"], [1.0, \"#f0f921\"]], \"type\": \"heatmapgl\"}], \"histogram\": [{\"marker\": {\"colorbar\": {\"outlinewidth\": 0, \"ticks\": \"\"}}, \"type\": \"histogram\"}], \"histogram2d\": [{\"colorbar\": {\"outlinewidth\": 0, \"ticks\": \"\"}, \"colorscale\": [[0.0, \"#0d0887\"], [0.1111111111111111, \"#46039f\"], [0.2222222222222222, \"#7201a8\"], [0.3333333333333333, \"#9c179e\"], [0.4444444444444444, \"#bd3786\"], [0.5555555555555556, \"#d8576b\"], [0.6666666666666666, \"#ed7953\"], [0.7777777777777778, \"#fb9f3a\"], [0.8888888888888888, \"#fdca26\"], [1.0, \"#f0f921\"]], \"type\": \"histogram2d\"}], \"histogram2dcontour\": [{\"colorbar\": {\"outlinewidth\": 0, \"ticks\": \"\"}, \"colorscale\": [[0.0, \"#0d0887\"], [0.1111111111111111, \"#46039f\"], [0.2222222222222222, \"#7201a8\"], [0.3333333333333333, \"#9c179e\"], [0.4444444444444444, \"#bd3786\"], [0.5555555555555556, \"#d8576b\"], [0.6666666666666666, \"#ed7953\"], [0.7777777777777778, \"#fb9f3a\"], [0.8888888888888888, \"#fdca26\"], [1.0, \"#f0f921\"]], \"type\": \"histogram2dcontour\"}], \"mesh3d\": [{\"colorbar\": {\"outlinewidth\": 0, \"ticks\": \"\"}, \"type\": \"mesh3d\"}], \"parcoords\": [{\"line\": {\"colorbar\": {\"outlinewidth\": 0, \"ticks\": \"\"}}, \"type\": \"parcoords\"}], \"pie\": [{\"automargin\": true, \"type\": \"pie\"}], \"scatter\": [{\"marker\": {\"colorbar\": {\"outlinewidth\": 0, \"ticks\": \"\"}}, \"type\": \"scatter\"}], \"scatter3d\": [{\"line\": {\"colorbar\": {\"outlinewidth\": 0, \"ticks\": \"\"}}, \"marker\": {\"colorbar\": {\"outlinewidth\": 0, \"ticks\": \"\"}}, \"type\": \"scatter3d\"}], \"scattercarpet\": [{\"marker\": {\"colorbar\": {\"outlinewidth\": 0, \"ticks\": \"\"}}, \"type\": \"scattercarpet\"}], \"scattergeo\": [{\"marker\": {\"colorbar\": {\"outlinewidth\": 0, \"ticks\": \"\"}}, \"type\": \"scattergeo\"}], \"scattergl\": [{\"marker\": {\"colorbar\": {\"outlinewidth\": 0, \"ticks\": \"\"}}, \"type\": \"scattergl\"}], \"scattermapbox\": [{\"marker\": {\"colorbar\": {\"outlinewidth\": 0, \"ticks\": \"\"}}, \"type\": \"scattermapbox\"}], \"scatterpolar\": [{\"marker\": {\"colorbar\": {\"outlinewidth\": 0, \"ticks\": \"\"}}, \"type\": \"scatterpolar\"}], \"scatterpolargl\": [{\"marker\": {\"colorbar\": {\"outlinewidth\": 0, \"ticks\": \"\"}}, \"type\": \"scatterpolargl\"}], \"scatterternary\": [{\"marker\": {\"colorbar\": {\"outlinewidth\": 0, \"ticks\": \"\"}}, \"type\": \"scatterternary\"}], \"surface\": [{\"colorbar\": {\"outlinewidth\": 0, \"ticks\": \"\"}, \"colorscale\": [[0.0, \"#0d0887\"], [0.1111111111111111, \"#46039f\"], [0.2222222222222222, \"#7201a8\"], [0.3333333333333333, \"#9c179e\"], [0.4444444444444444, \"#bd3786\"], [0.5555555555555556, \"#d8576b\"], [0.6666666666666666, \"#ed7953\"], [0.7777777777777778, \"#fb9f3a\"], [0.8888888888888888, \"#fdca26\"], [1.0, \"#f0f921\"]], \"type\": \"surface\"}], \"table\": [{\"cells\": {\"fill\": {\"color\": \"#EBF0F8\"}, \"line\": {\"color\": \"white\"}}, \"header\": {\"fill\": {\"color\": \"#C8D4E3\"}, \"line\": {\"color\": \"white\"}}, \"type\": \"table\"}]}, \"layout\": {\"annotationdefaults\": {\"arrowcolor\": \"#2a3f5f\", \"arrowhead\": 0, \"arrowwidth\": 1}, \"coloraxis\": {\"colorbar\": {\"outlinewidth\": 0, \"ticks\": \"\"}}, \"colorscale\": {\"diverging\": [[0, \"#8e0152\"], [0.1, \"#c51b7d\"], [0.2, \"#de77ae\"], [0.3, \"#f1b6da\"], [0.4, \"#fde0ef\"], [0.5, \"#f7f7f7\"], [0.6, \"#e6f5d0\"], [0.7, \"#b8e186\"], [0.8, \"#7fbc41\"], [0.9, \"#4d9221\"], [1, \"#276419\"]], \"sequential\": [[0.0, \"#0d0887\"], [0.1111111111111111, \"#46039f\"], [0.2222222222222222, \"#7201a8\"], [0.3333333333333333, \"#9c179e\"], [0.4444444444444444, \"#bd3786\"], [0.5555555555555556, \"#d8576b\"], [0.6666666666666666, \"#ed7953\"], [0.7777777777777778, \"#fb9f3a\"], [0.8888888888888888, \"#fdca26\"], [1.0, \"#f0f921\"]], \"sequentialminus\": [[0.0, \"#0d0887\"], [0.1111111111111111, \"#46039f\"], [0.2222222222222222, \"#7201a8\"], [0.3333333333333333, \"#9c179e\"], [0.4444444444444444, \"#bd3786\"], [0.5555555555555556, \"#d8576b\"], [0.6666666666666666, \"#ed7953\"], [0.7777777777777778, \"#fb9f3a\"], [0.8888888888888888, \"#fdca26\"], [1.0, \"#f0f921\"]]}, \"colorway\": [\"#636efa\", \"#EF553B\", \"#00cc96\", \"#ab63fa\", \"#FFA15A\", \"#19d3f3\", \"#FF6692\", \"#B6E880\", \"#FF97FF\", \"#FECB52\"], \"font\": {\"color\": \"#2a3f5f\"}, \"geo\": {\"bgcolor\": \"white\", \"lakecolor\": \"white\", \"landcolor\": \"#E5ECF6\", \"showlakes\": true, \"showland\": true, \"subunitcolor\": \"white\"}, \"hoverlabel\": {\"align\": \"left\"}, \"hovermode\": \"closest\", \"mapbox\": {\"style\": \"light\"}, \"paper_bgcolor\": \"white\", \"plot_bgcolor\": \"#E5ECF6\", \"polar\": {\"angularaxis\": {\"gridcolor\": \"white\", \"linecolor\": \"white\", \"ticks\": \"\"}, \"bgcolor\": \"#E5ECF6\", \"radialaxis\": {\"gridcolor\": \"white\", \"linecolor\": \"white\", \"ticks\": \"\"}}, \"scene\": {\"xaxis\": {\"backgroundcolor\": \"#E5ECF6\", \"gridcolor\": \"white\", \"gridwidth\": 2, \"linecolor\": \"white\", \"showbackground\": true, \"ticks\": \"\", \"zerolinecolor\": \"white\"}, \"yaxis\": {\"backgroundcolor\": \"#E5ECF6\", \"gridcolor\": \"white\", \"gridwidth\": 2, \"linecolor\": \"white\", \"showbackground\": true, \"ticks\": \"\", \"zerolinecolor\": \"white\"}, \"zaxis\": {\"backgroundcolor\": \"#E5ECF6\", \"gridcolor\": \"white\", \"gridwidth\": 2, \"linecolor\": \"white\", \"showbackground\": true, \"ticks\": \"\", \"zerolinecolor\": \"white\"}}, \"shapedefaults\": {\"line\": {\"color\": \"#2a3f5f\"}}, \"ternary\": {\"aaxis\": {\"gridcolor\": \"white\", \"linecolor\": \"white\", \"ticks\": \"\"}, \"baxis\": {\"gridcolor\": \"white\", \"linecolor\": \"white\", \"ticks\": \"\"}, \"bgcolor\": \"#E5ECF6\", \"caxis\": {\"gridcolor\": \"white\", \"linecolor\": \"white\", \"ticks\": \"\"}}, \"title\": {\"x\": 0.05}, \"xaxis\": {\"automargin\": true, \"gridcolor\": \"white\", \"linecolor\": \"white\", \"ticks\": \"\", \"title\": {\"standoff\": 15}, \"zerolinecolor\": \"white\", \"zerolinewidth\": 2}, \"yaxis\": {\"automargin\": true, \"gridcolor\": \"white\", \"linecolor\": \"white\", \"ticks\": \"\", \"title\": {\"standoff\": 15}, \"zerolinecolor\": \"white\", \"zerolinewidth\": 2}}}, \"title\": {\"text\": \"t-SNE_factor1 vs t-SNE_factor2\"}, \"xaxis\": {\"title\": {\"text\": \"t-SNE_factor1\"}}, \"yaxis\": {\"title\": {\"text\": \"t-SNE_factor2\"}}},\n",
       "                        {\"responsive\": true}\n",
       "                    ).then(function(){\n",
       "                            \n",
       "var gd = document.getElementById('33079b81-3d71-4e80-94dd-aff9e99e09f6');\n",
       "var x = new MutationObserver(function (mutations, observer) {{\n",
       "        var display = window.getComputedStyle(gd).display;\n",
       "        if (!display || display === 'none') {{\n",
       "            console.log([gd, 'removed!']);\n",
       "            Plotly.purge(gd);\n",
       "            observer.disconnect();\n",
       "        }}\n",
       "}});\n",
       "\n",
       "// Listen for the removal of the full notebook cells\n",
       "var notebookContainer = gd.closest('#notebook-container');\n",
       "if (notebookContainer) {{\n",
       "    x.observe(notebookContainer, {childList: true});\n",
       "}}\n",
       "\n",
       "// Listen for the clearing of the current output cell\n",
       "var outputEl = gd.closest('.output');\n",
       "if (outputEl) {{\n",
       "    x.observe(outputEl, {childList: true});\n",
       "}}\n",
       "\n",
       "                        })\n",
       "                };\n",
       "                });\n",
       "            </script>\n",
       "        </div>"
      ]
     },
     "metadata": {},
     "output_type": "display_data"
    },
    {
     "name": "stdout",
     "output_type": "stream",
     "text": [
      "Wall time: 2min 42s\n"
     ]
    }
   ],
   "source": [
    "%%time\n",
    "glove_tsne_embds = TSNE(n_components=2).fit_transform(glove_embds)"
   ]
  },
  {
   "cell_type": "code",
   "execution_count": 104,
   "id": "acknowledged-algorithm",
   "metadata": {},
   "outputs": [],
   "source": [
    "%matplotlib inline"
   ]
  },
  {
   "cell_type": "code",
   "execution_count": 106,
   "id": "mental-childhood",
   "metadata": {},
   "outputs": [
    {
     "data": {
      "application/vnd.plotly.v1+json": {
       "config": {
        "linkText": "Export to plot.ly",
        "plotlyServerURL": "https://plot.ly",
        "showLink": false
       },
       "data": [
        {
         "mode": "markers",
         "text": [
          "i",
          "place",
          "good",
          "food",
          "like",
          "great",
          "get",
          "time",
          "one",
          "would",
          "order",
          "realli",
          "it",
          "servic",
          "the",
          "love",
          "friend",
          "tri",
          "back",
          "have",
          "also",
          "make",
          "nice",
          "am",
          "even",
          "well",
          "restaur",
          "littl",
          "look",
          "want",
          "price",
          "come",
          "alway",
          "go",
          "best",
          "drink",
          "got",
          "thing",
          "pretti",
          "not",
          "know",
          "wait",
          "chicken",
          "much",
          "bar",
          "think",
          "eat",
          "peopl",
          "menu",
          "say",
          "first",
          "night",
          "tast",
          "take",
          "that",
          "could",
          "there",
          "fri",
          "better",
          "never",
          "way",
          "day",
          "pizza",
          "went",
          "salad",
          "staff",
          "tabl",
          "here",
          "chees",
          "hour",
          "ask",
          "sauc",
          "star",
          "right",
          "delici",
          "lot",
          "two",
          "locat",
          "need",
          "made",
          "work",
          "fresh",
          "give",
          "see",
          "came",
          "lunch",
          "flavor",
          "enjoy",
          "we",
          "meal",
          "experi",
          "use",
          "new",
          "review",
          "sandwich",
          "still",
          "definit",
          "find",
          "feel",
          "sure"
         ],
         "type": "scatter",
         "x": [
          24.472713470458984,
          11.77924633026123,
          5.335516929626465,
          10.983253479003906,
          13.573558807373047,
          7.520954132080078,
          11.516427040100098,
          10.746543884277344,
          4.609943866729736,
          7.229585647583008,
          9.027138710021973,
          2.400477170944214,
          7.332521915435791,
          7.557947635650635,
          -5.998363971710205,
          6.485395908355713,
          16.29743766784668,
          0.5882635116577148,
          45.958255767822266,
          4.554078578948975,
          9.255785942077637,
          8.520377159118652,
          8.236042022705078,
          11.386327743530273,
          14.073512077331543,
          7.300363540649414,
          7.374238014221191,
          -5.254965782165527,
          -3.121946096420288,
          10.49145793914795,
          10.83418083190918,
          -7.0524516105651855,
          10.189562797546387,
          8.828096389770508,
          10.621779441833496,
          11.220784187316895,
          13.085402488708496,
          11.02773666381836,
          11.56223201751709,
          -5.659537315368652,
          8.896358489990234,
          11.511943817138672,
          11.992302894592285,
          -22.261680603027344,
          7.330088138580322,
          27.774715423583984,
          11.52592945098877,
          13.58324146270752,
          -12.058103561401367,
          11.735079765319824,
          10.323287010192871,
          2.5977861881256104,
          5.815089702606201,
          -9.81356143951416,
          3.099329710006714,
          8.151447296142578,
          9.031211853027344,
          7.869686603546143,
          -52.03144073486328,
          10.054646492004395,
          9.72179889678955,
          6.681262493133545,
          4.713129997253418,
          11.417448043823242,
          3.5292866230010986,
          -26.922637939453125,
          -18.687223434448242,
          -14.361289978027344,
          6.810084342956543,
          -4.127282619476318,
          6.164159774780273,
          12.607963562011719,
          0.7486412525177002,
          16.35773277282715,
          4.404498100280762,
          8.472006797790527,
          10.947638511657715,
          5.833826541900635,
          -4.749068260192871,
          9.073222160339355,
          7.309811115264893,
          7.459790229797363,
          -0.5272704362869263,
          3.3359618186950684,
          10.535609245300293,
          3.5830013751983643,
          14.489221572875977,
          -17.823665618896484,
          13.451804161071777,
          11.255324363708496,
          13.831665992736816,
          8.539094924926758,
          5.809722900390625,
          6.616550922393799,
          -0.08009153604507446,
          11.543868064880371,
          7.3224077224731445,
          7.794878959655762,
          10.473807334899902,
          12.087905883789062
         ],
         "y": [
          -20.15720558166504,
          50.83241271972656,
          59.87685775756836,
          46.4784049987793,
          24.188220977783203,
          53.84434509277344,
          39.88301467895508,
          52.36479187011719,
          59.541378021240234,
          57.740509033203125,
          53.174442291259766,
          51.480350494384766,
          -4.613611221313477,
          54.9334831237793,
          -15.657831192016602,
          56.975547790527344,
          43.56163024902344,
          34.95567321777344,
          46.3365364074707,
          57.64564514160156,
          54.7947998046875,
          55.542728424072266,
          53.29182815551758,
          46.17177200317383,
          49.20708084106445,
          53.97816848754883,
          56.35153579711914,
          -12.18508529663086,
          0.6680405735969543,
          51.55928039550781,
          51.37714767456055,
          60.66904830932617,
          52.350791931152344,
          13.550820350646973,
          52.494178771972656,
          45.78757095336914,
          20.041397094726562,
          52.480533599853516,
          49.44046401977539,
          -12.595312118530273,
          53.46402359008789,
          50.26758575439453,
          52.59917449951172,
          32.41360092163086,
          54.176700592041016,
          27.486202239990234,
          50.080902099609375,
          23.595233917236328,
          -15.336252212524414,
          24.26888084411621,
          51.43050003051758,
          63.905174255371094,
          62.800655364990234,
          -13.264984130859375,
          54.97604751586914,
          54.705352783203125,
          53.12300491333008,
          54.49639129638672,
          -3.450080633163452,
          50.20186996459961,
          52.86019515991211,
          54.54676818847656,
          62.20236587524414,
          21.909826278686523,
          58.296138763427734,
          26.764009475708008,
          53.95854568481445,
          -12.396594047546387,
          55.27572250366211,
          -17.825334548950195,
          63.342796325683594,
          50.6068000793457,
          -11.456028938293457,
          36.49957275390625,
          55.733604431152344,
          14.567595481872559,
          49.70885467529297,
          66.91743469238281,
          -17.948041915893555,
          52.02104187011719,
          56.32474899291992,
          55.983367919921875,
          54.22422790527344,
          55.0876350402832,
          51.51156234741211,
          58.2901496887207,
          22.412492752075195,
          30.649274826049805,
          47.8498649597168,
          50.94813919067383,
          22.795333862304688,
          3.2359843254089355,
          52.87808609008789,
          56.91996383666992,
          47.40044403076172,
          21.934120178222656,
          54.70492935180664,
          12.559904098510742,
          52.61183166503906,
          49.784793853759766
         ]
        }
       ],
       "layout": {
        "hovermode": "closest",
        "template": {
         "data": {
          "bar": [
           {
            "error_x": {
             "color": "#2a3f5f"
            },
            "error_y": {
             "color": "#2a3f5f"
            },
            "marker": {
             "line": {
              "color": "#E5ECF6",
              "width": 0.5
             }
            },
            "type": "bar"
           }
          ],
          "barpolar": [
           {
            "marker": {
             "line": {
              "color": "#E5ECF6",
              "width": 0.5
             }
            },
            "type": "barpolar"
           }
          ],
          "carpet": [
           {
            "aaxis": {
             "endlinecolor": "#2a3f5f",
             "gridcolor": "white",
             "linecolor": "white",
             "minorgridcolor": "white",
             "startlinecolor": "#2a3f5f"
            },
            "baxis": {
             "endlinecolor": "#2a3f5f",
             "gridcolor": "white",
             "linecolor": "white",
             "minorgridcolor": "white",
             "startlinecolor": "#2a3f5f"
            },
            "type": "carpet"
           }
          ],
          "choropleth": [
           {
            "colorbar": {
             "outlinewidth": 0,
             "ticks": ""
            },
            "type": "choropleth"
           }
          ],
          "contour": [
           {
            "colorbar": {
             "outlinewidth": 0,
             "ticks": ""
            },
            "colorscale": [
             [
              0,
              "#0d0887"
             ],
             [
              0.1111111111111111,
              "#46039f"
             ],
             [
              0.2222222222222222,
              "#7201a8"
             ],
             [
              0.3333333333333333,
              "#9c179e"
             ],
             [
              0.4444444444444444,
              "#bd3786"
             ],
             [
              0.5555555555555556,
              "#d8576b"
             ],
             [
              0.6666666666666666,
              "#ed7953"
             ],
             [
              0.7777777777777778,
              "#fb9f3a"
             ],
             [
              0.8888888888888888,
              "#fdca26"
             ],
             [
              1,
              "#f0f921"
             ]
            ],
            "type": "contour"
           }
          ],
          "contourcarpet": [
           {
            "colorbar": {
             "outlinewidth": 0,
             "ticks": ""
            },
            "type": "contourcarpet"
           }
          ],
          "heatmap": [
           {
            "colorbar": {
             "outlinewidth": 0,
             "ticks": ""
            },
            "colorscale": [
             [
              0,
              "#0d0887"
             ],
             [
              0.1111111111111111,
              "#46039f"
             ],
             [
              0.2222222222222222,
              "#7201a8"
             ],
             [
              0.3333333333333333,
              "#9c179e"
             ],
             [
              0.4444444444444444,
              "#bd3786"
             ],
             [
              0.5555555555555556,
              "#d8576b"
             ],
             [
              0.6666666666666666,
              "#ed7953"
             ],
             [
              0.7777777777777778,
              "#fb9f3a"
             ],
             [
              0.8888888888888888,
              "#fdca26"
             ],
             [
              1,
              "#f0f921"
             ]
            ],
            "type": "heatmap"
           }
          ],
          "heatmapgl": [
           {
            "colorbar": {
             "outlinewidth": 0,
             "ticks": ""
            },
            "colorscale": [
             [
              0,
              "#0d0887"
             ],
             [
              0.1111111111111111,
              "#46039f"
             ],
             [
              0.2222222222222222,
              "#7201a8"
             ],
             [
              0.3333333333333333,
              "#9c179e"
             ],
             [
              0.4444444444444444,
              "#bd3786"
             ],
             [
              0.5555555555555556,
              "#d8576b"
             ],
             [
              0.6666666666666666,
              "#ed7953"
             ],
             [
              0.7777777777777778,
              "#fb9f3a"
             ],
             [
              0.8888888888888888,
              "#fdca26"
             ],
             [
              1,
              "#f0f921"
             ]
            ],
            "type": "heatmapgl"
           }
          ],
          "histogram": [
           {
            "marker": {
             "colorbar": {
              "outlinewidth": 0,
              "ticks": ""
             }
            },
            "type": "histogram"
           }
          ],
          "histogram2d": [
           {
            "colorbar": {
             "outlinewidth": 0,
             "ticks": ""
            },
            "colorscale": [
             [
              0,
              "#0d0887"
             ],
             [
              0.1111111111111111,
              "#46039f"
             ],
             [
              0.2222222222222222,
              "#7201a8"
             ],
             [
              0.3333333333333333,
              "#9c179e"
             ],
             [
              0.4444444444444444,
              "#bd3786"
             ],
             [
              0.5555555555555556,
              "#d8576b"
             ],
             [
              0.6666666666666666,
              "#ed7953"
             ],
             [
              0.7777777777777778,
              "#fb9f3a"
             ],
             [
              0.8888888888888888,
              "#fdca26"
             ],
             [
              1,
              "#f0f921"
             ]
            ],
            "type": "histogram2d"
           }
          ],
          "histogram2dcontour": [
           {
            "colorbar": {
             "outlinewidth": 0,
             "ticks": ""
            },
            "colorscale": [
             [
              0,
              "#0d0887"
             ],
             [
              0.1111111111111111,
              "#46039f"
             ],
             [
              0.2222222222222222,
              "#7201a8"
             ],
             [
              0.3333333333333333,
              "#9c179e"
             ],
             [
              0.4444444444444444,
              "#bd3786"
             ],
             [
              0.5555555555555556,
              "#d8576b"
             ],
             [
              0.6666666666666666,
              "#ed7953"
             ],
             [
              0.7777777777777778,
              "#fb9f3a"
             ],
             [
              0.8888888888888888,
              "#fdca26"
             ],
             [
              1,
              "#f0f921"
             ]
            ],
            "type": "histogram2dcontour"
           }
          ],
          "mesh3d": [
           {
            "colorbar": {
             "outlinewidth": 0,
             "ticks": ""
            },
            "type": "mesh3d"
           }
          ],
          "parcoords": [
           {
            "line": {
             "colorbar": {
              "outlinewidth": 0,
              "ticks": ""
             }
            },
            "type": "parcoords"
           }
          ],
          "pie": [
           {
            "automargin": true,
            "type": "pie"
           }
          ],
          "scatter": [
           {
            "marker": {
             "colorbar": {
              "outlinewidth": 0,
              "ticks": ""
             }
            },
            "type": "scatter"
           }
          ],
          "scatter3d": [
           {
            "line": {
             "colorbar": {
              "outlinewidth": 0,
              "ticks": ""
             }
            },
            "marker": {
             "colorbar": {
              "outlinewidth": 0,
              "ticks": ""
             }
            },
            "type": "scatter3d"
           }
          ],
          "scattercarpet": [
           {
            "marker": {
             "colorbar": {
              "outlinewidth": 0,
              "ticks": ""
             }
            },
            "type": "scattercarpet"
           }
          ],
          "scattergeo": [
           {
            "marker": {
             "colorbar": {
              "outlinewidth": 0,
              "ticks": ""
             }
            },
            "type": "scattergeo"
           }
          ],
          "scattergl": [
           {
            "marker": {
             "colorbar": {
              "outlinewidth": 0,
              "ticks": ""
             }
            },
            "type": "scattergl"
           }
          ],
          "scattermapbox": [
           {
            "marker": {
             "colorbar": {
              "outlinewidth": 0,
              "ticks": ""
             }
            },
            "type": "scattermapbox"
           }
          ],
          "scatterpolar": [
           {
            "marker": {
             "colorbar": {
              "outlinewidth": 0,
              "ticks": ""
             }
            },
            "type": "scatterpolar"
           }
          ],
          "scatterpolargl": [
           {
            "marker": {
             "colorbar": {
              "outlinewidth": 0,
              "ticks": ""
             }
            },
            "type": "scatterpolargl"
           }
          ],
          "scatterternary": [
           {
            "marker": {
             "colorbar": {
              "outlinewidth": 0,
              "ticks": ""
             }
            },
            "type": "scatterternary"
           }
          ],
          "surface": [
           {
            "colorbar": {
             "outlinewidth": 0,
             "ticks": ""
            },
            "colorscale": [
             [
              0,
              "#0d0887"
             ],
             [
              0.1111111111111111,
              "#46039f"
             ],
             [
              0.2222222222222222,
              "#7201a8"
             ],
             [
              0.3333333333333333,
              "#9c179e"
             ],
             [
              0.4444444444444444,
              "#bd3786"
             ],
             [
              0.5555555555555556,
              "#d8576b"
             ],
             [
              0.6666666666666666,
              "#ed7953"
             ],
             [
              0.7777777777777778,
              "#fb9f3a"
             ],
             [
              0.8888888888888888,
              "#fdca26"
             ],
             [
              1,
              "#f0f921"
             ]
            ],
            "type": "surface"
           }
          ],
          "table": [
           {
            "cells": {
             "fill": {
              "color": "#EBF0F8"
             },
             "line": {
              "color": "white"
             }
            },
            "header": {
             "fill": {
              "color": "#C8D4E3"
             },
             "line": {
              "color": "white"
             }
            },
            "type": "table"
           }
          ]
         },
         "layout": {
          "annotationdefaults": {
           "arrowcolor": "#2a3f5f",
           "arrowhead": 0,
           "arrowwidth": 1
          },
          "coloraxis": {
           "colorbar": {
            "outlinewidth": 0,
            "ticks": ""
           }
          },
          "colorscale": {
           "diverging": [
            [
             0,
             "#8e0152"
            ],
            [
             0.1,
             "#c51b7d"
            ],
            [
             0.2,
             "#de77ae"
            ],
            [
             0.3,
             "#f1b6da"
            ],
            [
             0.4,
             "#fde0ef"
            ],
            [
             0.5,
             "#f7f7f7"
            ],
            [
             0.6,
             "#e6f5d0"
            ],
            [
             0.7,
             "#b8e186"
            ],
            [
             0.8,
             "#7fbc41"
            ],
            [
             0.9,
             "#4d9221"
            ],
            [
             1,
             "#276419"
            ]
           ],
           "sequential": [
            [
             0,
             "#0d0887"
            ],
            [
             0.1111111111111111,
             "#46039f"
            ],
            [
             0.2222222222222222,
             "#7201a8"
            ],
            [
             0.3333333333333333,
             "#9c179e"
            ],
            [
             0.4444444444444444,
             "#bd3786"
            ],
            [
             0.5555555555555556,
             "#d8576b"
            ],
            [
             0.6666666666666666,
             "#ed7953"
            ],
            [
             0.7777777777777778,
             "#fb9f3a"
            ],
            [
             0.8888888888888888,
             "#fdca26"
            ],
            [
             1,
             "#f0f921"
            ]
           ],
           "sequentialminus": [
            [
             0,
             "#0d0887"
            ],
            [
             0.1111111111111111,
             "#46039f"
            ],
            [
             0.2222222222222222,
             "#7201a8"
            ],
            [
             0.3333333333333333,
             "#9c179e"
            ],
            [
             0.4444444444444444,
             "#bd3786"
            ],
            [
             0.5555555555555556,
             "#d8576b"
            ],
            [
             0.6666666666666666,
             "#ed7953"
            ],
            [
             0.7777777777777778,
             "#fb9f3a"
            ],
            [
             0.8888888888888888,
             "#fdca26"
            ],
            [
             1,
             "#f0f921"
            ]
           ]
          },
          "colorway": [
           "#636efa",
           "#EF553B",
           "#00cc96",
           "#ab63fa",
           "#FFA15A",
           "#19d3f3",
           "#FF6692",
           "#B6E880",
           "#FF97FF",
           "#FECB52"
          ],
          "font": {
           "color": "#2a3f5f"
          },
          "geo": {
           "bgcolor": "white",
           "lakecolor": "white",
           "landcolor": "#E5ECF6",
           "showlakes": true,
           "showland": true,
           "subunitcolor": "white"
          },
          "hoverlabel": {
           "align": "left"
          },
          "hovermode": "closest",
          "mapbox": {
           "style": "light"
          },
          "paper_bgcolor": "white",
          "plot_bgcolor": "#E5ECF6",
          "polar": {
           "angularaxis": {
            "gridcolor": "white",
            "linecolor": "white",
            "ticks": ""
           },
           "bgcolor": "#E5ECF6",
           "radialaxis": {
            "gridcolor": "white",
            "linecolor": "white",
            "ticks": ""
           }
          },
          "scene": {
           "xaxis": {
            "backgroundcolor": "#E5ECF6",
            "gridcolor": "white",
            "gridwidth": 2,
            "linecolor": "white",
            "showbackground": true,
            "ticks": "",
            "zerolinecolor": "white"
           },
           "yaxis": {
            "backgroundcolor": "#E5ECF6",
            "gridcolor": "white",
            "gridwidth": 2,
            "linecolor": "white",
            "showbackground": true,
            "ticks": "",
            "zerolinecolor": "white"
           },
           "zaxis": {
            "backgroundcolor": "#E5ECF6",
            "gridcolor": "white",
            "gridwidth": 2,
            "linecolor": "white",
            "showbackground": true,
            "ticks": "",
            "zerolinecolor": "white"
           }
          },
          "shapedefaults": {
           "line": {
            "color": "#2a3f5f"
           }
          },
          "ternary": {
           "aaxis": {
            "gridcolor": "white",
            "linecolor": "white",
            "ticks": ""
           },
           "baxis": {
            "gridcolor": "white",
            "linecolor": "white",
            "ticks": ""
           },
           "bgcolor": "#E5ECF6",
           "caxis": {
            "gridcolor": "white",
            "linecolor": "white",
            "ticks": ""
           }
          },
          "title": {
           "x": 0.05
          },
          "xaxis": {
           "automargin": true,
           "gridcolor": "white",
           "linecolor": "white",
           "ticks": "",
           "title": {
            "standoff": 15
           },
           "zerolinecolor": "white",
           "zerolinewidth": 2
          },
          "yaxis": {
           "automargin": true,
           "gridcolor": "white",
           "linecolor": "white",
           "ticks": "",
           "title": {
            "standoff": 15
           },
           "zerolinecolor": "white",
           "zerolinewidth": 2
          }
         }
        },
        "title": {
         "text": "t-SNE_factor1 vs t-SNE_factor2"
        },
        "xaxis": {
         "title": {
          "text": "t-SNE_factor1"
         }
        },
        "yaxis": {
         "title": {
          "text": "t-SNE_factor2"
         }
        }
       }
      },
      "text/html": [
       "<div>\n",
       "        \n",
       "        \n",
       "            <div id=\"2dd0e404-7fac-4776-bbb5-b460ce4a7c18\" class=\"plotly-graph-div\" style=\"height:525px; width:100%;\"></div>\n",
       "            <script type=\"text/javascript\">\n",
       "                require([\"plotly\"], function(Plotly) {\n",
       "                    window.PLOTLYENV=window.PLOTLYENV || {};\n",
       "                    \n",
       "                if (document.getElementById(\"2dd0e404-7fac-4776-bbb5-b460ce4a7c18\")) {\n",
       "                    Plotly.newPlot(\n",
       "                        '2dd0e404-7fac-4776-bbb5-b460ce4a7c18',\n",
       "                        [{\"mode\": \"markers\", \"text\": [\"i\", \"place\", \"good\", \"food\", \"like\", \"great\", \"get\", \"time\", \"one\", \"would\", \"order\", \"realli\", \"it\", \"servic\", \"the\", \"love\", \"friend\", \"tri\", \"back\", \"have\", \"also\", \"make\", \"nice\", \"am\", \"even\", \"well\", \"restaur\", \"littl\", \"look\", \"want\", \"price\", \"come\", \"alway\", \"go\", \"best\", \"drink\", \"got\", \"thing\", \"pretti\", \"not\", \"know\", \"wait\", \"chicken\", \"much\", \"bar\", \"think\", \"eat\", \"peopl\", \"menu\", \"say\", \"first\", \"night\", \"tast\", \"take\", \"that\", \"could\", \"there\", \"fri\", \"better\", \"never\", \"way\", \"day\", \"pizza\", \"went\", \"salad\", \"staff\", \"tabl\", \"here\", \"chees\", \"hour\", \"ask\", \"sauc\", \"star\", \"right\", \"delici\", \"lot\", \"two\", \"locat\", \"need\", \"made\", \"work\", \"fresh\", \"give\", \"see\", \"came\", \"lunch\", \"flavor\", \"enjoy\", \"we\", \"meal\", \"experi\", \"use\", \"new\", \"review\", \"sandwich\", \"still\", \"definit\", \"find\", \"feel\", \"sure\"], \"type\": \"scatter\", \"x\": [24.472713470458984, 11.77924633026123, 5.335516929626465, 10.983253479003906, 13.573558807373047, 7.520954132080078, 11.516427040100098, 10.746543884277344, 4.609943866729736, 7.229585647583008, 9.027138710021973, 2.400477170944214, 7.332521915435791, 7.557947635650635, -5.998363971710205, 6.485395908355713, 16.29743766784668, 0.5882635116577148, 45.958255767822266, 4.554078578948975, 9.255785942077637, 8.520377159118652, 8.236042022705078, 11.386327743530273, 14.073512077331543, 7.300363540649414, 7.374238014221191, -5.254965782165527, -3.121946096420288, 10.49145793914795, 10.83418083190918, -7.0524516105651855, 10.189562797546387, 8.828096389770508, 10.621779441833496, 11.220784187316895, 13.085402488708496, 11.02773666381836, 11.56223201751709, -5.659537315368652, 8.896358489990234, 11.511943817138672, 11.992302894592285, -22.261680603027344, 7.330088138580322, 27.774715423583984, 11.52592945098877, 13.58324146270752, -12.058103561401367, 11.735079765319824, 10.323287010192871, 2.5977861881256104, 5.815089702606201, -9.81356143951416, 3.099329710006714, 8.151447296142578, 9.031211853027344, 7.869686603546143, -52.03144073486328, 10.054646492004395, 9.72179889678955, 6.681262493133545, 4.713129997253418, 11.417448043823242, 3.5292866230010986, -26.922637939453125, -18.687223434448242, -14.361289978027344, 6.810084342956543, -4.127282619476318, 6.164159774780273, 12.607963562011719, 0.7486412525177002, 16.35773277282715, 4.404498100280762, 8.472006797790527, 10.947638511657715, 5.833826541900635, -4.749068260192871, 9.073222160339355, 7.309811115264893, 7.459790229797363, -0.5272704362869263, 3.3359618186950684, 10.535609245300293, 3.5830013751983643, 14.489221572875977, -17.823665618896484, 13.451804161071777, 11.255324363708496, 13.831665992736816, 8.539094924926758, 5.809722900390625, 6.616550922393799, -0.08009153604507446, 11.543868064880371, 7.3224077224731445, 7.794878959655762, 10.473807334899902, 12.087905883789062], \"y\": [-20.15720558166504, 50.83241271972656, 59.87685775756836, 46.4784049987793, 24.188220977783203, 53.84434509277344, 39.88301467895508, 52.36479187011719, 59.541378021240234, 57.740509033203125, 53.174442291259766, 51.480350494384766, -4.613611221313477, 54.9334831237793, -15.657831192016602, 56.975547790527344, 43.56163024902344, 34.95567321777344, 46.3365364074707, 57.64564514160156, 54.7947998046875, 55.542728424072266, 53.29182815551758, 46.17177200317383, 49.20708084106445, 53.97816848754883, 56.35153579711914, -12.18508529663086, 0.6680405735969543, 51.55928039550781, 51.37714767456055, 60.66904830932617, 52.350791931152344, 13.550820350646973, 52.494178771972656, 45.78757095336914, 20.041397094726562, 52.480533599853516, 49.44046401977539, -12.595312118530273, 53.46402359008789, 50.26758575439453, 52.59917449951172, 32.41360092163086, 54.176700592041016, 27.486202239990234, 50.080902099609375, 23.595233917236328, -15.336252212524414, 24.26888084411621, 51.43050003051758, 63.905174255371094, 62.800655364990234, -13.264984130859375, 54.97604751586914, 54.705352783203125, 53.12300491333008, 54.49639129638672, -3.450080633163452, 50.20186996459961, 52.86019515991211, 54.54676818847656, 62.20236587524414, 21.909826278686523, 58.296138763427734, 26.764009475708008, 53.95854568481445, -12.396594047546387, 55.27572250366211, -17.825334548950195, 63.342796325683594, 50.6068000793457, -11.456028938293457, 36.49957275390625, 55.733604431152344, 14.567595481872559, 49.70885467529297, 66.91743469238281, -17.948041915893555, 52.02104187011719, 56.32474899291992, 55.983367919921875, 54.22422790527344, 55.0876350402832, 51.51156234741211, 58.2901496887207, 22.412492752075195, 30.649274826049805, 47.8498649597168, 50.94813919067383, 22.795333862304688, 3.2359843254089355, 52.87808609008789, 56.91996383666992, 47.40044403076172, 21.934120178222656, 54.70492935180664, 12.559904098510742, 52.61183166503906, 49.784793853759766]}],\n",
       "                        {\"hovermode\": \"closest\", \"template\": {\"data\": {\"bar\": [{\"error_x\": {\"color\": \"#2a3f5f\"}, \"error_y\": {\"color\": \"#2a3f5f\"}, \"marker\": {\"line\": {\"color\": \"#E5ECF6\", \"width\": 0.5}}, \"type\": \"bar\"}], \"barpolar\": [{\"marker\": {\"line\": {\"color\": \"#E5ECF6\", \"width\": 0.5}}, \"type\": \"barpolar\"}], \"carpet\": [{\"aaxis\": {\"endlinecolor\": \"#2a3f5f\", \"gridcolor\": \"white\", \"linecolor\": \"white\", \"minorgridcolor\": \"white\", \"startlinecolor\": \"#2a3f5f\"}, \"baxis\": {\"endlinecolor\": \"#2a3f5f\", \"gridcolor\": \"white\", \"linecolor\": \"white\", \"minorgridcolor\": \"white\", \"startlinecolor\": \"#2a3f5f\"}, \"type\": \"carpet\"}], \"choropleth\": [{\"colorbar\": {\"outlinewidth\": 0, \"ticks\": \"\"}, \"type\": \"choropleth\"}], \"contour\": [{\"colorbar\": {\"outlinewidth\": 0, \"ticks\": \"\"}, \"colorscale\": [[0.0, \"#0d0887\"], [0.1111111111111111, \"#46039f\"], [0.2222222222222222, \"#7201a8\"], [0.3333333333333333, \"#9c179e\"], [0.4444444444444444, \"#bd3786\"], [0.5555555555555556, \"#d8576b\"], [0.6666666666666666, \"#ed7953\"], [0.7777777777777778, \"#fb9f3a\"], [0.8888888888888888, \"#fdca26\"], [1.0, \"#f0f921\"]], \"type\": \"contour\"}], \"contourcarpet\": [{\"colorbar\": {\"outlinewidth\": 0, \"ticks\": \"\"}, \"type\": \"contourcarpet\"}], \"heatmap\": [{\"colorbar\": {\"outlinewidth\": 0, \"ticks\": \"\"}, \"colorscale\": [[0.0, \"#0d0887\"], [0.1111111111111111, \"#46039f\"], [0.2222222222222222, \"#7201a8\"], [0.3333333333333333, \"#9c179e\"], [0.4444444444444444, \"#bd3786\"], [0.5555555555555556, \"#d8576b\"], [0.6666666666666666, \"#ed7953\"], [0.7777777777777778, \"#fb9f3a\"], [0.8888888888888888, \"#fdca26\"], [1.0, \"#f0f921\"]], \"type\": \"heatmap\"}], \"heatmapgl\": [{\"colorbar\": {\"outlinewidth\": 0, \"ticks\": \"\"}, \"colorscale\": [[0.0, \"#0d0887\"], [0.1111111111111111, \"#46039f\"], [0.2222222222222222, \"#7201a8\"], [0.3333333333333333, \"#9c179e\"], [0.4444444444444444, \"#bd3786\"], [0.5555555555555556, \"#d8576b\"], [0.6666666666666666, \"#ed7953\"], [0.7777777777777778, \"#fb9f3a\"], [0.8888888888888888, \"#fdca26\"], [1.0, \"#f0f921\"]], \"type\": \"heatmapgl\"}], \"histogram\": [{\"marker\": {\"colorbar\": {\"outlinewidth\": 0, \"ticks\": \"\"}}, \"type\": \"histogram\"}], \"histogram2d\": [{\"colorbar\": {\"outlinewidth\": 0, \"ticks\": \"\"}, \"colorscale\": [[0.0, \"#0d0887\"], [0.1111111111111111, \"#46039f\"], [0.2222222222222222, \"#7201a8\"], [0.3333333333333333, \"#9c179e\"], [0.4444444444444444, \"#bd3786\"], [0.5555555555555556, \"#d8576b\"], [0.6666666666666666, \"#ed7953\"], [0.7777777777777778, \"#fb9f3a\"], [0.8888888888888888, \"#fdca26\"], [1.0, \"#f0f921\"]], \"type\": \"histogram2d\"}], \"histogram2dcontour\": [{\"colorbar\": {\"outlinewidth\": 0, \"ticks\": \"\"}, \"colorscale\": [[0.0, \"#0d0887\"], [0.1111111111111111, \"#46039f\"], [0.2222222222222222, \"#7201a8\"], [0.3333333333333333, \"#9c179e\"], [0.4444444444444444, \"#bd3786\"], [0.5555555555555556, \"#d8576b\"], [0.6666666666666666, \"#ed7953\"], [0.7777777777777778, \"#fb9f3a\"], [0.8888888888888888, \"#fdca26\"], [1.0, \"#f0f921\"]], \"type\": \"histogram2dcontour\"}], \"mesh3d\": [{\"colorbar\": {\"outlinewidth\": 0, \"ticks\": \"\"}, \"type\": \"mesh3d\"}], \"parcoords\": [{\"line\": {\"colorbar\": {\"outlinewidth\": 0, \"ticks\": \"\"}}, \"type\": \"parcoords\"}], \"pie\": [{\"automargin\": true, \"type\": \"pie\"}], \"scatter\": [{\"marker\": {\"colorbar\": {\"outlinewidth\": 0, \"ticks\": \"\"}}, \"type\": \"scatter\"}], \"scatter3d\": [{\"line\": {\"colorbar\": {\"outlinewidth\": 0, \"ticks\": \"\"}}, \"marker\": {\"colorbar\": {\"outlinewidth\": 0, \"ticks\": \"\"}}, \"type\": \"scatter3d\"}], \"scattercarpet\": [{\"marker\": {\"colorbar\": {\"outlinewidth\": 0, \"ticks\": \"\"}}, \"type\": \"scattercarpet\"}], \"scattergeo\": [{\"marker\": {\"colorbar\": {\"outlinewidth\": 0, \"ticks\": \"\"}}, \"type\": \"scattergeo\"}], \"scattergl\": [{\"marker\": {\"colorbar\": {\"outlinewidth\": 0, \"ticks\": \"\"}}, \"type\": \"scattergl\"}], \"scattermapbox\": [{\"marker\": {\"colorbar\": {\"outlinewidth\": 0, \"ticks\": \"\"}}, \"type\": \"scattermapbox\"}], \"scatterpolar\": [{\"marker\": {\"colorbar\": {\"outlinewidth\": 0, \"ticks\": \"\"}}, \"type\": \"scatterpolar\"}], \"scatterpolargl\": [{\"marker\": {\"colorbar\": {\"outlinewidth\": 0, \"ticks\": \"\"}}, \"type\": \"scatterpolargl\"}], \"scatterternary\": [{\"marker\": {\"colorbar\": {\"outlinewidth\": 0, \"ticks\": \"\"}}, \"type\": \"scatterternary\"}], \"surface\": [{\"colorbar\": {\"outlinewidth\": 0, \"ticks\": \"\"}, \"colorscale\": [[0.0, \"#0d0887\"], [0.1111111111111111, \"#46039f\"], [0.2222222222222222, \"#7201a8\"], [0.3333333333333333, \"#9c179e\"], [0.4444444444444444, \"#bd3786\"], [0.5555555555555556, \"#d8576b\"], [0.6666666666666666, \"#ed7953\"], [0.7777777777777778, \"#fb9f3a\"], [0.8888888888888888, \"#fdca26\"], [1.0, \"#f0f921\"]], \"type\": \"surface\"}], \"table\": [{\"cells\": {\"fill\": {\"color\": \"#EBF0F8\"}, \"line\": {\"color\": \"white\"}}, \"header\": {\"fill\": {\"color\": \"#C8D4E3\"}, \"line\": {\"color\": \"white\"}}, \"type\": \"table\"}]}, \"layout\": {\"annotationdefaults\": {\"arrowcolor\": \"#2a3f5f\", \"arrowhead\": 0, \"arrowwidth\": 1}, \"coloraxis\": {\"colorbar\": {\"outlinewidth\": 0, \"ticks\": \"\"}}, \"colorscale\": {\"diverging\": [[0, \"#8e0152\"], [0.1, \"#c51b7d\"], [0.2, \"#de77ae\"], [0.3, \"#f1b6da\"], [0.4, \"#fde0ef\"], [0.5, \"#f7f7f7\"], [0.6, \"#e6f5d0\"], [0.7, \"#b8e186\"], [0.8, \"#7fbc41\"], [0.9, \"#4d9221\"], [1, \"#276419\"]], \"sequential\": [[0.0, \"#0d0887\"], [0.1111111111111111, \"#46039f\"], [0.2222222222222222, \"#7201a8\"], [0.3333333333333333, \"#9c179e\"], [0.4444444444444444, \"#bd3786\"], [0.5555555555555556, \"#d8576b\"], [0.6666666666666666, \"#ed7953\"], [0.7777777777777778, \"#fb9f3a\"], [0.8888888888888888, \"#fdca26\"], [1.0, \"#f0f921\"]], \"sequentialminus\": [[0.0, \"#0d0887\"], [0.1111111111111111, \"#46039f\"], [0.2222222222222222, \"#7201a8\"], [0.3333333333333333, \"#9c179e\"], [0.4444444444444444, \"#bd3786\"], [0.5555555555555556, \"#d8576b\"], [0.6666666666666666, \"#ed7953\"], [0.7777777777777778, \"#fb9f3a\"], [0.8888888888888888, \"#fdca26\"], [1.0, \"#f0f921\"]]}, \"colorway\": [\"#636efa\", \"#EF553B\", \"#00cc96\", \"#ab63fa\", \"#FFA15A\", \"#19d3f3\", \"#FF6692\", \"#B6E880\", \"#FF97FF\", \"#FECB52\"], \"font\": {\"color\": \"#2a3f5f\"}, \"geo\": {\"bgcolor\": \"white\", \"lakecolor\": \"white\", \"landcolor\": \"#E5ECF6\", \"showlakes\": true, \"showland\": true, \"subunitcolor\": \"white\"}, \"hoverlabel\": {\"align\": \"left\"}, \"hovermode\": \"closest\", \"mapbox\": {\"style\": \"light\"}, \"paper_bgcolor\": \"white\", \"plot_bgcolor\": \"#E5ECF6\", \"polar\": {\"angularaxis\": {\"gridcolor\": \"white\", \"linecolor\": \"white\", \"ticks\": \"\"}, \"bgcolor\": \"#E5ECF6\", \"radialaxis\": {\"gridcolor\": \"white\", \"linecolor\": \"white\", \"ticks\": \"\"}}, \"scene\": {\"xaxis\": {\"backgroundcolor\": \"#E5ECF6\", \"gridcolor\": \"white\", \"gridwidth\": 2, \"linecolor\": \"white\", \"showbackground\": true, \"ticks\": \"\", \"zerolinecolor\": \"white\"}, \"yaxis\": {\"backgroundcolor\": \"#E5ECF6\", \"gridcolor\": \"white\", \"gridwidth\": 2, \"linecolor\": \"white\", \"showbackground\": true, \"ticks\": \"\", \"zerolinecolor\": \"white\"}, \"zaxis\": {\"backgroundcolor\": \"#E5ECF6\", \"gridcolor\": \"white\", \"gridwidth\": 2, \"linecolor\": \"white\", \"showbackground\": true, \"ticks\": \"\", \"zerolinecolor\": \"white\"}}, \"shapedefaults\": {\"line\": {\"color\": \"#2a3f5f\"}}, \"ternary\": {\"aaxis\": {\"gridcolor\": \"white\", \"linecolor\": \"white\", \"ticks\": \"\"}, \"baxis\": {\"gridcolor\": \"white\", \"linecolor\": \"white\", \"ticks\": \"\"}, \"bgcolor\": \"#E5ECF6\", \"caxis\": {\"gridcolor\": \"white\", \"linecolor\": \"white\", \"ticks\": \"\"}}, \"title\": {\"x\": 0.05}, \"xaxis\": {\"automargin\": true, \"gridcolor\": \"white\", \"linecolor\": \"white\", \"ticks\": \"\", \"title\": {\"standoff\": 15}, \"zerolinecolor\": \"white\", \"zerolinewidth\": 2}, \"yaxis\": {\"automargin\": true, \"gridcolor\": \"white\", \"linecolor\": \"white\", \"ticks\": \"\", \"title\": {\"standoff\": 15}, \"zerolinecolor\": \"white\", \"zerolinewidth\": 2}}}, \"title\": {\"text\": \"t-SNE_factor1 vs t-SNE_factor2\"}, \"xaxis\": {\"title\": {\"text\": \"t-SNE_factor1\"}}, \"yaxis\": {\"title\": {\"text\": \"t-SNE_factor2\"}}},\n",
       "                        {\"responsive\": true}\n",
       "                    ).then(function(){\n",
       "                            \n",
       "var gd = document.getElementById('2dd0e404-7fac-4776-bbb5-b460ce4a7c18');\n",
       "var x = new MutationObserver(function (mutations, observer) {{\n",
       "        var display = window.getComputedStyle(gd).display;\n",
       "        if (!display || display === 'none') {{\n",
       "            console.log([gd, 'removed!']);\n",
       "            Plotly.purge(gd);\n",
       "            observer.disconnect();\n",
       "        }}\n",
       "}});\n",
       "\n",
       "// Listen for the removal of the full notebook cells\n",
       "var notebookContainer = gd.closest('#notebook-container');\n",
       "if (notebookContainer) {{\n",
       "    x.observe(notebookContainer, {childList: true});\n",
       "}}\n",
       "\n",
       "// Listen for the clearing of the current output cell\n",
       "var outputEl = gd.closest('.output');\n",
       "if (outputEl) {{\n",
       "    x.observe(outputEl, {childList: true});\n",
       "}}\n",
       "\n",
       "                        })\n",
       "                };\n",
       "                });\n",
       "            </script>\n",
       "        </div>"
      ]
     },
     "metadata": {},
     "output_type": "display_data"
    }
   ],
   "source": [
    "plot_words(glove_tsne_embds, 0, 100, 1)"
   ]
  }
 ],
 "metadata": {
  "kernelspec": {
   "display_name": "Python 3",
   "language": "python",
   "name": "python3"
  },
  "language_info": {
   "codemirror_mode": {
    "name": "ipython",
    "version": 3
   },
   "file_extension": ".py",
   "mimetype": "text/x-python",
   "name": "python",
   "nbconvert_exporter": "python",
   "pygments_lexer": "ipython3",
   "version": "3.7.3"
  }
 },
 "nbformat": 4,
 "nbformat_minor": 5
}
