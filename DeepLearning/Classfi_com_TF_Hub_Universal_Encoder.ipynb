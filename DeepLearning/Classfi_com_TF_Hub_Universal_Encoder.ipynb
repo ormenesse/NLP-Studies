{
  "nbformat": 4,
  "nbformat_minor": 0,
  "metadata": {
    "colab": {
      "name": "Classfi. com TF-Hub Universal Encoder.ipynb",
      "provenance": []
    },
    "kernelspec": {
      "name": "python3",
      "display_name": "Python 3"
    },
    "language_info": {
      "name": "python"
    },
    "accelerator": "GPU"
  },
  "cells": [
    {
      "cell_type": "code",
      "metadata": {
        "id": "yfLXUSUxxmt0"
      },
      "source": [
        "import tensorflow as tf\n",
        "import tensorflow_hub as hub\n",
        "import matplotlib.pyplot as plt\n",
        "import numpy as np\n",
        "import os\n",
        "import pandas as pd\n",
        "import re\n",
        "import seaborn as sns\n",
        "import re\n",
        "from bs4 import BeautifulSoup\n",
        "import unicodedata"
      ],
      "execution_count": null,
      "outputs": []
    },
    {
      "cell_type": "code",
      "metadata": {
        "colab": {
          "base_uri": "https://localhost:8080/"
        },
        "id": "1qavGc_b3MRU",
        "outputId": "8b536b7a-2a2a-495d-bea8-59f2fb845219"
      },
      "source": [
        "!pip install contractions"
      ],
      "execution_count": null,
      "outputs": [
        {
          "output_type": "stream",
          "text": [
            "Requirement already satisfied: contractions in /usr/local/lib/python3.7/dist-packages (0.0.52)\n",
            "Requirement already satisfied: textsearch>=0.0.21 in /usr/local/lib/python3.7/dist-packages (from contractions) (0.0.21)\n",
            "Requirement already satisfied: pyahocorasick in /usr/local/lib/python3.7/dist-packages (from textsearch>=0.0.21->contractions) (1.4.2)\n",
            "Requirement already satisfied: anyascii in /usr/local/lib/python3.7/dist-packages (from textsearch>=0.0.21->contractions) (0.2.0)\n"
          ],
          "name": "stdout"
        }
      ]
    },
    {
      "cell_type": "code",
      "metadata": {
        "id": "6hB7_t3S3OVN"
      },
      "source": [
        "import contractions"
      ],
      "execution_count": null,
      "outputs": []
    },
    {
      "cell_type": "code",
      "metadata": {
        "colab": {
          "base_uri": "https://localhost:8080/"
        },
        "id": "b6G-9cEozYD9",
        "outputId": "3d604297-29bf-4ac4-af71-5beddcda6d5e"
      },
      "source": [
        "from google.colab import drive\n",
        "drive.mount('/content/drive')"
      ],
      "execution_count": null,
      "outputs": [
        {
          "output_type": "stream",
          "text": [
            "Drive already mounted at /content/drive; to attempt to forcibly remount, call drive.mount(\"/content/drive\", force_remount=True).\n"
          ],
          "name": "stdout"
        }
      ]
    },
    {
      "cell_type": "code",
      "metadata": {
        "colab": {
          "base_uri": "https://localhost:8080/"
        },
        "id": "9hLN3tNu0Pg0",
        "outputId": "b690fc69-b8a4-4ef5-e1af-c6db6625549b"
      },
      "source": [
        "df = pd.read_csv('/content/drive/My Drive/Colab Notebooks/movie_reviews.csv.bz2', compression='bz2')\n",
        "df.info()"
      ],
      "execution_count": null,
      "outputs": [
        {
          "output_type": "stream",
          "text": [
            "<class 'pandas.core.frame.DataFrame'>\n",
            "RangeIndex: 50000 entries, 0 to 49999\n",
            "Data columns (total 2 columns):\n",
            " #   Column     Non-Null Count  Dtype \n",
            "---  ------     --------------  ----- \n",
            " 0   review     50000 non-null  object\n",
            " 1   sentiment  50000 non-null  object\n",
            "dtypes: object(2)\n",
            "memory usage: 781.4+ KB\n"
          ],
          "name": "stdout"
        }
      ]
    },
    {
      "cell_type": "code",
      "metadata": {
        "colab": {
          "base_uri": "https://localhost:8080/",
          "height": 204
        },
        "id": "QMU62Npi0phY",
        "outputId": "32771c06-3874-4e9c-e6d4-c88ffdebcad4"
      },
      "source": [
        "df.head()"
      ],
      "execution_count": null,
      "outputs": [
        {
          "output_type": "execute_result",
          "data": {
            "text/html": [
              "<div>\n",
              "<style scoped>\n",
              "    .dataframe tbody tr th:only-of-type {\n",
              "        vertical-align: middle;\n",
              "    }\n",
              "\n",
              "    .dataframe tbody tr th {\n",
              "        vertical-align: top;\n",
              "    }\n",
              "\n",
              "    .dataframe thead th {\n",
              "        text-align: right;\n",
              "    }\n",
              "</style>\n",
              "<table border=\"1\" class=\"dataframe\">\n",
              "  <thead>\n",
              "    <tr style=\"text-align: right;\">\n",
              "      <th></th>\n",
              "      <th>review</th>\n",
              "      <th>sentiment</th>\n",
              "    </tr>\n",
              "  </thead>\n",
              "  <tbody>\n",
              "    <tr>\n",
              "      <th>0</th>\n",
              "      <td>One of the other reviewers has mentioned that ...</td>\n",
              "      <td>positive</td>\n",
              "    </tr>\n",
              "    <tr>\n",
              "      <th>1</th>\n",
              "      <td>A wonderful little production. &lt;br /&gt;&lt;br /&gt;The...</td>\n",
              "      <td>positive</td>\n",
              "    </tr>\n",
              "    <tr>\n",
              "      <th>2</th>\n",
              "      <td>I thought this was a wonderful way to spend ti...</td>\n",
              "      <td>positive</td>\n",
              "    </tr>\n",
              "    <tr>\n",
              "      <th>3</th>\n",
              "      <td>Basically there's a family where a little boy ...</td>\n",
              "      <td>negative</td>\n",
              "    </tr>\n",
              "    <tr>\n",
              "      <th>4</th>\n",
              "      <td>Petter Mattei's \"Love in the Time of Money\" is...</td>\n",
              "      <td>positive</td>\n",
              "    </tr>\n",
              "  </tbody>\n",
              "</table>\n",
              "</div>"
            ],
            "text/plain": [
              "                                              review sentiment\n",
              "0  One of the other reviewers has mentioned that ...  positive\n",
              "1  A wonderful little production. <br /><br />The...  positive\n",
              "2  I thought this was a wonderful way to spend ti...  positive\n",
              "3  Basically there's a family where a little boy ...  negative\n",
              "4  Petter Mattei's \"Love in the Time of Money\" is...  positive"
            ]
          },
          "metadata": {},
          "execution_count": 6
        }
      ]
    },
    {
      "cell_type": "code",
      "metadata": {
        "colab": {
          "base_uri": "https://localhost:8080/",
          "height": 204
        },
        "id": "YF0d6p7Y0sJM",
        "outputId": "0c36567a-bd0c-4bec-f7a1-4cda4d9ca2d7"
      },
      "source": [
        "df['sentiment'] = [1 if sentiment == 'positive' else 0 for sentiment in df['sentiment'].values]\n",
        "df.head()"
      ],
      "execution_count": null,
      "outputs": [
        {
          "output_type": "execute_result",
          "data": {
            "text/html": [
              "<div>\n",
              "<style scoped>\n",
              "    .dataframe tbody tr th:only-of-type {\n",
              "        vertical-align: middle;\n",
              "    }\n",
              "\n",
              "    .dataframe tbody tr th {\n",
              "        vertical-align: top;\n",
              "    }\n",
              "\n",
              "    .dataframe thead th {\n",
              "        text-align: right;\n",
              "    }\n",
              "</style>\n",
              "<table border=\"1\" class=\"dataframe\">\n",
              "  <thead>\n",
              "    <tr style=\"text-align: right;\">\n",
              "      <th></th>\n",
              "      <th>review</th>\n",
              "      <th>sentiment</th>\n",
              "    </tr>\n",
              "  </thead>\n",
              "  <tbody>\n",
              "    <tr>\n",
              "      <th>0</th>\n",
              "      <td>One of the other reviewers has mentioned that ...</td>\n",
              "      <td>1</td>\n",
              "    </tr>\n",
              "    <tr>\n",
              "      <th>1</th>\n",
              "      <td>A wonderful little production. &lt;br /&gt;&lt;br /&gt;The...</td>\n",
              "      <td>1</td>\n",
              "    </tr>\n",
              "    <tr>\n",
              "      <th>2</th>\n",
              "      <td>I thought this was a wonderful way to spend ti...</td>\n",
              "      <td>1</td>\n",
              "    </tr>\n",
              "    <tr>\n",
              "      <th>3</th>\n",
              "      <td>Basically there's a family where a little boy ...</td>\n",
              "      <td>0</td>\n",
              "    </tr>\n",
              "    <tr>\n",
              "      <th>4</th>\n",
              "      <td>Petter Mattei's \"Love in the Time of Money\" is...</td>\n",
              "      <td>1</td>\n",
              "    </tr>\n",
              "  </tbody>\n",
              "</table>\n",
              "</div>"
            ],
            "text/plain": [
              "                                              review  sentiment\n",
              "0  One of the other reviewers has mentioned that ...          1\n",
              "1  A wonderful little production. <br /><br />The...          1\n",
              "2  I thought this was a wonderful way to spend ti...          1\n",
              "3  Basically there's a family where a little boy ...          0\n",
              "4  Petter Mattei's \"Love in the Time of Money\" is...          1"
            ]
          },
          "metadata": {},
          "execution_count": 7
        }
      ]
    },
    {
      "cell_type": "code",
      "metadata": {
        "colab": {
          "base_uri": "https://localhost:8080/",
          "height": 204
        },
        "id": "VDX4XfOOCZ4r",
        "outputId": "091c56d1-9ca5-4fcb-9993-035ad5441e38"
      },
      "source": [
        "df['n_sentiment'] = [0 if sentiment == 1 else 1 for sentiment in df['sentiment'].values]\n",
        "df.head()"
      ],
      "execution_count": null,
      "outputs": [
        {
          "output_type": "execute_result",
          "data": {
            "text/html": [
              "<div>\n",
              "<style scoped>\n",
              "    .dataframe tbody tr th:only-of-type {\n",
              "        vertical-align: middle;\n",
              "    }\n",
              "\n",
              "    .dataframe tbody tr th {\n",
              "        vertical-align: top;\n",
              "    }\n",
              "\n",
              "    .dataframe thead th {\n",
              "        text-align: right;\n",
              "    }\n",
              "</style>\n",
              "<table border=\"1\" class=\"dataframe\">\n",
              "  <thead>\n",
              "    <tr style=\"text-align: right;\">\n",
              "      <th></th>\n",
              "      <th>review</th>\n",
              "      <th>sentiment</th>\n",
              "      <th>n_sentiment</th>\n",
              "    </tr>\n",
              "  </thead>\n",
              "  <tbody>\n",
              "    <tr>\n",
              "      <th>0</th>\n",
              "      <td>One of the other reviewers has mentioned that ...</td>\n",
              "      <td>1</td>\n",
              "      <td>0</td>\n",
              "    </tr>\n",
              "    <tr>\n",
              "      <th>1</th>\n",
              "      <td>A wonderful little production. &lt;br /&gt;&lt;br /&gt;The...</td>\n",
              "      <td>1</td>\n",
              "      <td>0</td>\n",
              "    </tr>\n",
              "    <tr>\n",
              "      <th>2</th>\n",
              "      <td>I thought this was a wonderful way to spend ti...</td>\n",
              "      <td>1</td>\n",
              "      <td>0</td>\n",
              "    </tr>\n",
              "    <tr>\n",
              "      <th>3</th>\n",
              "      <td>Basically there's a family where a little boy ...</td>\n",
              "      <td>0</td>\n",
              "      <td>1</td>\n",
              "    </tr>\n",
              "    <tr>\n",
              "      <th>4</th>\n",
              "      <td>Petter Mattei's \"Love in the Time of Money\" is...</td>\n",
              "      <td>1</td>\n",
              "      <td>0</td>\n",
              "    </tr>\n",
              "  </tbody>\n",
              "</table>\n",
              "</div>"
            ],
            "text/plain": [
              "                                              review  sentiment  n_sentiment\n",
              "0  One of the other reviewers has mentioned that ...          1            0\n",
              "1  A wonderful little production. <br /><br />The...          1            0\n",
              "2  I thought this was a wonderful way to spend ti...          1            0\n",
              "3  Basically there's a family where a little boy ...          0            1\n",
              "4  Petter Mattei's \"Love in the Time of Money\" is...          1            0"
            ]
          },
          "metadata": {},
          "execution_count": 8
        }
      ]
    },
    {
      "cell_type": "markdown",
      "metadata": {
        "id": "siG476EO0wpv"
      },
      "source": [
        "# Creating Datasets for Training, Testing and Validation:"
      ]
    },
    {
      "cell_type": "code",
      "metadata": {
        "colab": {
          "base_uri": "https://localhost:8080/"
        },
        "id": "pQl28tke0zgs",
        "outputId": "c517e362-c2a6-4af9-a782-138f624e6394"
      },
      "source": [
        "reviews = df['review'].values\n",
        "labels = df[['sentiment','n_sentiment']].values\n",
        "\n",
        "train_reviews = reviews[:30000]\n",
        "train_labels = labels[:30000]\n",
        "\n",
        "test_reviews = reviews[30000:40000]\n",
        "test_labels = labels[30000:40000]\n",
        "\n",
        "val_reviews = reviews[45000:]\n",
        "val_labels = labels[45000:]\n",
        "\n",
        "train_reviews.shape, test_reviews.shape, val_reviews.shape,"
      ],
      "execution_count": null,
      "outputs": [
        {
          "output_type": "execute_result",
          "data": {
            "text/plain": [
              "((30000,), (10000,), (5000,))"
            ]
          },
          "metadata": {},
          "execution_count": 9
        }
      ]
    },
    {
      "cell_type": "markdown",
      "metadata": {
        "id": "QULRFKkU1ma1"
      },
      "source": [
        "# Functions"
      ]
    },
    {
      "cell_type": "code",
      "metadata": {
        "id": "p4PyDNeQ1dss"
      },
      "source": [
        "def strip_html_tags(text):\n",
        "    soup = BeautifulSoup(text, \"html.parser\")\n",
        "    [s.extract() for s in soup(['iframe', 'script'])]\n",
        "    text_ = soup.get_text()\n",
        "    text_ = re.sub(r'[\\r|\\n|\\r\\n]+', '\\n', text_)\n",
        "    return text_\n",
        "\n",
        "def remove_accented_chars(text):\n",
        "    text = unicodedata.normalize('NFKD', text).encode('ascii', 'ignore').decode('utf-8', 'ignore')\n",
        "    return text\n",
        "\n",
        "def expand_contractions(text):\n",
        "    return contractions.fix(text)\n",
        "\n",
        "def remove_special_characters(text, remove_digits=False):\n",
        "    pattern = r'[^a-zA-Z0-9\\s]' if not remove_digits else r'[^a-zA-Z\\s]'\n",
        "    text = re.sub(pattern, '', text)\n",
        "    return text\n",
        "\n",
        "def clean_doc(document):\n",
        "    \n",
        "    # strip HTML\n",
        "    doc = strip_html_tags(document)\n",
        "    \n",
        "    # lower case\n",
        "    doc = doc.lower()\n",
        "    \n",
        "    # remove extra newlines (often might be present in really noisy text)\n",
        "    doc = doc.translate(document.maketrans(\"\\n\\t\\r\", \"   \"))\n",
        "    \n",
        "    # remove accented characters\n",
        "    doc = remove_accented_chars(doc)\n",
        "    \n",
        "    # expand contractions    \n",
        "    doc = expand_contractions(doc)\n",
        "               \n",
        "    # remove special characters and\\or digits    \n",
        "    # insert spaces between special characters to isolate them    \n",
        "    special_char_pattern = re.compile(r'([{.(-)!}])')\n",
        "    doc = special_char_pattern.sub(\" \\\\1 \", doc)\n",
        "    doc = remove_special_characters(doc, remove_digits=True)  \n",
        "        \n",
        "    # remove extra whitespace\n",
        "    doc = re.sub(' +', ' ', doc)\n",
        "    doc = doc.strip()\n",
        "    \n",
        "    return doc"
      ],
      "execution_count": null,
      "outputs": []
    },
    {
      "cell_type": "code",
      "metadata": {
        "id": "d8UQS05b2xtW"
      },
      "source": [
        "clean_corpus = np.vectorize(clean_doc)"
      ],
      "execution_count": null,
      "outputs": []
    },
    {
      "cell_type": "markdown",
      "metadata": {
        "id": "-Rn9lGxm23MT"
      },
      "source": [
        "# Pre Processing"
      ]
    },
    {
      "cell_type": "code",
      "metadata": {
        "id": "dFEgtc1M25YX"
      },
      "source": [
        "train_reviews = clean_corpus(train_reviews)\n",
        "val_reviews = clean_corpus(val_reviews)\n",
        "test_reviews = clean_corpus(test_reviews)"
      ],
      "execution_count": null,
      "outputs": []
    },
    {
      "cell_type": "code",
      "metadata": {
        "colab": {
          "base_uri": "https://localhost:8080/",
          "height": 86
        },
        "id": "zXvbmKnW3zIc",
        "outputId": "5cff4d28-068f-4370-c72a-fea0bb96d2b6"
      },
      "source": [
        "train_reviews[0]"
      ],
      "execution_count": null,
      "outputs": [
        {
          "output_type": "execute_result",
          "data": {
            "application/vnd.google.colaboratory.intrinsic+json": {
              "type": "string"
            },
            "text/plain": [
              "'one of the other reviewers has mentioned that after watching just oz episode you will be hooked they are right as this is exactly what happened with me the first thing that struck me about oz was its brutality and unflinching scenes of violence which set in right from the word go trust me this is not a show for the faint hearted or timid this show pulls no punches with regards to drugs sex or violence its is hardcore in the classic use of the word it is called oz as that is the nickname given to the oswald maximum security state penitentary it focuses mainly on emerald city an experimental section of the prison where all the cells have glass fronts and face inwards so privacy is not high on the agenda them city is home to many aryans muslims gangstas latinos christians italians irish and more so scuffles death stares dodgy dealings and shady agreements are never far away i would say the main appeal of the show is due to the fact that it goes where other shows would not dare forget pretty pictures painted for mainstream audiences forget charm forget romance oz does not mess around the first episode i ever saw struck me as so nasty it was surreal i could not say i was ready for it but as i watched more i developed a taste for oz and got accustomed to the high levels of graphic violence not just violence but injustice crooked guards who will be sold out for a nickel inmates who will kill on order and get away with it well mannered middle class inmates being turned into prison bitches due to their lack of street skills or prison experience watching oz you may become comfortable with what is uncomfortable viewing that is if you can get in touch with your darker side'"
            ]
          },
          "metadata": {},
          "execution_count": 13
        }
      ]
    },
    {
      "cell_type": "markdown",
      "metadata": {
        "id": "xQnwPmu033Ks"
      },
      "source": [
        "# Preparing Training"
      ]
    },
    {
      "cell_type": "code",
      "metadata": {
        "colab": {
          "base_uri": "https://localhost:8080/"
        },
        "id": "9hsMb7cNx0Ip",
        "outputId": "55e143f1-6cbe-4d95-ca89-d612ae19b5ab"
      },
      "source": [
        "module_url = \"https://tfhub.dev/google/universal-sentence-encoder-large/5\" #@param [\"https://tfhub.dev/google/universal-sentence-encoder/4\", \"https://tfhub.dev/google/universal-sentence-encoder-large/5\"]\n",
        "modelHub = hub.load(module_url)\n",
        "print (\"module %s loaded\" % module_url)\n",
        "def embed(input):\n",
        "  return modelHub(input)"
      ],
      "execution_count": null,
      "outputs": [
        {
          "output_type": "stream",
          "text": [
            "module https://tfhub.dev/google/universal-sentence-encoder-large/5 loaded\n"
          ],
          "name": "stdout"
        }
      ]
    },
    {
      "cell_type": "code",
      "metadata": {
        "id": "dPpGIFP64RQ7"
      },
      "source": [
        "def embed_batch(input,batch_size=128):\n",
        "  return_array = []\n",
        "  chunks = (len(input) - 1) // batch_size + 1\n",
        "  for i in range(chunks):\n",
        "      batch = modelHub(input[i*batch_size:(i+1)*batch_size])\n",
        "      if len(return_array) == 0:\n",
        "        return_array = np.array(batch)\n",
        "      else:\n",
        "        return_array = np.concatenate((return_array, np.array(batch)[:,:]), axis=0)\n",
        "  return return_array"
      ],
      "execution_count": null,
      "outputs": []
    },
    {
      "cell_type": "code",
      "metadata": {
        "colab": {
          "base_uri": "https://localhost:8080/"
        },
        "id": "RIgHR4EY61_P",
        "outputId": "8d0cc518-0979-4413-838f-d1d277dffd56"
      },
      "source": [
        "train_input = embed_batch(train_reviews,64)\n",
        "print('Foi o primeiro')\n",
        "val_input = embed_batch(val_reviews,64)\n",
        "print('Foi o segundo')"
      ],
      "execution_count": null,
      "outputs": [
        {
          "output_type": "stream",
          "text": [
            "Foi o primeiro\n",
            "Foi o segundo\n"
          ],
          "name": "stdout"
        }
      ]
    },
    {
      "cell_type": "code",
      "metadata": {
        "id": "C01hH_R7-5Cz"
      },
      "source": [
        "from tensorflow.python.keras.layers import Embedding, Reshape, Activation, Input, Lambda, Dense, Attention, GRU, LSTM, CuDNNLSTM, CuDNNGRU, Dropout, TimeDistributed, RepeatVector\n",
        "from tensorflow.python.keras.models import Sequential, Model\n",
        "from tensorflow.python.keras.callbacks import EarlyStopping, ModelCheckpoint"
      ],
      "execution_count": null,
      "outputs": []
    },
    {
      "cell_type": "code",
      "metadata": {
        "id": "kDw25DyX5h96"
      },
      "source": [
        "model = Sequential()\n",
        "model.add(Dense(512,input_shape=(None, train_input.shape[1]), activation='relu'))\n",
        "model.add(Dense(256,activation='relu'))\n",
        "model.add(Dense(128,activation='relu'))\n",
        "model.add(Dense(2,activation='sigmoid',name='classification'))"
      ],
      "execution_count": null,
      "outputs": []
    },
    {
      "cell_type": "code",
      "metadata": {
        "colab": {
          "base_uri": "https://localhost:8080/"
        },
        "id": "WGuQkvXG5i5h",
        "outputId": "1ed39ed5-7932-4f7b-85ea-b953201baa74"
      },
      "source": [
        "model.summary()"
      ],
      "execution_count": null,
      "outputs": [
        {
          "output_type": "stream",
          "text": [
            "Model: \"sequential_1\"\n",
            "_________________________________________________________________\n",
            "Layer (type)                 Output Shape              Param #   \n",
            "=================================================================\n",
            "dense_3 (Dense)              (None, None, 512)         262656    \n",
            "_________________________________________________________________\n",
            "dense_4 (Dense)              (None, None, 256)         131328    \n",
            "_________________________________________________________________\n",
            "dense_5 (Dense)              (None, None, 128)         32896     \n",
            "_________________________________________________________________\n",
            "classification (Dense)       (None, None, 2)           258       \n",
            "=================================================================\n",
            "Total params: 427,138\n",
            "Trainable params: 427,138\n",
            "Non-trainable params: 0\n",
            "_________________________________________________________________\n"
          ],
          "name": "stdout"
        }
      ]
    },
    {
      "cell_type": "code",
      "metadata": {
        "id": "RjIRLEM36nX8"
      },
      "source": [
        "model.compile(optimizer='rmsprop',loss='binary_crossentropy', metrics=[tf.keras.metrics.AUC(),'accuracy'])\n",
        "callback_early_stopping = EarlyStopping(monitor='val_loss',patience=20,verbose=1)"
      ],
      "execution_count": null,
      "outputs": []
    },
    {
      "cell_type": "code",
      "metadata": {
        "id": "ZvG0d98MRm-k"
      },
      "source": [
        "n_epochs = 500"
      ],
      "execution_count": null,
      "outputs": []
    },
    {
      "cell_type": "code",
      "metadata": {
        "colab": {
          "base_uri": "https://localhost:8080/"
        },
        "id": "pxH0B1LH6p-F",
        "outputId": "4ab2faf6-7dbe-4973-f5a8-e3b1e271f8c2"
      },
      "source": [
        "model.fit(\n",
        "    train_input, train_labels,\n",
        "    epochs=n_epochs,\n",
        "    batch_size=128,\n",
        "    validation_data=(val_input, val_labels),\n",
        "    callbacks=[callback_early_stopping]\n",
        ")"
      ],
      "execution_count": null,
      "outputs": [
        {
          "output_type": "stream",
          "text": [
            "Epoch 1/500\n",
            "WARNING:tensorflow:Model was constructed with shape (None, None, 512) for input KerasTensor(type_spec=TensorSpec(shape=(None, None, 512), dtype=tf.float32, name='dense_3_input'), name='dense_3_input', description=\"created by layer 'dense_3_input'\"), but it was called on an input with incompatible shape (None, 512).\n"
          ],
          "name": "stdout"
        },
        {
          "output_type": "stream",
          "text": [
            "WARNING:tensorflow:Model was constructed with shape (None, None, 512) for input KerasTensor(type_spec=TensorSpec(shape=(None, None, 512), dtype=tf.float32, name='dense_3_input'), name='dense_3_input', description=\"created by layer 'dense_3_input'\"), but it was called on an input with incompatible shape (None, 512).\n"
          ],
          "name": "stderr"
        },
        {
          "output_type": "stream",
          "text": [
            "WARNING:tensorflow:Model was constructed with shape (None, None, 512) for input KerasTensor(type_spec=TensorSpec(shape=(None, None, 512), dtype=tf.float32, name='dense_3_input'), name='dense_3_input', description=\"created by layer 'dense_3_input'\"), but it was called on an input with incompatible shape (None, 512).\n"
          ],
          "name": "stdout"
        },
        {
          "output_type": "stream",
          "text": [
            "WARNING:tensorflow:Model was constructed with shape (None, None, 512) for input KerasTensor(type_spec=TensorSpec(shape=(None, None, 512), dtype=tf.float32, name='dense_3_input'), name='dense_3_input', description=\"created by layer 'dense_3_input'\"), but it was called on an input with incompatible shape (None, 512).\n"
          ],
          "name": "stderr"
        },
        {
          "output_type": "stream",
          "text": [
            "230/235 [============================>.] - ETA: 0s - loss: 0.3662 - auc_2: 0.8788 - accuracy: 0.8334WARNING:tensorflow:Model was constructed with shape (None, None, 512) for input KerasTensor(type_spec=TensorSpec(shape=(None, None, 512), dtype=tf.float32, name='dense_3_input'), name='dense_3_input', description=\"created by layer 'dense_3_input'\"), but it was called on an input with incompatible shape (None, 512).\n"
          ],
          "name": "stdout"
        },
        {
          "output_type": "stream",
          "text": [
            "WARNING:tensorflow:Model was constructed with shape (None, None, 512) for input KerasTensor(type_spec=TensorSpec(shape=(None, None, 512), dtype=tf.float32, name='dense_3_input'), name='dense_3_input', description=\"created by layer 'dense_3_input'\"), but it was called on an input with incompatible shape (None, 512).\n"
          ],
          "name": "stderr"
        },
        {
          "output_type": "stream",
          "text": [
            "235/235 [==============================] - 3s 8ms/step - loss: 0.3656 - auc_2: 0.8797 - accuracy: 0.8340 - val_loss: 0.3784 - val_auc_2: 0.9169 - val_accuracy: 0.8376\n",
            "Epoch 2/500\n",
            "235/235 [==============================] - 1s 6ms/step - loss: 0.3040 - auc_2: 0.9242 - accuracy: 0.8697 - val_loss: 0.2990 - val_auc_2: 0.9303 - val_accuracy: 0.8686\n",
            "Epoch 3/500\n",
            "235/235 [==============================] - 1s 6ms/step - loss: 0.2735 - auc_2: 0.9353 - accuracy: 0.8863 - val_loss: 0.2977 - val_auc_2: 0.9388 - val_accuracy: 0.8744\n",
            "Epoch 4/500\n",
            "235/235 [==============================] - 1s 6ms/step - loss: 0.2327 - auc_2: 0.9427 - accuracy: 0.9056 - val_loss: 0.3195 - val_auc_2: 0.9459 - val_accuracy: 0.8678\n",
            "Epoch 5/500\n",
            "235/235 [==============================] - 1s 6ms/step - loss: 0.1949 - auc_2: 0.9492 - accuracy: 0.9205 - val_loss: 0.3563 - val_auc_2: 0.9519 - val_accuracy: 0.8558\n",
            "Epoch 6/500\n",
            "235/235 [==============================] - 2s 6ms/step - loss: 0.1595 - auc_2: 0.9548 - accuracy: 0.9362 - val_loss: 0.3726 - val_auc_2: 0.9572 - val_accuracy: 0.8678\n",
            "Epoch 7/500\n",
            "235/235 [==============================] - 1s 6ms/step - loss: 0.1272 - auc_2: 0.9597 - accuracy: 0.9503 - val_loss: 0.4869 - val_auc_2: 0.9615 - val_accuracy: 0.8566\n",
            "Epoch 8/500\n",
            "235/235 [==============================] - 1s 6ms/step - loss: 0.1046 - auc_2: 0.9635 - accuracy: 0.9594 - val_loss: 0.5154 - val_auc_2: 0.9651 - val_accuracy: 0.8602\n",
            "Epoch 9/500\n",
            "235/235 [==============================] - 1s 6ms/step - loss: 0.0892 - auc_2: 0.9667 - accuracy: 0.9646 - val_loss: 0.5016 - val_auc_2: 0.9682 - val_accuracy: 0.8666\n",
            "Epoch 10/500\n",
            "235/235 [==============================] - 1s 6ms/step - loss: 0.0713 - auc_2: 0.9696 - accuracy: 0.9721 - val_loss: 0.7227 - val_auc_2: 0.9707 - val_accuracy: 0.8574\n",
            "Epoch 11/500\n",
            "235/235 [==============================] - 1s 6ms/step - loss: 0.0656 - auc_2: 0.9717 - accuracy: 0.9746 - val_loss: 0.6019 - val_auc_2: 0.9727 - val_accuracy: 0.8642\n",
            "Epoch 12/500\n",
            "235/235 [==============================] - 1s 6ms/step - loss: 0.0554 - auc_2: 0.9736 - accuracy: 0.9787 - val_loss: 0.6749 - val_auc_2: 0.9744 - val_accuracy: 0.8638\n",
            "Epoch 13/500\n",
            "235/235 [==============================] - 1s 6ms/step - loss: 0.0525 - auc_2: 0.9752 - accuracy: 0.9802 - val_loss: 0.6824 - val_auc_2: 0.9759 - val_accuracy: 0.8628\n",
            "Epoch 14/500\n",
            "235/235 [==============================] - 1s 6ms/step - loss: 0.0420 - auc_2: 0.9766 - accuracy: 0.9840 - val_loss: 0.7539 - val_auc_2: 0.9772 - val_accuracy: 0.8680\n",
            "Epoch 15/500\n",
            "235/235 [==============================] - 1s 6ms/step - loss: 0.0444 - auc_2: 0.9777 - accuracy: 0.9844 - val_loss: 0.7132 - val_auc_2: 0.9782 - val_accuracy: 0.8468\n",
            "Epoch 16/500\n",
            "235/235 [==============================] - 1s 6ms/step - loss: 0.0360 - auc_2: 0.9787 - accuracy: 0.9875 - val_loss: 0.8265 - val_auc_2: 0.9791 - val_accuracy: 0.8672\n",
            "Epoch 17/500\n",
            "235/235 [==============================] - 1s 6ms/step - loss: 0.0337 - auc_2: 0.9795 - accuracy: 0.9873 - val_loss: 0.8321 - val_auc_2: 0.9799 - val_accuracy: 0.8594\n",
            "Epoch 18/500\n",
            "235/235 [==============================] - 1s 6ms/step - loss: 0.0317 - auc_2: 0.9803 - accuracy: 0.9884 - val_loss: 0.8962 - val_auc_2: 0.9806 - val_accuracy: 0.8586\n",
            "Epoch 19/500\n",
            "235/235 [==============================] - 1s 6ms/step - loss: 0.0282 - auc_2: 0.9809 - accuracy: 0.9897 - val_loss: 0.8517 - val_auc_2: 0.9811 - val_accuracy: 0.8544\n",
            "Epoch 20/500\n",
            "235/235 [==============================] - 2s 6ms/step - loss: 0.0265 - auc_2: 0.9814 - accuracy: 0.9908 - val_loss: 0.8619 - val_auc_2: 0.9817 - val_accuracy: 0.8608\n",
            "Epoch 21/500\n",
            "235/235 [==============================] - 1s 6ms/step - loss: 0.0258 - auc_2: 0.9819 - accuracy: 0.9912 - val_loss: 0.8649 - val_auc_2: 0.9822 - val_accuracy: 0.8640\n",
            "Epoch 22/500\n",
            "235/235 [==============================] - 1s 6ms/step - loss: 0.0237 - auc_2: 0.9824 - accuracy: 0.9913 - val_loss: 0.9296 - val_auc_2: 0.9826 - val_accuracy: 0.8578\n",
            "Epoch 23/500\n",
            "235/235 [==============================] - 1s 6ms/step - loss: 0.0219 - auc_2: 0.9828 - accuracy: 0.9915 - val_loss: 1.1457 - val_auc_2: 0.9829 - val_accuracy: 0.8508\n",
            "Epoch 00023: early stopping\n"
          ],
          "name": "stdout"
        },
        {
          "output_type": "execute_result",
          "data": {
            "text/plain": [
              "<tensorflow.python.keras.callbacks.History at 0x7f3a9f45a9d0>"
            ]
          },
          "metadata": {},
          "execution_count": 36
        }
      ]
    },
    {
      "cell_type": "code",
      "metadata": {
        "colab": {
          "base_uri": "https://localhost:8080/"
        },
        "id": "FzyJi330D28c",
        "outputId": "7bad118f-fb4a-41ba-9f8f-d196f83ad988"
      },
      "source": [
        "print('Importando test_input...')\n",
        "test_input = embed_batch(test_reviews,32)"
      ],
      "execution_count": null,
      "outputs": [
        {
          "output_type": "stream",
          "text": [
            "Importando test_input...\n"
          ],
          "name": "stdout"
        }
      ]
    },
    {
      "cell_type": "code",
      "metadata": {
        "id": "i3DTsaByVgrV",
        "colab": {
          "base_uri": "https://localhost:8080/"
        },
        "outputId": "689558b7-cbea-4be9-c504-c6e716a7edff"
      },
      "source": [
        "model.evaluate(test_input,test_labels)"
      ],
      "execution_count": null,
      "outputs": [
        {
          "output_type": "stream",
          "text": [
            "313/313 [==============================] - 1s 3ms/step - loss: 1.1811 - auc_2: 0.9818 - accuracy: 0.8454\n"
          ],
          "name": "stdout"
        },
        {
          "output_type": "execute_result",
          "data": {
            "text/plain": [
              "[1.1811271905899048, 0.9818480610847473, 0.8453999757766724]"
            ]
          },
          "metadata": {},
          "execution_count": 39
        }
      ]
    },
    {
      "cell_type": "code",
      "metadata": {
        "id": "6oToUIAlWz7w"
      },
      "source": [
        ""
      ],
      "execution_count": null,
      "outputs": []
    }
  ]
}