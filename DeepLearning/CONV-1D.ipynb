{
 "cells": [
  {
   "cell_type": "markdown",
   "metadata": {},
   "source": [
    "# Sentiment Analysis LSTM and GRU"
   ]
  },
  {
   "cell_type": "code",
   "execution_count": 1,
   "metadata": {},
   "outputs": [],
   "source": [
    "import tensorflow as tf"
   ]
  },
  {
   "cell_type": "code",
   "execution_count": 2,
   "metadata": {},
   "outputs": [
    {
     "name": "stdout",
     "output_type": "stream",
     "text": [
      "Num GPUs Available:  0\n"
     ]
    }
   ],
   "source": [
    "print(\"Num GPUs Available: \", len(tf.config.list_physical_devices('GPU')))"
   ]
  },
  {
   "cell_type": "code",
   "execution_count": 5,
   "metadata": {},
   "outputs": [],
   "source": [
    "import numpy as np\n",
    "from tensorflow.python.keras.models import Sequential, Model\n",
    "from tensorflow.python.keras.layers import Embedding, Reshape, Activation, Input, Lambda, Dense, GRU, LSTM, CuDNNLSTM, CuDNNGRU, Dropout, Conv1D, MaxPooling1D, Flatten, concatenate\n",
    "from tensorflow.python.keras.layers.merge import Dot\n",
    "from tensorflow.python.keras.utils import np_utils\n",
    "from tensorflow.python.keras.utils.data_utils import get_file\n",
    "from tensorflow.python.keras.preprocessing.text import Tokenizer\n",
    "from tensorflow.python.keras.preprocessing.sequence import skipgrams, pad_sequences\n",
    "from tensorflow.python.keras.utils.np_utils import to_categorical\n",
    "from tensorflow.python.keras.callbacks import TensorBoard, EarlyStopping, ModelCheckpoint\n",
    "# from tensorflow.python.keras.optimizers import Adam\n",
    "from sklearn.manifold import TSNE\n",
    "from sklearn.metrics.pairwise import cosine_similarity\n",
    "import gensim"
   ]
  },
  {
   "cell_type": "code",
   "execution_count": 9,
   "metadata": {},
   "outputs": [],
   "source": [
    "from tensorflow.python.keras.datasets import imdb"
   ]
  },
  {
   "cell_type": "code",
   "execution_count": 10,
   "metadata": {},
   "outputs": [],
   "source": [
    "from string import punctuation\n",
    "from nltk.corpus import stopwords\n",
    "from nltk.tokenize import word_tokenize\n",
    "from nltk.tokenize import sent_tokenize\n",
    "from nltk.stem import WordNetLemmatizer # takes into consideration the morphological analysis of the words\n",
    "from nltk.stem.porter import PorterStemmer # cutting off the end or the beginning of the word."
   ]
  },
  {
   "cell_type": "code",
   "execution_count": 11,
   "metadata": {},
   "outputs": [],
   "source": [
    "remove_terms = punctuation + '0123456789'"
   ]
  },
  {
   "cell_type": "code",
   "execution_count": 12,
   "metadata": {},
   "outputs": [],
   "source": [
    "num_words = 20000"
   ]
  },
  {
   "cell_type": "markdown",
   "metadata": {},
   "source": [
    "Dividing Datasets"
   ]
  },
  {
   "cell_type": "code",
   "execution_count": 13,
   "metadata": {},
   "outputs": [
    {
     "name": "stderr",
     "output_type": "stream",
     "text": [
      "<__array_function__ internals>:5: VisibleDeprecationWarning: Creating an ndarray from ragged nested sequences (which is a list-or-tuple of lists-or-tuples-or ndarrays with different lengths or shapes) is deprecated. If you meant to do this, you must specify 'dtype=object' when creating the ndarray\n",
      "/home/vormenesse/anaconda3/lib/python3.8/site-packages/tensorflow/python/keras/datasets/imdb.py:155: VisibleDeprecationWarning: Creating an ndarray from ragged nested sequences (which is a list-or-tuple of lists-or-tuples-or ndarrays with different lengths or shapes) is deprecated. If you meant to do this, you must specify 'dtype=object' when creating the ndarray\n",
      "  x_train, y_train = np.array(xs[:idx]), np.array(labels[:idx])\n",
      "/home/vormenesse/anaconda3/lib/python3.8/site-packages/tensorflow/python/keras/datasets/imdb.py:156: VisibleDeprecationWarning: Creating an ndarray from ragged nested sequences (which is a list-or-tuple of lists-or-tuples-or ndarrays with different lengths or shapes) is deprecated. If you meant to do this, you must specify 'dtype=object' when creating the ndarray\n",
      "  x_test, y_test = np.array(xs[idx:]), np.array(labels[idx:])\n"
     ]
    }
   ],
   "source": [
    "(X_train, y_train), (X_test, y_test) = imdb.load_data(num_words=num_words)"
   ]
  },
  {
   "cell_type": "code",
   "execution_count": 14,
   "metadata": {},
   "outputs": [
    {
     "name": "stdout",
     "output_type": "stream",
     "text": [
      "25000 train_data\n",
      "25000 test_data\n"
     ]
    }
   ],
   "source": [
    "print(len(X_train),'train_data')\n",
    "print(len(X_test),'test_data')"
   ]
  },
  {
   "cell_type": "code",
   "execution_count": 15,
   "metadata": {},
   "outputs": [
    {
     "name": "stdout",
     "output_type": "stream",
     "text": [
      "text already in tokens:\n"
     ]
    },
    {
     "data": {
      "text/plain": [
       "(218, 189, 141)"
      ]
     },
     "execution_count": 15,
     "metadata": {},
     "output_type": "execute_result"
    }
   ],
   "source": [
    "print('text already in tokens:')\n",
    "len(X_train[0]),len(X_train[1]),len(X_train[2])"
   ]
  },
  {
   "cell_type": "markdown",
   "metadata": {},
   "source": [
    "Setting some parameters"
   ]
  },
  {
   "cell_type": "code",
   "execution_count": 16,
   "metadata": {},
   "outputs": [],
   "source": [
    "max_len = 256\n",
    "embedding_size = 10\n",
    "batch_size = 128\n",
    "n_epochs = 10"
   ]
  },
  {
   "cell_type": "code",
   "execution_count": 17,
   "metadata": {},
   "outputs": [],
   "source": [
    "pad = 'pre' #'post' # with you want to pad pre or post the text"
   ]
  },
  {
   "cell_type": "code",
   "execution_count": 18,
   "metadata": {},
   "outputs": [],
   "source": [
    "X_train_pad = pad_sequences(X_train, maxlen=max_len, padding=pad, truncating=pad)\n",
    "X_test_pad = pad_sequences(X_test, maxlen=max_len, padding=pad, truncating=pad)"
   ]
  },
  {
   "cell_type": "markdown",
   "metadata": {},
   "source": [
    "- Creating Model - "
   ]
  },
  {
   "cell_type": "code",
   "execution_count": 14,
   "metadata": {},
   "outputs": [],
   "source": [
    "model = Sequential()\n",
    "model.add(Embedding(\n",
    "    input_dim=num_words,output_dim=embedding_size,input_length=max_len,\n",
    "    name='layer_embedding'                \n",
    "    ))\n",
    "model.add(Conv1D(filters=128, kernel_size=3, padding='same', activation='relu'))\n",
    "model.add(MaxPooling1D(pool_size=2))\n",
    "model.add(Conv1D(filters=128, kernel_size=3, padding='same', activation='relu'))\n",
    "model.add(MaxPooling1D(pool_size=2))\n",
    "model.add(Conv1D(filters=128, kernel_size=3, padding='same', activation='relu'))\n",
    "model.add(MaxPooling1D(pool_size=2))\n",
    "model.add(Dropout(0.5))\n",
    "model.add(Flatten())\n",
    "model.add(Dense(250,activation='relu'))\n",
    "model.add(Dense(1,activation='sigmoid',name='classification'))"
   ]
  },
  {
   "cell_type": "code",
   "execution_count": 15,
   "metadata": {},
   "outputs": [
    {
     "name": "stdout",
     "output_type": "stream",
     "text": [
      "Model: \"sequential\"\n",
      "_________________________________________________________________\n",
      "Layer (type)                 Output Shape              Param #   \n",
      "=================================================================\n",
      "layer_embedding (Embedding)  (None, 256, 10)           200000    \n",
      "_________________________________________________________________\n",
      "conv1d (Conv1D)              (None, 256, 128)          3968      \n",
      "_________________________________________________________________\n",
      "max_pooling1d (MaxPooling1D) (None, 128, 128)          0         \n",
      "_________________________________________________________________\n",
      "conv1d_1 (Conv1D)            (None, 128, 128)          49280     \n",
      "_________________________________________________________________\n",
      "max_pooling1d_1 (MaxPooling1 (None, 64, 128)           0         \n",
      "_________________________________________________________________\n",
      "conv1d_2 (Conv1D)            (None, 64, 128)           49280     \n",
      "_________________________________________________________________\n",
      "max_pooling1d_2 (MaxPooling1 (None, 32, 128)           0         \n",
      "_________________________________________________________________\n",
      "dropout (Dropout)            (None, 32, 128)           0         \n",
      "_________________________________________________________________\n",
      "flatten (Flatten)            (None, 4096)              0         \n",
      "_________________________________________________________________\n",
      "dense (Dense)                (None, 250)               1024250   \n",
      "_________________________________________________________________\n",
      "classification (Dense)       (None, 1)                 251       \n",
      "=================================================================\n",
      "Total params: 1,327,029\n",
      "Trainable params: 1,327,029\n",
      "Non-trainable params: 0\n",
      "_________________________________________________________________\n"
     ]
    }
   ],
   "source": [
    "model.summary()"
   ]
  },
  {
   "cell_type": "code",
   "execution_count": 16,
   "metadata": {},
   "outputs": [],
   "source": [
    "model.compile(optimizer='rmsprop',loss='binary_crossentropy', metrics=['accuracy'])"
   ]
  },
  {
   "cell_type": "code",
   "execution_count": 17,
   "metadata": {},
   "outputs": [],
   "source": [
    "callback_early_stopping = EarlyStopping(monitor='val_loss',patience=5,verbose=1)"
   ]
  },
  {
   "cell_type": "code",
   "execution_count": 18,
   "metadata": {},
   "outputs": [
    {
     "name": "stdout",
     "output_type": "stream",
     "text": [
      "Epoch 1/10\n",
      "186/186 [==============================] - 8s 45ms/step - loss: 0.5546 - accuracy: 0.6793 - val_loss: 0.3523 - val_accuracy: 0.8528\n",
      "Epoch 2/10\n",
      "186/186 [==============================] - 5s 25ms/step - loss: 0.2961 - accuracy: 0.8780 - val_loss: 0.2993 - val_accuracy: 0.8784\n",
      "Epoch 3/10\n",
      "186/186 [==============================] - 4s 24ms/step - loss: 0.2267 - accuracy: 0.9096 - val_loss: 0.4257 - val_accuracy: 0.8376\n",
      "Epoch 4/10\n",
      "186/186 [==============================] - 4s 24ms/step - loss: 0.1879 - accuracy: 0.9268 - val_loss: 0.2868 - val_accuracy: 0.9016\n",
      "Epoch 5/10\n",
      "186/186 [==============================] - 4s 24ms/step - loss: 0.1583 - accuracy: 0.9384 - val_loss: 0.3319 - val_accuracy: 0.8824\n",
      "Epoch 6/10\n",
      "186/186 [==============================] - 4s 24ms/step - loss: 0.1336 - accuracy: 0.9504 - val_loss: 0.3374 - val_accuracy: 0.8808\n",
      "Epoch 7/10\n",
      "186/186 [==============================] - 4s 24ms/step - loss: 0.1143 - accuracy: 0.9579 - val_loss: 0.3179 - val_accuracy: 0.8880\n",
      "Epoch 8/10\n",
      "186/186 [==============================] - 4s 24ms/step - loss: 0.0986 - accuracy: 0.9641 - val_loss: 0.3689 - val_accuracy: 0.8752\n",
      "Epoch 9/10\n",
      "186/186 [==============================] - 4s 23ms/step - loss: 0.0865 - accuracy: 0.9696 - val_loss: 0.3763 - val_accuracy: 0.8856\n",
      "Epoch 00009: early stopping\n"
     ]
    },
    {
     "data": {
      "text/plain": [
       "<tensorflow.python.keras.callbacks.History at 0x7fe25c1a49a0>"
      ]
     },
     "execution_count": 18,
     "metadata": {},
     "output_type": "execute_result"
    }
   ],
   "source": [
    "model.fit(\n",
    "    X_train_pad, y_train,\n",
    "    epochs=n_epochs,\n",
    "    batch_size=batch_size,\n",
    "    validation_split=0.05,\n",
    "    callbacks=[callback_early_stopping]\n",
    ")"
   ]
  },
  {
   "cell_type": "code",
   "execution_count": 20,
   "metadata": {},
   "outputs": [
    {
     "name": "stdout",
     "output_type": "stream",
     "text": [
      "782/782 [==============================] - 4s 5ms/step - loss: 0.4162 - accuracy: 0.8702\n"
     ]
    }
   ],
   "source": [
    "eval_ = model.evaluate(X_test_pad, y_test)"
   ]
  },
  {
   "cell_type": "code",
   "execution_count": 21,
   "metadata": {},
   "outputs": [
    {
     "name": "stdout",
     "output_type": "stream",
     "text": [
      "Loss 0.416238933801651\n",
      "Accuracy 0.8701599836349487\n"
     ]
    }
   ],
   "source": [
    "print('Loss', eval_[0])\n",
    "print('Accuracy', eval_[1])"
   ]
  },
  {
   "cell_type": "raw",
   "metadata": {},
   "source": [
    "model.save('Sentiment-CNN')"
   ]
  },
  {
   "cell_type": "markdown",
   "metadata": {},
   "source": [
    "### Combining all approaches"
   ]
  },
  {
   "cell_type": "code",
   "execution_count": 48,
   "metadata": {},
   "outputs": [],
   "source": [
    "model = Sequential()\n",
    "model.add(Embedding(\n",
    "    input_dim=num_words,output_dim=embedding_size,input_length=max_len,\n",
    "    name='layer_embedding'                \n",
    "    ))\n",
    "model.add(Conv1D(filters=128, kernel_size=5, padding='same', activation='relu'))\n",
    "model.add(MaxPooling1D(pool_size=3))\n",
    "model.add(Dropout(0.5))\n",
    "model.add(Conv1D(filters=256, kernel_size=5, padding='same', activation='relu'))\n",
    "model.add(MaxPooling1D(pool_size=3))\n",
    "model.add(Dropout(0.5))\n",
    "model.add(Conv1D(filters=128, kernel_size=5, padding='same', activation='relu'))\n",
    "model.add(MaxPooling1D(pool_size=3))\n",
    "model.add(Dropout(0.5))\n",
    "model.add(CuDNNLSTM(256))\n",
    "model.add(Dropout(0.5))\n",
    "model.add(Dense(1,activation='sigmoid',name='classification'))"
   ]
  },
  {
   "cell_type": "code",
   "execution_count": 49,
   "metadata": {},
   "outputs": [
    {
     "name": "stdout",
     "output_type": "stream",
     "text": [
      "Model: \"sequential_5\"\n",
      "_________________________________________________________________\n",
      "Layer (type)                 Output Shape              Param #   \n",
      "=================================================================\n",
      "layer_embedding (Embedding)  (None, 256, 10)           200000    \n",
      "_________________________________________________________________\n",
      "conv1d_10 (Conv1D)           (None, 256, 128)          6528      \n",
      "_________________________________________________________________\n",
      "max_pooling1d_10 (MaxPooling (None, 85, 128)           0         \n",
      "_________________________________________________________________\n",
      "dropout_4 (Dropout)          (None, 85, 128)           0         \n",
      "_________________________________________________________________\n",
      "conv1d_11 (Conv1D)           (None, 85, 256)           164096    \n",
      "_________________________________________________________________\n",
      "max_pooling1d_11 (MaxPooling (None, 28, 256)           0         \n",
      "_________________________________________________________________\n",
      "dropout_5 (Dropout)          (None, 28, 256)           0         \n",
      "_________________________________________________________________\n",
      "conv1d_12 (Conv1D)           (None, 28, 128)           163968    \n",
      "_________________________________________________________________\n",
      "max_pooling1d_12 (MaxPooling (None, 9, 128)            0         \n",
      "_________________________________________________________________\n",
      "dropout_6 (Dropout)          (None, 9, 128)            0         \n",
      "_________________________________________________________________\n",
      "cu_dnnlstm_5 (CuDNNLSTM)     (None, 256)               395264    \n",
      "_________________________________________________________________\n",
      "dropout_7 (Dropout)          (None, 256)               0         \n",
      "_________________________________________________________________\n",
      "classification (Dense)       (None, 1)                 257       \n",
      "=================================================================\n",
      "Total params: 930,113\n",
      "Trainable params: 930,113\n",
      "Non-trainable params: 0\n",
      "_________________________________________________________________\n"
     ]
    }
   ],
   "source": [
    "model.summary()"
   ]
  },
  {
   "cell_type": "code",
   "execution_count": 50,
   "metadata": {},
   "outputs": [],
   "source": [
    "model.compile(optimizer='rmsprop',loss='binary_crossentropy', metrics=['accuracy'])"
   ]
  },
  {
   "cell_type": "code",
   "execution_count": 51,
   "metadata": {},
   "outputs": [],
   "source": [
    "callback_early_stopping = EarlyStopping(monitor='val_loss',patience=5,verbose=1)"
   ]
  },
  {
   "cell_type": "code",
   "execution_count": 52,
   "metadata": {},
   "outputs": [
    {
     "name": "stdout",
     "output_type": "stream",
     "text": [
      "Epoch 1/10\n",
      "186/186 [==============================] - 12s 64ms/step - loss: 0.5515 - accuracy: 0.6832 - val_loss: 0.3557 - val_accuracy: 0.8488\n",
      "Epoch 2/10\n",
      "186/186 [==============================] - 6s 32ms/step - loss: 0.2995 - accuracy: 0.8776 - val_loss: 0.2986 - val_accuracy: 0.8832\n",
      "Epoch 3/10\n",
      "186/186 [==============================] - 6s 31ms/step - loss: 0.2226 - accuracy: 0.9135 - val_loss: 0.3527 - val_accuracy: 0.8536\n",
      "Epoch 4/10\n",
      "186/186 [==============================] - 6s 30ms/step - loss: 0.1741 - accuracy: 0.9349 - val_loss: 0.3993 - val_accuracy: 0.8376\n",
      "Epoch 5/10\n",
      "186/186 [==============================] - 6s 30ms/step - loss: 0.1434 - accuracy: 0.9477 - val_loss: 0.2719 - val_accuracy: 0.8992\n",
      "Epoch 6/10\n",
      "186/186 [==============================] - 6s 30ms/step - loss: 0.1163 - accuracy: 0.9577 - val_loss: 0.3394 - val_accuracy: 0.8744\n",
      "Epoch 7/10\n",
      "186/186 [==============================] - 6s 30ms/step - loss: 0.0941 - accuracy: 0.9672 - val_loss: 0.3127 - val_accuracy: 0.8936\n",
      "Epoch 8/10\n",
      "186/186 [==============================] - 6s 30ms/step - loss: 0.0774 - accuracy: 0.9737 - val_loss: 0.3478 - val_accuracy: 0.8920\n",
      "Epoch 9/10\n",
      "186/186 [==============================] - 6s 30ms/step - loss: 0.0661 - accuracy: 0.9783 - val_loss: 0.3912 - val_accuracy: 0.8800\n",
      "Epoch 10/10\n",
      "186/186 [==============================] - 6s 30ms/step - loss: 0.0524 - accuracy: 0.9822 - val_loss: 0.5619 - val_accuracy: 0.8632\n",
      "Epoch 00010: early stopping\n"
     ]
    },
    {
     "data": {
      "text/plain": [
       "<tensorflow.python.keras.callbacks.History at 0x7fe21c5075e0>"
      ]
     },
     "execution_count": 52,
     "metadata": {},
     "output_type": "execute_result"
    }
   ],
   "source": [
    "model.fit(\n",
    "    X_train_pad, y_train,\n",
    "    epochs=n_epochs,\n",
    "    batch_size=batch_size,\n",
    "    validation_split=0.05,\n",
    "    callbacks=[callback_early_stopping]\n",
    ")"
   ]
  },
  {
   "cell_type": "code",
   "execution_count": 53,
   "metadata": {},
   "outputs": [
    {
     "name": "stdout",
     "output_type": "stream",
     "text": [
      "782/782 [==============================] - 7s 8ms/step - loss: 0.6871 - accuracy: 0.8304\n"
     ]
    }
   ],
   "source": [
    "eval_ = model.evaluate(X_test_pad, y_test)"
   ]
  },
  {
   "cell_type": "code",
   "execution_count": 54,
   "metadata": {},
   "outputs": [
    {
     "name": "stdout",
     "output_type": "stream",
     "text": [
      "Loss 0.6870551705360413\n",
      "Accuracy 0.8304399847984314\n"
     ]
    }
   ],
   "source": [
    "print('Loss', eval_[0])\n",
    "print('Accuracy', eval_[1])"
   ]
  },
  {
   "cell_type": "markdown",
   "metadata": {},
   "source": [
    "### Trying Something New"
   ]
  },
  {
   "cell_type": "code",
   "execution_count": 66,
   "metadata": {},
   "outputs": [],
   "source": [
    "conv = []\n",
    "filter_sizes = [3,4,5]\n",
    "\n",
    "embedding_layer = Embedding(\n",
    "    input_dim=num_words,output_dim=embedding_size,input_length=max_len,\n",
    "    name='layer_embedding'                \n",
    "    )"
   ]
  },
  {
   "cell_type": "code",
   "execution_count": 67,
   "metadata": {},
   "outputs": [],
   "source": [
    "seq_input = Input(shape=(max_len,),dtype='int32')\n",
    "embed_seq = embedding_layer(seq_input)"
   ]
  },
  {
   "cell_type": "code",
   "execution_count": 68,
   "metadata": {},
   "outputs": [],
   "source": [
    "for f in filter_sizes:\n",
    "    _conv = Conv1D(filters=128, kernel_size=f, activation='relu')(embed_seq)\n",
    "    _pool = MaxPooling1D(5)(_conv)\n",
    "    conv.append(_pool)"
   ]
  },
  {
   "cell_type": "code",
   "execution_count": 69,
   "metadata": {},
   "outputs": [],
   "source": [
    "_concat = concatenate(conv, axis=1) # axis = 1 for performing the operation in columns with same size\n",
    "_conv1 = Conv1D(filters=128, kernel_size=5, activation='relu')(_concat)\n",
    "_pool1 = MaxPooling1D(5)(_conv1)\n",
    "_drop1 = Dropout(0.5)(_pool1)\n",
    "_conv2 = Conv1D(filters=128, kernel_size=5, activation='relu')(_drop1)\n",
    "_pool2 = MaxPooling1D(5)(_conv2)\n",
    "_drop2 = Dropout(0.5)(_pool2)\n",
    "_flat = Flatten()(_drop2)\n",
    "_drop3 = Dropout(0.5)(_flat)\n",
    "_dense = Dense(128,activation='relu')(_drop3)\n",
    "preds = Dense(1, activation='sigmoid')(_dense)\n",
    "model = Model(seq_input,preds)"
   ]
  },
  {
   "cell_type": "code",
   "execution_count": 70,
   "metadata": {},
   "outputs": [
    {
     "name": "stdout",
     "output_type": "stream",
     "text": [
      "Model: \"model\"\n",
      "__________________________________________________________________________________________________\n",
      "Layer (type)                    Output Shape         Param #     Connected to                     \n",
      "==================================================================================================\n",
      "input_3 (InputLayer)            [(None, 256)]        0                                            \n",
      "__________________________________________________________________________________________________\n",
      "layer_embedding (Embedding)     (None, 256, 10)      200000      input_3[0][0]                    \n",
      "__________________________________________________________________________________________________\n",
      "conv1d_22 (Conv1D)              (None, 254, 128)     3968        layer_embedding[0][0]            \n",
      "__________________________________________________________________________________________________\n",
      "conv1d_23 (Conv1D)              (None, 253, 128)     5248        layer_embedding[0][0]            \n",
      "__________________________________________________________________________________________________\n",
      "conv1d_24 (Conv1D)              (None, 252, 128)     6528        layer_embedding[0][0]            \n",
      "__________________________________________________________________________________________________\n",
      "max_pooling1d_23 (MaxPooling1D) (None, 50, 128)      0           conv1d_22[0][0]                  \n",
      "__________________________________________________________________________________________________\n",
      "max_pooling1d_24 (MaxPooling1D) (None, 50, 128)      0           conv1d_23[0][0]                  \n",
      "__________________________________________________________________________________________________\n",
      "max_pooling1d_25 (MaxPooling1D) (None, 50, 128)      0           conv1d_24[0][0]                  \n",
      "__________________________________________________________________________________________________\n",
      "concatenate_2 (Concatenate)     (None, 150, 128)     0           max_pooling1d_23[0][0]           \n",
      "                                                                 max_pooling1d_24[0][0]           \n",
      "                                                                 max_pooling1d_25[0][0]           \n",
      "__________________________________________________________________________________________________\n",
      "conv1d_25 (Conv1D)              (None, 146, 128)     82048       concatenate_2[0][0]              \n",
      "__________________________________________________________________________________________________\n",
      "max_pooling1d_26 (MaxPooling1D) (None, 29, 128)      0           conv1d_25[0][0]                  \n",
      "__________________________________________________________________________________________________\n",
      "dropout_11 (Dropout)            (None, 29, 128)      0           max_pooling1d_26[0][0]           \n",
      "__________________________________________________________________________________________________\n",
      "conv1d_26 (Conv1D)              (None, 25, 128)      82048       dropout_11[0][0]                 \n",
      "__________________________________________________________________________________________________\n",
      "max_pooling1d_27 (MaxPooling1D) (None, 5, 128)       0           conv1d_26[0][0]                  \n",
      "__________________________________________________________________________________________________\n",
      "dropout_12 (Dropout)            (None, 5, 128)       0           max_pooling1d_27[0][0]           \n",
      "__________________________________________________________________________________________________\n",
      "flatten_2 (Flatten)             (None, 640)          0           dropout_12[0][0]                 \n",
      "__________________________________________________________________________________________________\n",
      "dropout_13 (Dropout)            (None, 640)          0           flatten_2[0][0]                  \n",
      "__________________________________________________________________________________________________\n",
      "dense_3 (Dense)                 (None, 128)          82048       dropout_13[0][0]                 \n",
      "__________________________________________________________________________________________________\n",
      "dense_4 (Dense)                 (None, 1)            129         dense_3[0][0]                    \n",
      "==================================================================================================\n",
      "Total params: 462,017\n",
      "Trainable params: 462,017\n",
      "Non-trainable params: 0\n",
      "__________________________________________________________________________________________________\n"
     ]
    }
   ],
   "source": [
    "model.summary()"
   ]
  },
  {
   "cell_type": "code",
   "execution_count": 71,
   "metadata": {},
   "outputs": [],
   "source": [
    "model.compile(optimizer='rmsprop',loss='binary_crossentropy', metrics=['accuracy'])"
   ]
  },
  {
   "cell_type": "code",
   "execution_count": 72,
   "metadata": {},
   "outputs": [],
   "source": [
    "callback_early_stopping = EarlyStopping(monitor='val_loss',patience=5,verbose=1)"
   ]
  },
  {
   "cell_type": "code",
   "execution_count": 73,
   "metadata": {},
   "outputs": [
    {
     "name": "stdout",
     "output_type": "stream",
     "text": [
      "Epoch 1/10\n",
      "186/186 [==============================] - 15s 82ms/step - loss: 0.6402 - accuracy: 0.5877 - val_loss: 0.4459 - val_accuracy: 0.8112\n",
      "Epoch 2/10\n",
      "186/186 [==============================] - 7s 38ms/step - loss: 0.3744 - accuracy: 0.8373 - val_loss: 0.3283 - val_accuracy: 0.8680\n",
      "Epoch 3/10\n",
      "186/186 [==============================] - 7s 36ms/step - loss: 0.2615 - accuracy: 0.8992 - val_loss: 0.3313 - val_accuracy: 0.8544\n",
      "Epoch 4/10\n",
      "186/186 [==============================] - 7s 38ms/step - loss: 0.2009 - accuracy: 0.9243 - val_loss: 0.3179 - val_accuracy: 0.8784\n",
      "Epoch 5/10\n",
      "186/186 [==============================] - 7s 37ms/step - loss: 0.1634 - accuracy: 0.9392 - val_loss: 0.3001 - val_accuracy: 0.8864\n",
      "Epoch 6/10\n",
      "186/186 [==============================] - 7s 38ms/step - loss: 0.1300 - accuracy: 0.9535 - val_loss: 0.3565 - val_accuracy: 0.8776\n",
      "Epoch 7/10\n",
      "186/186 [==============================] - 7s 39ms/step - loss: 0.1083 - accuracy: 0.9620 - val_loss: 0.4747 - val_accuracy: 0.8600\n",
      "Epoch 8/10\n",
      "186/186 [==============================] - 7s 39ms/step - loss: 0.0853 - accuracy: 0.9697 - val_loss: 0.4835 - val_accuracy: 0.8808\n",
      "Epoch 9/10\n",
      "186/186 [==============================] - 7s 38ms/step - loss: 0.0710 - accuracy: 0.9760 - val_loss: 0.6070 - val_accuracy: 0.8520\n",
      "Epoch 10/10\n",
      "186/186 [==============================] - 7s 39ms/step - loss: 0.0550 - accuracy: 0.9817 - val_loss: 0.5726 - val_accuracy: 0.8632\n",
      "Epoch 00010: early stopping\n"
     ]
    },
    {
     "data": {
      "text/plain": [
       "<tensorflow.python.keras.callbacks.History at 0x7fe1c034ba60>"
      ]
     },
     "execution_count": 73,
     "metadata": {},
     "output_type": "execute_result"
    }
   ],
   "source": [
    "model.fit(\n",
    "    X_train_pad, y_train,\n",
    "    epochs=n_epochs,\n",
    "    batch_size=batch_size,\n",
    "    validation_split=0.05,\n",
    "    callbacks=[callback_early_stopping]\n",
    ")"
   ]
  },
  {
   "cell_type": "code",
   "execution_count": 74,
   "metadata": {},
   "outputs": [
    {
     "name": "stdout",
     "output_type": "stream",
     "text": [
      "782/782 [==============================] - 7s 9ms/step - loss: 0.6264 - accuracy: 0.8431\n"
     ]
    }
   ],
   "source": [
    "eval_ = model.evaluate(X_test_pad, y_test)"
   ]
  },
  {
   "cell_type": "code",
   "execution_count": 76,
   "metadata": {},
   "outputs": [
    {
     "name": "stdout",
     "output_type": "stream",
     "text": [
      "Loss 0.626409113407135\n",
      "Accuracy 0.8430799841880798\n"
     ]
    }
   ],
   "source": [
    "print('Loss', eval_[0])\n",
    "print('Accuracy', eval_[1])"
   ]
  },
  {
   "cell_type": "markdown",
   "metadata": {},
   "source": [
    "### Different"
   ]
  },
  {
   "cell_type": "code",
   "execution_count": 77,
   "metadata": {},
   "outputs": [],
   "source": [
    "conv = []\n",
    "filter_sizes = [3,4,5]\n",
    "\n",
    "embedding_layer = Embedding(\n",
    "    input_dim=num_words,output_dim=embedding_size,input_length=max_len,\n",
    "    name='layer_embedding'                \n",
    "    )"
   ]
  },
  {
   "cell_type": "code",
   "execution_count": 78,
   "metadata": {},
   "outputs": [],
   "source": [
    "seq_input = Input(shape=(max_len,),dtype='int32')\n",
    "embed_seq = embedding_layer(seq_input)"
   ]
  },
  {
   "cell_type": "code",
   "execution_count": 79,
   "metadata": {},
   "outputs": [],
   "source": [
    "for f in filter_sizes:\n",
    "    _conv = Conv1D(filters=256, kernel_size=f, activation='relu')(embed_seq)\n",
    "    _pool = MaxPooling1D(5)(_conv)\n",
    "    conv.append(_pool)"
   ]
  },
  {
   "cell_type": "code",
   "execution_count": 80,
   "metadata": {},
   "outputs": [],
   "source": [
    "_concat = concatenate(conv, axis=1) # axis = 1 for performing the operation in columns with same size\n",
    "_conv1 = Conv1D(filters=128, kernel_size=5, activation='relu')(_concat)\n",
    "_pool1 = MaxPooling1D(5)(_conv1)\n",
    "_drop1 = Dropout(0.5)(_pool1)\n",
    "_conv2 = Conv1D(filters=128, kernel_size=5, activation='relu')(_drop1)\n",
    "_pool2 = MaxPooling1D(5)(_conv2)\n",
    "_drop2 = Dropout(0.5)(_pool2)\n",
    "_flat = Flatten()(_drop2)\n",
    "_drop3 = Dropout(0.5)(_flat)\n",
    "_dense = Dense(128,activation='relu')(_drop3)\n",
    "preds = Dense(1, activation='sigmoid')(_dense)\n",
    "model = Model(seq_input,preds)"
   ]
  },
  {
   "cell_type": "code",
   "execution_count": 81,
   "metadata": {},
   "outputs": [
    {
     "name": "stdout",
     "output_type": "stream",
     "text": [
      "Model: \"model_1\"\n",
      "__________________________________________________________________________________________________\n",
      "Layer (type)                    Output Shape         Param #     Connected to                     \n",
      "==================================================================================================\n",
      "input_4 (InputLayer)            [(None, 256)]        0                                            \n",
      "__________________________________________________________________________________________________\n",
      "layer_embedding (Embedding)     (None, 256, 10)      200000      input_4[0][0]                    \n",
      "__________________________________________________________________________________________________\n",
      "conv1d_27 (Conv1D)              (None, 254, 256)     7936        layer_embedding[0][0]            \n",
      "__________________________________________________________________________________________________\n",
      "conv1d_28 (Conv1D)              (None, 253, 256)     10496       layer_embedding[0][0]            \n",
      "__________________________________________________________________________________________________\n",
      "conv1d_29 (Conv1D)              (None, 252, 256)     13056       layer_embedding[0][0]            \n",
      "__________________________________________________________________________________________________\n",
      "max_pooling1d_28 (MaxPooling1D) (None, 50, 256)      0           conv1d_27[0][0]                  \n",
      "__________________________________________________________________________________________________\n",
      "max_pooling1d_29 (MaxPooling1D) (None, 50, 256)      0           conv1d_28[0][0]                  \n",
      "__________________________________________________________________________________________________\n",
      "max_pooling1d_30 (MaxPooling1D) (None, 50, 256)      0           conv1d_29[0][0]                  \n",
      "__________________________________________________________________________________________________\n",
      "concatenate_3 (Concatenate)     (None, 150, 256)     0           max_pooling1d_28[0][0]           \n",
      "                                                                 max_pooling1d_29[0][0]           \n",
      "                                                                 max_pooling1d_30[0][0]           \n",
      "__________________________________________________________________________________________________\n",
      "conv1d_30 (Conv1D)              (None, 146, 128)     163968      concatenate_3[0][0]              \n",
      "__________________________________________________________________________________________________\n",
      "max_pooling1d_31 (MaxPooling1D) (None, 29, 128)      0           conv1d_30[0][0]                  \n",
      "__________________________________________________________________________________________________\n",
      "dropout_14 (Dropout)            (None, 29, 128)      0           max_pooling1d_31[0][0]           \n",
      "__________________________________________________________________________________________________\n",
      "conv1d_31 (Conv1D)              (None, 25, 128)      82048       dropout_14[0][0]                 \n",
      "__________________________________________________________________________________________________\n",
      "max_pooling1d_32 (MaxPooling1D) (None, 5, 128)       0           conv1d_31[0][0]                  \n",
      "__________________________________________________________________________________________________\n",
      "dropout_15 (Dropout)            (None, 5, 128)       0           max_pooling1d_32[0][0]           \n",
      "__________________________________________________________________________________________________\n",
      "flatten_3 (Flatten)             (None, 640)          0           dropout_15[0][0]                 \n",
      "__________________________________________________________________________________________________\n",
      "dropout_16 (Dropout)            (None, 640)          0           flatten_3[0][0]                  \n",
      "__________________________________________________________________________________________________\n",
      "dense_5 (Dense)                 (None, 128)          82048       dropout_16[0][0]                 \n",
      "__________________________________________________________________________________________________\n",
      "dense_6 (Dense)                 (None, 1)            129         dense_5[0][0]                    \n",
      "==================================================================================================\n",
      "Total params: 559,681\n",
      "Trainable params: 559,681\n",
      "Non-trainable params: 0\n",
      "__________________________________________________________________________________________________\n"
     ]
    }
   ],
   "source": [
    "model.summary()"
   ]
  },
  {
   "cell_type": "code",
   "execution_count": 82,
   "metadata": {},
   "outputs": [],
   "source": [
    "model.compile(optimizer='rmsprop',loss='binary_crossentropy', metrics=['accuracy'])"
   ]
  },
  {
   "cell_type": "code",
   "execution_count": 83,
   "metadata": {},
   "outputs": [],
   "source": [
    "callback_early_stopping = EarlyStopping(monitor='val_loss',patience=5,verbose=1)"
   ]
  },
  {
   "cell_type": "code",
   "execution_count": 84,
   "metadata": {},
   "outputs": [
    {
     "name": "stdout",
     "output_type": "stream",
     "text": [
      "Epoch 1/10\n",
      "186/186 [==============================] - 17s 91ms/step - loss: 0.6478 - accuracy: 0.5723 - val_loss: 0.4153 - val_accuracy: 0.8424\n",
      "Epoch 2/10\n",
      "186/186 [==============================] - 11s 61ms/step - loss: 0.3291 - accuracy: 0.8612 - val_loss: 0.2887 - val_accuracy: 0.8896\n",
      "Epoch 3/10\n",
      "186/186 [==============================] - 11s 57ms/step - loss: 0.2366 - accuracy: 0.9088 - val_loss: 0.2767 - val_accuracy: 0.8840\n",
      "Epoch 4/10\n",
      "186/186 [==============================] - 11s 59ms/step - loss: 0.1843 - accuracy: 0.9303 - val_loss: 0.3708 - val_accuracy: 0.8504\n",
      "Epoch 5/10\n",
      "186/186 [==============================] - 11s 60ms/step - loss: 0.1517 - accuracy: 0.9434 - val_loss: 0.3528 - val_accuracy: 0.8584\n",
      "Epoch 6/10\n",
      "186/186 [==============================] - 11s 60ms/step - loss: 0.1204 - accuracy: 0.9567 - val_loss: 0.3695 - val_accuracy: 0.8776\n",
      "Epoch 7/10\n",
      "186/186 [==============================] - 11s 57ms/step - loss: 0.0935 - accuracy: 0.9680 - val_loss: 0.4366 - val_accuracy: 0.8656\n",
      "Epoch 8/10\n",
      "186/186 [==============================] - 11s 60ms/step - loss: 0.0741 - accuracy: 0.9747 - val_loss: 0.4219 - val_accuracy: 0.8704\n",
      "Epoch 00008: early stopping\n"
     ]
    },
    {
     "data": {
      "text/plain": [
       "<tensorflow.python.keras.callbacks.History at 0x7fe1b069a220>"
      ]
     },
     "execution_count": 84,
     "metadata": {},
     "output_type": "execute_result"
    }
   ],
   "source": [
    "model.fit(\n",
    "    X_train_pad, y_train,\n",
    "    epochs=n_epochs,\n",
    "    batch_size=batch_size,\n",
    "    validation_split=0.05,\n",
    "    callbacks=[callback_early_stopping]\n",
    ")"
   ]
  },
  {
   "cell_type": "code",
   "execution_count": 85,
   "metadata": {},
   "outputs": [
    {
     "name": "stdout",
     "output_type": "stream",
     "text": [
      "782/782 [==============================] - 9s 11ms/step - loss: 0.4778 - accuracy: 0.8456\n"
     ]
    }
   ],
   "source": [
    "eval_ = model.evaluate(X_test_pad, y_test)"
   ]
  },
  {
   "cell_type": "code",
   "execution_count": 86,
   "metadata": {},
   "outputs": [
    {
     "name": "stdout",
     "output_type": "stream",
     "text": [
      "Loss 0.477815181016922\n",
      "Accuracy 0.8456000089645386\n"
     ]
    }
   ],
   "source": [
    "print('Loss', eval_[0])\n",
    "print('Accuracy', eval_[1])"
   ]
  },
  {
   "cell_type": "markdown",
   "metadata": {},
   "source": [
    "# Auto Keras"
   ]
  },
  {
   "cell_type": "code",
   "execution_count": 19,
   "metadata": {},
   "outputs": [],
   "source": [
    "%load_ext autoreload\n",
    "%autoreload 2"
   ]
  },
  {
   "cell_type": "code",
   "execution_count": 20,
   "metadata": {},
   "outputs": [],
   "source": [
    "import autokeras as ak"
   ]
  },
  {
   "cell_type": "code",
   "execution_count": 52,
   "metadata": {
    "scrolled": true,
    "tags": []
   },
   "outputs": [
    {
     "name": "stdout",
     "output_type": "stream",
     "text": [
      "Trial 2 Complete [00h 00m 47s]\n",
      "val_accuracy: 0.5026167631149292\n",
      "\n",
      "Best val_accuracy So Far: 0.5346215963363647\n",
      "Total elapsed time: 00h 01m 18s\n",
      "INFO:tensorflow:Oracle triggered exit\n",
      "Epoch 1/20\n",
      "782/782 [==============================] - 4s 3ms/step - loss: 0.7620 - accuracy: 0.5062\n",
      "Epoch 2/20\n",
      "782/782 [==============================] - 2s 3ms/step - loss: 0.6927 - accuracy: 0.5266\n",
      "Epoch 3/20\n",
      "782/782 [==============================] - 2s 3ms/step - loss: 0.6878 - accuracy: 0.5383\n",
      "Epoch 4/20\n",
      "782/782 [==============================] - 2s 3ms/step - loss: 0.6848 - accuracy: 0.5449\n",
      "Epoch 5/20\n",
      "782/782 [==============================] - 2s 3ms/step - loss: 0.6828 - accuracy: 0.5542\n",
      "Epoch 6/20\n",
      "782/782 [==============================] - 2s 3ms/step - loss: 0.6799 - accuracy: 0.5575\n",
      "Epoch 7/20\n",
      "782/782 [==============================] - 2s 3ms/step - loss: 0.6798 - accuracy: 0.5600\n",
      "Epoch 8/20\n",
      "782/782 [==============================] - 2s 3ms/step - loss: 0.6762 - accuracy: 0.5646\n",
      "Epoch 9/20\n",
      "782/782 [==============================] - 2s 3ms/step - loss: 0.6717 - accuracy: 0.5750\n",
      "Epoch 10/20\n",
      "782/782 [==============================] - 2s 3ms/step - loss: 0.6704 - accuracy: 0.5791\n",
      "Epoch 11/20\n",
      "782/782 [==============================] - 2s 3ms/step - loss: 0.6680 - accuracy: 0.5801\n",
      "Epoch 12/20\n",
      "782/782 [==============================] - 2s 3ms/step - loss: 0.6652 - accuracy: 0.5877\n",
      "Epoch 13/20\n",
      "782/782 [==============================] - 2s 3ms/step - loss: 0.6631 - accuracy: 0.5880\n",
      "Epoch 14/20\n",
      "782/782 [==============================] - 2s 3ms/step - loss: 0.6631 - accuracy: 0.5893\n",
      "Epoch 15/20\n",
      "782/782 [==============================] - 2s 3ms/step - loss: 0.6595 - accuracy: 0.5948\n",
      "Epoch 16/20\n",
      "782/782 [==============================] - 2s 3ms/step - loss: 0.6571 - accuracy: 0.6008\n",
      "Epoch 17/20\n",
      "782/782 [==============================] - 2s 3ms/step - loss: 0.6571 - accuracy: 0.6020\n",
      "Epoch 18/20\n",
      "782/782 [==============================] - 2s 3ms/step - loss: 0.6555 - accuracy: 0.6040\n",
      "Epoch 19/20\n",
      "782/782 [==============================] - 2s 3ms/step - loss: 0.6530 - accuracy: 0.6024\n",
      "Epoch 20/20\n",
      "782/782 [==============================] - 2s 3ms/step - loss: 0.6508 - accuracy: 0.6104\n",
      "INFO:tensorflow:Assets written to: ./structured_data_classifier/best_model/assets\n"
     ]
    }
   ],
   "source": [
    "clf = ak.StructuredDataClassifier(max_trials=2000)\n",
    "clf.fit(X_train_pad, y_train, epochs=20)"
   ]
  },
  {
   "cell_type": "code",
   "execution_count": 53,
   "metadata": {},
   "outputs": [
    {
     "name": "stdout",
     "output_type": "stream",
     "text": [
      "782/782 [==============================] - 2s 2ms/step\n"
     ]
    }
   ],
   "source": [
    "results = clf.predict(X_test_pad)"
   ]
  },
  {
   "cell_type": "code",
   "execution_count": 54,
   "metadata": {},
   "outputs": [],
   "source": [
    "from sklearn.metrics import accuracy_score"
   ]
  },
  {
   "cell_type": "code",
   "execution_count": 55,
   "metadata": {},
   "outputs": [
    {
     "data": {
      "text/plain": [
       "0.51856"
      ]
     },
     "execution_count": 55,
     "metadata": {},
     "output_type": "execute_result"
    }
   ],
   "source": [
    "accuracy_score(y_test,results)"
   ]
  },
  {
   "cell_type": "code",
   "execution_count": null,
   "metadata": {},
   "outputs": [],
   "source": []
  }
 ],
 "metadata": {
  "kernelspec": {
   "display_name": "Python 3",
   "language": "python",
   "name": "python3"
  },
  "language_info": {
   "codemirror_mode": {
    "name": "ipython",
    "version": 3
   },
   "file_extension": ".py",
   "mimetype": "text/x-python",
   "name": "python",
   "nbconvert_exporter": "python",
   "pygments_lexer": "ipython3",
   "version": "3.8.5"
  }
 },
 "nbformat": 4,
 "nbformat_minor": 4
}
